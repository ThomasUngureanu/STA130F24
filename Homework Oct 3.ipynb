{
 "cells": [
  {
   "cell_type": "markdown",
   "id": "7e6c2845",
   "metadata": {},
   "source": [
    "Question 1"
   ]
  },
  {
   "cell_type": "markdown",
   "id": "60da651d",
   "metadata": {},
   "source": [
    "- Standard Deviation shows the variability in a singular data point.\n",
    "- Standard Error of the mean shows the variability of a sample mean. \n",
    "- SEM will always be smaller than SD because it is divided by the square root in the SEM equation. This results in the sample size increasing, total SEM decreases, resulting in a better estimate. "
   ]
  },
  {
   "cell_type": "markdown",
   "id": "e2ce521c",
   "metadata": {},
   "source": [
    "Question 2"
   ]
  },
  {
   "cell_type": "markdown",
   "id": "88055ca9",
   "metadata": {},
   "source": [
    "Using the following steps, we can answer the question,\n",
    "1. Calculate the standard error of the mean using the formula SEM = SD / root N where N is the sample size, and SD is the standard deviation of the sample.\n",
    "2. Finding the critical value for 95% confidence\n",
    "3. Multiply SEM by the critical value.\n",
    "4. Compute the confidence interval "
   ]
  },
  {
   "cell_type": "markdown",
   "id": "6e3d66a1",
   "metadata": {},
   "source": [
    "Question 3"
   ]
  },
  {
   "cell_type": "markdown",
   "id": "f9394e3f",
   "metadata": {},
   "source": [
    "Using Bootstrapped Sample Means\n",
    "\n",
    "1. Generate Bootstrap Samples:\n",
    "Using the distribution of the bootstrapped sample means to estimate the SEM. Here's how:\n",
    "\n",
    "- Randomly resample the dataset multiple times to create new datasets and then calculate the mean for each indivdual bootstrap sample.\n",
    "\n",
    "2. Compute the Standard Error from Bootstrapped Means:\n",
    "- The standard error of the bootstrapped sample means is the standard deviation of the means from the bootstrapped samples:\n",
    " \n",
    "3. Find the 95% Confidence Interval from Bootstrapped Data:\n",
    "- Percentile method: Sort the bootstrapped sample means and select the 2.5th and 97.5th percentiles of the means to form the confidence interval. \n",
    "\n",
    "- Using SEM: You can still use the calculated SEM from bootstrapping to build the interval by multiplying it by 1.96 (assuming the distribution of means is approximately normal).\n",
    "\n",
    "This approach provides 95% of the bootstrapped sample means. The percentile method is often preferred."
   ]
  },
  {
   "cell_type": "markdown",
   "id": "3141f532",
   "metadata": {},
   "source": [
    "Question 4"
   ]
  },
  {
   "cell_type": "code",
   "execution_count": 1,
   "id": "0ac68c69",
   "metadata": {},
   "outputs": [
    {
     "name": "stdout",
     "output_type": "stream",
     "text": [
      "95% Bootstrap Confidence Interval for the Mean: (47.276635751407504, 50.62851486440195)\n",
      "95% Bootstrap Confidence Interval for the Median: (46.98896304410711, 51.10922589709866)\n",
      "95% Bootstrap Confidence Interval for the Variance: (60.23075115573288, 102.67790080161201)\n"
     ]
    }
   ],
   "source": [
    "import numpy as np\n",
    "\n",
    "# Define a function for bootstrap sampling and calculating confidence intervals\n",
    "def bootstrap_confidence_interval(sample, stat_function, num_bootstrap_samples=1000, confidence_level=0.95):\n",
    "    \"\"\"\n",
    "    Computes the bootstrap confidence interval for a population parameter (mean, median, etc.).\n",
    "\n",
    "    Parameters:\n",
    "    - sample: The original dataset/sample (1D numpy array or list)\n",
    "    - stat_function: A function that calculates the population statistic (e.g., np.mean, np.median)\n",
    "    - num_bootstrap_samples: The number of bootstrap resamples to generate (default is 1000)\n",
    "    - confidence_level: The confidence level for the interval (default is 95%)\n",
    "\n",
    "    Returns:\n",
    "    - confidence_interval: A tuple representing the lower and upper bounds of the confidence interval\n",
    "    \"\"\"\n",
    "\n",
    "    # Store the bootstrapped sample statistics\n",
    "    bootstrap_stats = []\n",
    "\n",
    "    # Bootstrap resampling process\n",
    "    for _ in range(num_bootstrap_samples):\n",
    "        # Resample with replacement from the original sample\n",
    "        bootstrap_sample = np.random.choice(sample, size=len(sample), replace=True)\n",
    "        # Calculate the statistic (mean, median, etc.) for the resample\n",
    "        bootstrap_stat = stat_function(bootstrap_sample)\n",
    "        # Store the result\n",
    "        bootstrap_stats.append(bootstrap_stat)\n",
    "\n",
    "    # Convert the list to a numpy array for easy percentile calculations\n",
    "    bootstrap_stats = np.array(bootstrap_stats)\n",
    "\n",
    "    # Calculate the percentiles corresponding to the confidence level\n",
    "    lower_percentile = (1 - confidence_level) / 2 * 100\n",
    "    upper_percentile = (confidence_level + (1 - confidence_level) / 2) * 100\n",
    "    lower_bound = np.percentile(bootstrap_stats, lower_percentile)\n",
    "    upper_bound = np.percentile(bootstrap_stats, upper_percentile)\n",
    "\n",
    "    return (lower_bound, upper_bound)\n",
    "\n",
    "# Example: Generating a sample and calculating the bootstrap confidence interval for the mean\n",
    "np.random.seed(42)  # Set seed for reproducibility\n",
    "sample = np.random.normal(loc=50, scale=10, size=100)  # Generating a random normal sample\n",
    "\n",
    "# Call the function to compute a 95% confidence interval for the mean\n",
    "ci_mean = bootstrap_confidence_interval(sample, np.mean)\n",
    "print(f\"95% Bootstrap Confidence Interval for the Mean: {ci_mean}\")\n",
    "\n",
    "# To change this for another parameter, say the median, simply pass np.median as the stat_function argument\n",
    "ci_median = bootstrap_confidence_interval(sample, np.median)\n",
    "print(f\"95% Bootstrap Confidence Interval for the Median: {ci_median}\")\n",
    "\n",
    "# Similarly, you can compute for the variance or any other statistic:\n",
    "# For variance\n",
    "ci_variance = bootstrap_confidence_interval(sample, np.var)\n",
    "print(f\"95% Bootstrap Confidence Interval for the Variance: {ci_variance}\")\n"
   ]
  },
  {
   "cell_type": "markdown",
   "id": "dd9b7f40",
   "metadata": {},
   "source": [
    "- A random sample is generated using np.random.normal().\n",
    "\n",
    "- The bootstrap_confidence_interval() function is called with np.mean to compute the confidence interval for the mean.\n",
    "\n",
    "- To compute the confidence interval for other parameters like the median or variance, pass the appropriate function (e.g., np.median, np.var) as the second argument."
   ]
  },
  {
   "cell_type": "markdown",
   "id": "8e1d6525",
   "metadata": {},
   "source": [
    "Question 5"
   ]
  },
  {
   "cell_type": "markdown",
   "id": "f42e0684",
   "metadata": {},
   "source": [
    "The population parameter is the fixed with an unknown quantity we want to estimating.\n",
    "The sample statistic is our estimate of the parameter, which varies with each sample.\n",
    "Confidence intervals help connect the sample statistic and the population parameter, providing a range of values for the population parameter based on the sample."
   ]
  },
  {
   "cell_type": "markdown",
   "id": "a4fc90b9",
   "metadata": {},
   "source": [
    "Question 6"
   ]
  },
  {
   "cell_type": "markdown",
   "id": "5e533119",
   "metadata": {},
   "source": [
    "1.\n",
    "Step 1: Take the original sample and randomly select data points with replacements to create a new bootstrap sample. It’s the same size as your original sample, but it’s like a scrambled version with some repeated data points.\n",
    "\n",
    "Step 2: You do this process usually 1,000 or more times. For each of these new bootstrap samples, you calculate the statistic desired, like mean or median.\n",
    "\n",
    "Step 3: Looking at all the bootstrapped results to understand how much that statistic changes if you were to take  different samples from the population.\n",
    "\n",
    "2.\n",
    "The main point of bootstrapping is to estimate how uncertain your sample statistics are when you generalize a population. Basically, it gives you an idea of how reliable your estimates are.\n",
    "\n",
    "3.\n",
    "Step 1: Use the sample and create new samples by resampling from your original amount of people with replacement. For each of these resampled datasets, you calculate the average height.\n",
    "\n",
    "Step 2: After doing this all bootstrapped samples, you now have a certain number of averages. This shows how the average might change if you sampled more.\n",
    "\n",
    "Step 3: Use the bootstrapped data to make a confidence interval. An example can be caculating a 95% confidence interval for the average height based on these bootstrapped samples. This interval would be between 168 cm and 172 cm.\n",
    "\n",
    "Now, you compare your hypothesized guess to this interval. If your hypothesized average is inside this interval, then it’s the guess is accurate. If 170 cm falls outside this interval (let’s say the interval was 162 cm to 167 cm), then your guess might not be very accurate.\n",
    "\n"
   ]
  },
  {
   "cell_type": "markdown",
   "id": "798f64cf",
   "metadata": {},
   "source": [
    "Question 7"
   ]
  },
  {
   "cell_type": "markdown",
   "id": "62b2dce8",
   "metadata": {},
   "source": [
    "\n",
    "- Fail to reject the null hypothesis: If zero is inside the confidence interval, you cannot rule out the possibility the true effect could be zero.\n",
    "- Reject the null hypothesis: If zero is not in the confidence interval, you have enough evidence to say the true effect is different from zero.\n",
    "\n",
    "Even if the observed sample mean isn’t zero, the confidence interval helps you decide whether or not zero is a accurate value for the true effect in the population."
   ]
  },
  {
   "cell_type": "markdown",
   "id": "e459235e",
   "metadata": {},
   "source": [
    "Question 8"
   ]
  },
  {
   "cell_type": "code",
   "execution_count": 2,
   "id": "ee058cb4",
   "metadata": {},
   "outputs": [
    {
     "name": "stdout",
     "output_type": "stream",
     "text": [
      "95% Bootstrap Confidence Interval for the Mean Change in Health Score: (0.8, 5.5)\n"
     ]
    },
    {
     "data": {
      "image/png": "[encoded data removed]",
      "text/plain": [
       "<Figure size 640x480 with 1 Axes>"
      ]
     },
     "metadata": {},
     "output_type": "display_data"
    }
   ],
   "source": [
    "import numpy as np\n",
    "import pandas as pd\n",
    "import matplotlib.pyplot as plt\n",
    "\n",
    "# Load the dataset\n",
    "data = pd.DataFrame({\n",
    "    'PatientID': [1, 2, 3, 4, 5, 6, 7, 8, 9, 10],\n",
    "    'Age': [45, 34, 29, 52, 37, 41, 33, 48, 26, 39],\n",
    "    'Gender': ['M', 'F', 'M', 'F', 'M', 'F', 'M', 'F', 'M', 'F'],\n",
    "    'InitialHealthScore': [84, 78, 83, 81, 81, 80, 79, 85, 76, 83],\n",
    "    'FinalHealthScore': [86, 86, 80, 86, 84, 86, 86, 82, 83, 84]\n",
    "})\n",
    "\n",
    "# Calculate the change in health score (Final - Initial)\n",
    "data['HealthChange'] = data['FinalHealthScore'] - data['InitialHealthScore']\n",
    "\n",
    "# Define the bootstrapping function\n",
    "def bootstrap_confidence_interval(data, num_bootstrap_samples=1000, confidence_level=0.95):\n",
    "    \"\"\"\n",
    "    Bootstrap the data to generate a confidence interval for the mean of a sample.\n",
    "\n",
    "    Parameters:\n",
    "    - data: A 1D array or list of sample data\n",
    "    - num_bootstrap_samples: Number of bootstrap resamples (default is 1000)\n",
    "    - confidence_level: The desired confidence level (default is 95%)\n",
    "\n",
    "    Returns:\n",
    "    - confidence_interval: A tuple with the lower and upper bounds of the confidence interval\n",
    "    \"\"\"\n",
    "    # Generate bootstrapped means\n",
    "    bootstrap_means = []\n",
    "    for _ in range(num_bootstrap_samples):\n",
    "        # Resample with replacement from the original data\n",
    "        bootstrap_sample = np.random.choice(data, size=len(data), replace=True)\n",
    "        # Calculate the mean of the resample\n",
    "        bootstrap_means.append(np.mean(bootstrap_sample))\n",
    "    \n",
    "    # Calculate the confidence interval\n",
    "    lower_bound = np.percentile(bootstrap_means, (1 - confidence_level) / 2 * 100)\n",
    "    upper_bound = np.percentile(bootstrap_means, (confidence_level + (1 - confidence_level) / 2) * 100)\n",
    "    \n",
    "    return (lower_bound, upper_bound)\n",
    "\n",
    "# Perform bootstrapping on the health score changes\n",
    "health_changes = data['HealthChange'].values\n",
    "ci = bootstrap_confidence_interval(health_changes)\n",
    "\n",
    "# Print the results\n",
    "print(f\"95% Bootstrap Confidence Interval for the Mean Change in Health Score: {ci}\")\n",
    "\n",
    "# Plot the bootstrap distribution for visualization\n",
    "plt.hist(health_changes, bins=10, alpha=0.75, edgecolor='black')\n",
    "plt.title(\"Distribution of Health Score Changes\")\n",
    "plt.xlabel(\"Health Score Change\")\n",
    "plt.ylabel(\"Frequency\")\n",
    "plt.show()\n",
    "\n"
   ]
  },
  {
   "cell_type": "markdown",
   "id": "09c9bec5",
   "metadata": {},
   "source": [
    "Explanation of the Code:\n",
    "\n",
    "- Load Data: We create a pandas DataFrame with the provided patient data, including initial and final health scores.\n",
    "\n",
    "- Calculate Health Change: We compute the difference between the final and initial health scores for each patient.\n",
    "\n",
    "- Bootstrap Function: The bootstrap_confidence_interval function resamples the data (with replacement) and computes the mean of each resample to generate a distribution of the sample means.\n",
    "\n",
    "- Confidence Interval: The 95% confidence interval is determined from the bootstrapped distribution.\n",
    "\n",
    "- Interpretation: We print the confidence interval and visualize the distribution of health score changes."
   ]
  },
  {
   "cell_type": "markdown",
   "id": "f3dbc7aa",
   "metadata": {},
   "source": [
    "Question 9"
   ]
  },
  {
   "cell_type": "markdown",
   "id": "73f4ef29",
   "metadata": {},
   "source": [
    "Yes"
   ]
  },
  {
   "cell_type": "markdown",
   "id": "5a5e928c",
   "metadata": {},
   "source": [
    "ChatGPT link: https://chatgpt.com/share/66feb081-3288-800b-af31-3054471838ff"
   ]
  },
  {
   "cell_type": "code",
   "execution_count": null,
   "id": "f1622014",
   "metadata": {},
   "outputs": [],
   "source": []
  }
 ],
 "metadata": {
  "kernelspec": {
   "display_name": "Python 3 (ipykernel)",
   "language": "python",
   "name": "python3"
  },
  "language_info": {
   "codemirror_mode": {
    "name": "ipython",
    "version": 3
   },
   "file_extension": ".py",
   "mimetype": "text/x-python",
   "name": "python",
   "nbconvert_exporter": "python",
   "pygments_lexer": "ipython3",
   "version": "3.11.6"
  }
 },
 "nbformat": 4,
 "nbformat_minor": 5
}
