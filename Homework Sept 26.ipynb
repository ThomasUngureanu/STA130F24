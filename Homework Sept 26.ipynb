{
 "cells": [
  {
   "cell_type": "markdown",
   "id": "5350ba6c",
   "metadata": {},
   "source": [
    "Question 1"
   ]
  },
  {
   "cell_type": "code",
   "execution_count": 9,
   "id": "01fcb7bd",
   "metadata": {},
   "outputs": [
    {
     "data": {
      "application/vnd.plotly.v1+json": {
       "config": {
        "plotlyServerURL": "https://plot.ly"
       },
       "data": [
        {
         "alignmentgroup": "True",
         "bingroup": "x",
         "hovertemplate": "species=Adelie<br>flipper_length_mm=%{x}<br>count=%{y}<extra></extra>",
         "legendgroup": "Adelie",
         "marker": {
          "color": "#636efa",
          "pattern": {
           "shape": ""
          }
         },
         "name": "Adelie",
         "offsetgroup": "Adelie",
         "orientation": "v",
         "showlegend": true,
         "type": "histogram",
         "x": [
          181,
          186,
          195,
          null,
          193,
          190,
          181,
          195,
          193,
          190,
          186,
          180,
          182,
          191,
          198,
          185,
          195,
          197,
          184,
          194,
          174,
          180,
          189,
          185,
          180,
          187,
          183,
          187,
          172,
          180,
          178,
          178,
          188,
          184,
          195,
          196,
          190,
          180,
          181,
          184,
          182,
          195,
          186,
          196,
          185,
          190,
          182,
          179,
          190,
          191,
          186,
          188,
          190,
          200,
          187,
          191,
          186,
          193,
          181,
          194,
          185,
          195,
          185,
          192,
          184,
          192,
          195,
          188,
          190,
          198,
          190,
          190,
          196,
          197,
          190,
          195,
          191,
          184,
          187,
          195,
          189,
          196,
          187,
          193,
          191,
          194,
          190,
          189,
          189,
          190,
          202,
          205,
          185,
          186,
          187,
          208,
          190,
          196,
          178,
          192,
          192,
          203,
          183,
          190,
          193,
          184,
          199,
          190,
          181,
          197,
          198,
          191,
          193,
          197,
          191,
          196,
          188,
          199,
          189,
          189,
          187,
          198,
          176,
          202,
          186,
          199,
          191,
          195,
          191,
          210,
          190,
          197,
          193,
          199,
          187,
          190,
          191,
          200,
          185,
          193,
          193,
          187,
          188,
          190,
          192,
          185,
          190,
          184,
          195,
          193,
          187,
          201
         ],
         "xaxis": "x",
         "yaxis": "y"
        },
        {
         "alignmentgroup": "True",
         "hovertemplate": "species=Adelie<br>flipper_length_mm=%{x}<extra></extra>",
         "legendgroup": "Adelie",
         "marker": {
          "color": "#636efa"
         },
         "name": "Adelie",
         "notched": true,
         "offsetgroup": "Adelie",
         "showlegend": false,
         "type": "box",
         "x": [
          181,
          186,
          195,
          null,
          193,
          190,
          181,
          195,
          193,
          190,
          186,
          180,
          182,
          191,
          198,
          185,
          195,
          197,
          184,
          194,
          174,
          180,
          189,
          185,
          180,
          187,
          183,
          187,
          172,
          180,
          178,
          178,
          188,
          184,
          195,
          196,
          190,
          180,
          181,
          184,
          182,
          195,
          186,
          196,
          185,
          190,
          182,
          179,
          190,
          191,
          186,
          188,
          190,
          200,
          187,
          191,
          186,
          193,
          181,
          194,
          185,
          195,
          185,
          192,
          184,
          192,
          195,
          188,
          190,
          198,
          190,
          190,
          196,
          197,
          190,
          195,
          191,
          184,
          187,
          195,
          189,
          196,
          187,
          193,
          191,
          194,
          190,
          189,
          189,
          190,
          202,
          205,
          185,
          186,
          187,
          208,
          190,
          196,
          178,
          192,
          192,
          203,
          183,
          190,
          193,
          184,
          199,
          190,
          181,
          197,
          198,
          191,
          193,
          197,
          191,
          196,
          188,
          199,
          189,
          189,
          187,
          198,
          176,
          202,
          186,
          199,
          191,
          195,
          191,
          210,
          190,
          197,
          193,
          199,
          187,
          190,
          191,
          200,
          185,
          193,
          193,
          187,
          188,
          190,
          192,
          185,
          190,
          184,
          195,
          193,
          187,
          201
         ],
         "xaxis": "x2",
         "yaxis": "y2"
        },
        {
         "alignmentgroup": "True",
         "bingroup": "x",
         "hovertemplate": "species=Chinstrap<br>flipper_length_mm=%{x}<br>count=%{y}<extra></extra>",
         "legendgroup": "Chinstrap",
         "marker": {
          "color": "#EF553B",
          "pattern": {
           "shape": ""
          }
         },
         "name": "Chinstrap",
         "offsetgroup": "Chinstrap",
         "orientation": "v",
         "showlegend": true,
         "type": "histogram",
         "x": [
          192,
          196,
          193,
          188,
          197,
          198,
          178,
          197,
          195,
          198,
          193,
          194,
          185,
          201,
          190,
          201,
          197,
          181,
          190,
          195,
          181,
          191,
          187,
          193,
          195,
          197,
          200,
          200,
          191,
          205,
          187,
          201,
          187,
          203,
          195,
          199,
          195,
          210,
          192,
          205,
          210,
          187,
          196,
          196,
          196,
          201,
          190,
          212,
          187,
          198,
          199,
          201,
          193,
          203,
          187,
          197,
          191,
          203,
          202,
          194,
          206,
          189,
          195,
          207,
          202,
          193,
          210,
          198
         ],
         "xaxis": "x",
         "yaxis": "y"
        },
        {
         "alignmentgroup": "True",
         "hovertemplate": "species=Chinstrap<br>flipper_length_mm=%{x}<extra></extra>",
         "legendgroup": "Chinstrap",
         "marker": {
          "color": "#EF553B"
         },
         "name": "Chinstrap",
         "notched": true,
         "offsetgroup": "Chinstrap",
         "showlegend": false,
         "type": "box",
         "x": [
          192,
          196,
          193,
          188,
          197,
          198,
          178,
          197,
          195,
          198,
          193,
          194,
          185,
          201,
          190,
          201,
          197,
          181,
          190,
          195,
          181,
          191,
          187,
          193,
          195,
          197,
          200,
          200,
          191,
          205,
          187,
          201,
          187,
          203,
          195,
          199,
          195,
          210,
          192,
          205,
          210,
          187,
          196,
          196,
          196,
          201,
          190,
          212,
          187,
          198,
          199,
          201,
          193,
          203,
          187,
          197,
          191,
          203,
          202,
          194,
          206,
          189,
          195,
          207,
          202,
          193,
          210,
          198
         ],
         "xaxis": "x2",
         "yaxis": "y2"
        },
        {
         "alignmentgroup": "True",
         "bingroup": "x",
         "hovertemplate": "species=Gentoo<br>flipper_length_mm=%{x}<br>count=%{y}<extra></extra>",
         "legendgroup": "Gentoo",
         "marker": {
          "color": "#00cc96",
          "pattern": {
           "shape": ""
          }
         },
         "name": "Gentoo",
         "offsetgroup": "Gentoo",
         "orientation": "v",
         "showlegend": true,
         "type": "histogram",
         "x": [
          211,
          230,
          210,
          218,
          215,
          210,
          211,
          219,
          209,
          215,
          214,
          216,
          214,
          213,
          210,
          217,
          210,
          221,
          209,
          222,
          218,
          215,
          213,
          215,
          215,
          215,
          216,
          215,
          210,
          220,
          222,
          209,
          207,
          230,
          220,
          220,
          213,
          219,
          208,
          208,
          208,
          225,
          210,
          216,
          222,
          217,
          210,
          225,
          213,
          215,
          210,
          220,
          210,
          225,
          217,
          220,
          208,
          220,
          208,
          224,
          208,
          221,
          214,
          231,
          219,
          230,
          214,
          229,
          220,
          223,
          216,
          221,
          221,
          217,
          216,
          230,
          209,
          220,
          215,
          223,
          212,
          221,
          212,
          224,
          212,
          228,
          218,
          218,
          212,
          230,
          218,
          228,
          212,
          224,
          214,
          226,
          216,
          222,
          203,
          225,
          219,
          228,
          215,
          228,
          216,
          215,
          210,
          219,
          208,
          209,
          216,
          229,
          213,
          230,
          217,
          230,
          217,
          222,
          214,
          null,
          215,
          222,
          212,
          213
         ],
         "xaxis": "x",
         "yaxis": "y"
        },
        {
         "alignmentgroup": "True",
         "hovertemplate": "species=Gentoo<br>flipper_length_mm=%{x}<extra></extra>",
         "legendgroup": "Gentoo",
         "marker": {
          "color": "#00cc96"
         },
         "name": "Gentoo",
         "notched": true,
         "offsetgroup": "Gentoo",
         "showlegend": false,
         "type": "box",
         "x": [
          211,
          230,
          210,
          218,
          215,
          210,
          211,
          219,
          209,
          215,
          214,
          216,
          214,
          213,
          210,
          217,
          210,
          221,
          209,
          222,
          218,
          215,
          213,
          215,
          215,
          215,
          216,
          215,
          210,
          220,
          222,
          209,
          207,
          230,
          220,
          220,
          213,
          219,
          208,
          208,
          208,
          225,
          210,
          216,
          222,
          217,
          210,
          225,
          213,
          215,
          210,
          220,
          210,
          225,
          217,
          220,
          208,
          220,
          208,
          224,
          208,
          221,
          214,
          231,
          219,
          230,
          214,
          229,
          220,
          223,
          216,
          221,
          221,
          217,
          216,
          230,
          209,
          220,
          215,
          223,
          212,
          221,
          212,
          224,
          212,
          228,
          218,
          218,
          212,
          230,
          218,
          228,
          212,
          224,
          214,
          226,
          216,
          222,
          203,
          225,
          219,
          228,
          215,
          228,
          216,
          215,
          210,
          219,
          208,
          209,
          216,
          229,
          213,
          230,
          217,
          230,
          217,
          222,
          214,
          null,
          215,
          222,
          212,
          213
         ],
         "xaxis": "x2",
         "yaxis": "y2"
        }
       ],
       "layout": {
        "annotations": [
         {
          "showarrow": false,
          "text": "Mean",
          "x": 189.95364238410596,
          "xanchor": "left",
          "xref": "x",
          "y": 1,
          "yanchor": "top",
          "yref": "y domain"
         },
         {
          "showarrow": false,
          "text": "Median",
          "x": 190,
          "xanchor": "left",
          "xref": "x",
          "y": 1,
          "yanchor": "top",
          "yref": "y domain"
         },
         {
          "showarrow": false,
          "text": "Range",
          "x": 210,
          "xanchor": "right",
          "xref": "x",
          "y": 1,
          "yanchor": "top",
          "yref": "y domain"
         },
         {
          "showarrow": false,
          "text": "Range",
          "x": 210,
          "xanchor": "right",
          "xref": "x2",
          "y": 1,
          "yanchor": "top",
          "yref": "y2 domain"
         },
         {
          "showarrow": false,
          "text": "IQR",
          "x": 195,
          "xanchor": "right",
          "xref": "x",
          "y": 1,
          "yanchor": "top",
          "yref": "y domain"
         },
         {
          "showarrow": false,
          "text": "IQR",
          "x": 195,
          "xanchor": "right",
          "xref": "x2",
          "y": 1,
          "yanchor": "top",
          "yref": "y2 domain"
         },
         {
          "showarrow": false,
          "text": "2 Std Dev",
          "x": 203.03255721848856,
          "xanchor": "right",
          "xref": "x",
          "y": 1,
          "yanchor": "top",
          "yref": "y domain"
         },
         {
          "showarrow": false,
          "text": "2 Std Dev",
          "x": 203.03255721848856,
          "xanchor": "right",
          "xref": "x2",
          "y": 1,
          "yanchor": "top",
          "yref": "y2 domain"
         },
         {
          "showarrow": false,
          "text": "Mean",
          "x": 195.8235294117647,
          "xanchor": "left",
          "xref": "x",
          "y": 1,
          "yanchor": "top",
          "yref": "y domain"
         },
         {
          "showarrow": false,
          "text": "Median",
          "x": 196,
          "xanchor": "left",
          "xref": "x",
          "y": 1,
          "yanchor": "top",
          "yref": "y domain"
         },
         {
          "showarrow": false,
          "text": "Range",
          "x": 212,
          "xanchor": "right",
          "xref": "x",
          "y": 1,
          "yanchor": "top",
          "yref": "y domain"
         },
         {
          "showarrow": false,
          "text": "Range",
          "x": 212,
          "xanchor": "right",
          "xref": "x2",
          "y": 1,
          "yanchor": "top",
          "yref": "y2 domain"
         },
         {
          "showarrow": false,
          "text": "IQR",
          "x": 201,
          "xanchor": "right",
          "xref": "x",
          "y": 1,
          "yanchor": "top",
          "yref": "y domain"
         },
         {
          "showarrow": false,
          "text": "IQR",
          "x": 201,
          "xanchor": "right",
          "xref": "x2",
          "y": 1,
          "yanchor": "top",
          "yref": "y2 domain"
         },
         {
          "showarrow": false,
          "text": "2 Std Dev",
          "x": 210.08731792892098,
          "xanchor": "right",
          "xref": "x",
          "y": 1,
          "yanchor": "top",
          "yref": "y domain"
         },
         {
          "showarrow": false,
          "text": "2 Std Dev",
          "x": 210.08731792892098,
          "xanchor": "right",
          "xref": "x2",
          "y": 1,
          "yanchor": "top",
          "yref": "y2 domain"
         },
         {
          "showarrow": false,
          "text": "Mean",
          "x": 217.1869918699187,
          "xanchor": "left",
          "xref": "x",
          "y": 1,
          "yanchor": "top",
          "yref": "y domain"
         },
         {
          "showarrow": false,
          "text": "Median",
          "x": 216,
          "xanchor": "left",
          "xref": "x",
          "y": 1,
          "yanchor": "top",
          "yref": "y domain"
         },
         {
          "showarrow": false,
          "text": "Range",
          "x": 231,
          "xanchor": "right",
          "xref": "x",
          "y": 1,
          "yanchor": "top",
          "yref": "y domain"
         },
         {
          "showarrow": false,
          "text": "Range",
          "x": 231,
          "xanchor": "right",
          "xref": "x2",
          "y": 1,
          "yanchor": "top",
          "yref": "y2 domain"
         },
         {
          "showarrow": false,
          "text": "IQR",
          "x": 221,
          "xanchor": "right",
          "xref": "x",
          "y": 1,
          "yanchor": "top",
          "yref": "y domain"
         },
         {
          "showarrow": false,
          "text": "IQR",
          "x": 221,
          "xanchor": "right",
          "xref": "x2",
          "y": 1,
          "yanchor": "top",
          "yref": "y2 domain"
         },
         {
          "showarrow": false,
          "text": "2 Std Dev",
          "x": 230.1569435072666,
          "xanchor": "right",
          "xref": "x",
          "y": 1,
          "yanchor": "top",
          "yref": "y domain"
         },
         {
          "showarrow": false,
          "text": "2 Std Dev",
          "x": 230.1569435072666,
          "xanchor": "right",
          "xref": "x2",
          "y": 1,
          "yanchor": "top",
          "yref": "y2 domain"
         }
        ],
        "barmode": "relative",
        "legend": {
         "title": {
          "text": "species"
         },
         "tracegroupgap": 0
        },
        "margin": {
         "t": 60
        },
        "shapes": [
         {
          "line": {
           "color": "green",
           "dash": "dash"
          },
          "type": "line",
          "x0": 189.95364238410596,
          "x1": 189.95364238410596,
          "xref": "x",
          "y0": 0,
          "y1": 1,
          "yref": "y domain"
         },
         {
          "line": {
           "color": "blue",
           "dash": "dash"
          },
          "type": "line",
          "x0": 190,
          "x1": 190,
          "xref": "x",
          "y0": 0,
          "y1": 1,
          "yref": "y domain"
         },
         {
          "fillcolor": "LightSkyBlue",
          "line": {
           "width": 0
          },
          "opacity": 0.2,
          "type": "rect",
          "x0": 172,
          "x1": 210,
          "xref": "x",
          "y0": 0,
          "y1": 1,
          "yref": "y domain"
         },
         {
          "fillcolor": "LightSkyBlue",
          "line": {
           "width": 0
          },
          "opacity": 0.2,
          "type": "rect",
          "x0": 172,
          "x1": 210,
          "xref": "x2",
          "y0": 0,
          "y1": 1,
          "yref": "y2 domain"
         },
         {
          "fillcolor": "LightGreen",
          "line": {
           "width": 0
          },
          "opacity": 0.3,
          "type": "rect",
          "x0": 186,
          "x1": 195,
          "xref": "x",
          "y0": 0,
          "y1": 1,
          "yref": "y domain"
         },
         {
          "fillcolor": "LightGreen",
          "line": {
           "width": 0
          },
          "opacity": 0.3,
          "type": "rect",
          "x0": 186,
          "x1": 195,
          "xref": "x2",
          "y0": 0,
          "y1": 1,
          "yref": "y2 domain"
         },
         {
          "fillcolor": "Salmon",
          "line": {
           "width": 0
          },
          "opacity": 0.2,
          "type": "rect",
          "x0": 176.87472754972336,
          "x1": 203.03255721848856,
          "xref": "x",
          "y0": 0,
          "y1": 1,
          "yref": "y domain"
         },
         {
          "fillcolor": "Salmon",
          "line": {
           "width": 0
          },
          "opacity": 0.2,
          "type": "rect",
          "x0": 176.87472754972336,
          "x1": 203.03255721848856,
          "xref": "x2",
          "y0": 0,
          "y1": 1,
          "yref": "y2 domain"
         },
         {
          "line": {
           "color": "green",
           "dash": "dash"
          },
          "type": "line",
          "x0": 195.8235294117647,
          "x1": 195.8235294117647,
          "xref": "x",
          "y0": 0,
          "y1": 1,
          "yref": "y domain"
         },
         {
          "line": {
           "color": "blue",
           "dash": "dash"
          },
          "type": "line",
          "x0": 196,
          "x1": 196,
          "xref": "x",
          "y0": 0,
          "y1": 1,
          "yref": "y domain"
         },
         {
          "fillcolor": "LightSkyBlue",
          "line": {
           "width": 0
          },
          "opacity": 0.2,
          "type": "rect",
          "x0": 178,
          "x1": 212,
          "xref": "x",
          "y0": 0,
          "y1": 1,
          "yref": "y domain"
         },
         {
          "fillcolor": "LightSkyBlue",
          "line": {
           "width": 0
          },
          "opacity": 0.2,
          "type": "rect",
          "x0": 178,
          "x1": 212,
          "xref": "x2",
          "y0": 0,
          "y1": 1,
          "yref": "y2 domain"
         },
         {
          "fillcolor": "LightGreen",
          "line": {
           "width": 0
          },
          "opacity": 0.3,
          "type": "rect",
          "x0": 191,
          "x1": 201,
          "xref": "x",
          "y0": 0,
          "y1": 1,
          "yref": "y domain"
         },
         {
          "fillcolor": "LightGreen",
          "line": {
           "width": 0
          },
          "opacity": 0.3,
          "type": "rect",
          "x0": 191,
          "x1": 201,
          "xref": "x2",
          "y0": 0,
          "y1": 1,
          "yref": "y2 domain"
         },
         {
          "fillcolor": "Salmon",
          "line": {
           "width": 0
          },
          "opacity": 0.2,
          "type": "rect",
          "x0": 181.5597408946084,
          "x1": 210.08731792892098,
          "xref": "x",
          "y0": 0,
          "y1": 1,
          "yref": "y domain"
         },
         {
          "fillcolor": "Salmon",
          "line": {
           "width": 0
          },
          "opacity": 0.2,
          "type": "rect",
          "x0": 181.5597408946084,
          "x1": 210.08731792892098,
          "xref": "x2",
          "y0": 0,
          "y1": 1,
          "yref": "y2 domain"
         },
         {
          "line": {
           "color": "green",
           "dash": "dash"
          },
          "type": "line",
          "x0": 217.1869918699187,
          "x1": 217.1869918699187,
          "xref": "x",
          "y0": 0,
          "y1": 1,
          "yref": "y domain"
         },
         {
          "line": {
           "color": "blue",
           "dash": "dash"
          },
          "type": "line",
          "x0": 216,
          "x1": 216,
          "xref": "x",
          "y0": 0,
          "y1": 1,
          "yref": "y domain"
         },
         {
          "fillcolor": "LightSkyBlue",
          "line": {
           "width": 0
          },
          "opacity": 0.2,
          "type": "rect",
          "x0": 203,
          "x1": 231,
          "xref": "x",
          "y0": 0,
          "y1": 1,
          "yref": "y domain"
         },
         {
          "fillcolor": "LightSkyBlue",
          "line": {
           "width": 0
          },
          "opacity": 0.2,
          "type": "rect",
          "x0": 203,
          "x1": 231,
          "xref": "x2",
          "y0": 0,
          "y1": 1,
          "yref": "y2 domain"
         },
         {
          "fillcolor": "LightGreen",
          "line": {
           "width": 0
          },
          "opacity": 0.3,
          "type": "rect",
          "x0": 212,
          "x1": 221,
          "xref": "x",
          "y0": 0,
          "y1": 1,
          "yref": "y domain"
         },
         {
          "fillcolor": "LightGreen",
          "line": {
           "width": 0
          },
          "opacity": 0.3,
          "type": "rect",
          "x0": 212,
          "x1": 221,
          "xref": "x2",
          "y0": 0,
          "y1": 1,
          "yref": "y2 domain"
         },
         {
          "fillcolor": "Salmon",
          "line": {
           "width": 0
          },
          "opacity": 0.2,
          "type": "rect",
          "x0": 204.2170402325708,
          "x1": 230.1569435072666,
          "xref": "x",
          "y0": 0,
          "y1": 1,
          "yref": "y domain"
         },
         {
          "fillcolor": "Salmon",
          "line": {
           "width": 0
          },
          "opacity": 0.2,
          "type": "rect",
          "x0": 204.2170402325708,
          "x1": 230.1569435072666,
          "xref": "x2",
          "y0": 0,
          "y1": 1,
          "yref": "y2 domain"
         }
        ],
        "template": {
         "data": {
          "bar": [
           {
            "error_x": {
             "color": "#2a3f5f"
            },
            "error_y": {
             "color": "#2a3f5f"
            },
            "marker": {
             "line": {
              "color": "#E5ECF6",
              "width": 0.5
             },
             "pattern": {
              "fillmode": "overlay",
              "size": 10,
              "solidity": 0.2
             }
            },
            "type": "bar"
           }
          ],
          "barpolar": [
           {
            "marker": {
             "line": {
              "color": "#E5ECF6",
              "width": 0.5
             },
             "pattern": {
              "fillmode": "overlay",
              "size": 10,
              "solidity": 0.2
             }
            },
            "type": "barpolar"
           }
          ],
          "carpet": [
           {
            "aaxis": {
             "endlinecolor": "#2a3f5f",
             "gridcolor": "white",
             "linecolor": "white",
             "minorgridcolor": "white",
             "startlinecolor": "#2a3f5f"
            },
            "baxis": {
             "endlinecolor": "#2a3f5f",
             "gridcolor": "white",
             "linecolor": "white",
             "minorgridcolor": "white",
             "startlinecolor": "#2a3f5f"
            },
            "type": "carpet"
           }
          ],
          "choropleth": [
           {
            "colorbar": {
             "outlinewidth": 0,
             "ticks": ""
            },
            "type": "choropleth"
           }
          ],
          "contour": [
           {
            "colorbar": {
             "outlinewidth": 0,
             "ticks": ""
            },
            "colorscale": [
             [
              0,
              "#0d0887"
             ],
             [
              0.1111111111111111,
              "#46039f"
             ],
             [
              0.2222222222222222,
              "#7201a8"
             ],
             [
              0.3333333333333333,
              "#9c179e"
             ],
             [
              0.4444444444444444,
              "#bd3786"
             ],
             [
              0.5555555555555556,
              "#d8576b"
             ],
             [
              0.6666666666666666,
              "#ed7953"
             ],
             [
              0.7777777777777778,
              "#fb9f3a"
             ],
             [
              0.8888888888888888,
              "#fdca26"
             ],
             [
              1,
              "#f0f921"
             ]
            ],
            "type": "contour"
           }
          ],
          "contourcarpet": [
           {
            "colorbar": {
             "outlinewidth": 0,
             "ticks": ""
            },
            "type": "contourcarpet"
           }
          ],
          "heatmap": [
           {
            "colorbar": {
             "outlinewidth": 0,
             "ticks": ""
            },
            "colorscale": [
             [
              0,
              "#0d0887"
             ],
             [
              0.1111111111111111,
              "#46039f"
             ],
             [
              0.2222222222222222,
              "#7201a8"
             ],
             [
              0.3333333333333333,
              "#9c179e"
             ],
             [
              0.4444444444444444,
              "#bd3786"
             ],
             [
              0.5555555555555556,
              "#d8576b"
             ],
             [
              0.6666666666666666,
              "#ed7953"
             ],
             [
              0.7777777777777778,
              "#fb9f3a"
             ],
             [
              0.8888888888888888,
              "#fdca26"
             ],
             [
              1,
              "#f0f921"
             ]
            ],
            "type": "heatmap"
           }
          ],
          "heatmapgl": [
           {
            "colorbar": {
             "outlinewidth": 0,
             "ticks": ""
            },
            "colorscale": [
             [
              0,
              "#0d0887"
             ],
             [
              0.1111111111111111,
              "#46039f"
             ],
             [
              0.2222222222222222,
              "#7201a8"
             ],
             [
              0.3333333333333333,
              "#9c179e"
             ],
             [
              0.4444444444444444,
              "#bd3786"
             ],
             [
              0.5555555555555556,
              "#d8576b"
             ],
             [
              0.6666666666666666,
              "#ed7953"
             ],
             [
              0.7777777777777778,
              "#fb9f3a"
             ],
             [
              0.8888888888888888,
              "#fdca26"
             ],
             [
              1,
              "#f0f921"
             ]
            ],
            "type": "heatmapgl"
           }
          ],
          "histogram": [
           {
            "marker": {
             "pattern": {
              "fillmode": "overlay",
              "size": 10,
              "solidity": 0.2
             }
            },
            "type": "histogram"
           }
          ],
          "histogram2d": [
           {
            "colorbar": {
             "outlinewidth": 0,
             "ticks": ""
            },
            "colorscale": [
             [
              0,
              "#0d0887"
             ],
             [
              0.1111111111111111,
              "#46039f"
             ],
             [
              0.2222222222222222,
              "#7201a8"
             ],
             [
              0.3333333333333333,
              "#9c179e"
             ],
             [
              0.4444444444444444,
              "#bd3786"
             ],
             [
              0.5555555555555556,
              "#d8576b"
             ],
             [
              0.6666666666666666,
              "#ed7953"
             ],
             [
              0.7777777777777778,
              "#fb9f3a"
             ],
             [
              0.8888888888888888,
              "#fdca26"
             ],
             [
              1,
              "#f0f921"
             ]
            ],
            "type": "histogram2d"
           }
          ],
          "histogram2dcontour": [
           {
            "colorbar": {
             "outlinewidth": 0,
             "ticks": ""
            },
            "colorscale": [
             [
              0,
              "#0d0887"
             ],
             [
              0.1111111111111111,
              "#46039f"
             ],
             [
              0.2222222222222222,
              "#7201a8"
             ],
             [
              0.3333333333333333,
              "#9c179e"
             ],
             [
              0.4444444444444444,
              "#bd3786"
             ],
             [
              0.5555555555555556,
              "#d8576b"
             ],
             [
              0.6666666666666666,
              "#ed7953"
             ],
             [
              0.7777777777777778,
              "#fb9f3a"
             ],
             [
              0.8888888888888888,
              "#fdca26"
             ],
             [
              1,
              "#f0f921"
             ]
            ],
            "type": "histogram2dcontour"
           }
          ],
          "mesh3d": [
           {
            "colorbar": {
             "outlinewidth": 0,
             "ticks": ""
            },
            "type": "mesh3d"
           }
          ],
          "parcoords": [
           {
            "line": {
             "colorbar": {
              "outlinewidth": 0,
              "ticks": ""
             }
            },
            "type": "parcoords"
           }
          ],
          "pie": [
           {
            "automargin": true,
            "type": "pie"
           }
          ],
          "scatter": [
           {
            "fillpattern": {
             "fillmode": "overlay",
             "size": 10,
             "solidity": 0.2
            },
            "type": "scatter"
           }
          ],
          "scatter3d": [
           {
            "line": {
             "colorbar": {
              "outlinewidth": 0,
              "ticks": ""
             }
            },
            "marker": {
             "colorbar": {
              "outlinewidth": 0,
              "ticks": ""
             }
            },
            "type": "scatter3d"
           }
          ],
          "scattercarpet": [
           {
            "marker": {
             "colorbar": {
              "outlinewidth": 0,
              "ticks": ""
             }
            },
            "type": "scattercarpet"
           }
          ],
          "scattergeo": [
           {
            "marker": {
             "colorbar": {
              "outlinewidth": 0,
              "ticks": ""
             }
            },
            "type": "scattergeo"
           }
          ],
          "scattergl": [
           {
            "marker": {
             "colorbar": {
              "outlinewidth": 0,
              "ticks": ""
             }
            },
            "type": "scattergl"
           }
          ],
          "scattermapbox": [
           {
            "marker": {
             "colorbar": {
              "outlinewidth": 0,
              "ticks": ""
             }
            },
            "type": "scattermapbox"
           }
          ],
          "scatterpolar": [
           {
            "marker": {
             "colorbar": {
              "outlinewidth": 0,
              "ticks": ""
             }
            },
            "type": "scatterpolar"
           }
          ],
          "scatterpolargl": [
           {
            "marker": {
             "colorbar": {
              "outlinewidth": 0,
              "ticks": ""
             }
            },
            "type": "scatterpolargl"
           }
          ],
          "scatterternary": [
           {
            "marker": {
             "colorbar": {
              "outlinewidth": 0,
              "ticks": ""
             }
            },
            "type": "scatterternary"
           }
          ],
          "surface": [
           {
            "colorbar": {
             "outlinewidth": 0,
             "ticks": ""
            },
            "colorscale": [
             [
              0,
              "#0d0887"
             ],
             [
              0.1111111111111111,
              "#46039f"
             ],
             [
              0.2222222222222222,
              "#7201a8"
             ],
             [
              0.3333333333333333,
              "#9c179e"
             ],
             [
              0.4444444444444444,
              "#bd3786"
             ],
             [
              0.5555555555555556,
              "#d8576b"
             ],
             [
              0.6666666666666666,
              "#ed7953"
             ],
             [
              0.7777777777777778,
              "#fb9f3a"
             ],
             [
              0.8888888888888888,
              "#fdca26"
             ],
             [
              1,
              "#f0f921"
             ]
            ],
            "type": "surface"
           }
          ],
          "table": [
           {
            "cells": {
             "fill": {
              "color": "#EBF0F8"
             },
             "line": {
              "color": "white"
             }
            },
            "header": {
             "fill": {
              "color": "#C8D4E3"
             },
             "line": {
              "color": "white"
             }
            },
            "type": "table"
           }
          ]
         },
         "layout": {
          "annotationdefaults": {
           "arrowcolor": "#2a3f5f",
           "arrowhead": 0,
           "arrowwidth": 1
          },
          "autotypenumbers": "strict",
          "coloraxis": {
           "colorbar": {
            "outlinewidth": 0,
            "ticks": ""
           }
          },
          "colorscale": {
           "diverging": [
            [
             0,
             "#8e0152"
            ],
            [
             0.1,
             "#c51b7d"
            ],
            [
             0.2,
             "#de77ae"
            ],
            [
             0.3,
             "#f1b6da"
            ],
            [
             0.4,
             "#fde0ef"
            ],
            [
             0.5,
             "#f7f7f7"
            ],
            [
             0.6,
             "#e6f5d0"
            ],
            [
             0.7,
             "#b8e186"
            ],
            [
             0.8,
             "#7fbc41"
            ],
            [
             0.9,
             "#4d9221"
            ],
            [
             1,
             "#276419"
            ]
           ],
           "sequential": [
            [
             0,
             "#0d0887"
            ],
            [
             0.1111111111111111,
             "#46039f"
            ],
            [
             0.2222222222222222,
             "#7201a8"
            ],
            [
             0.3333333333333333,
             "#9c179e"
            ],
            [
             0.4444444444444444,
             "#bd3786"
            ],
            [
             0.5555555555555556,
             "#d8576b"
            ],
            [
             0.6666666666666666,
             "#ed7953"
            ],
            [
             0.7777777777777778,
             "#fb9f3a"
            ],
            [
             0.8888888888888888,
             "#fdca26"
            ],
            [
             1,
             "#f0f921"
            ]
           ],
           "sequentialminus": [
            [
             0,
             "#0d0887"
            ],
            [
             0.1111111111111111,
             "#46039f"
            ],
            [
             0.2222222222222222,
             "#7201a8"
            ],
            [
             0.3333333333333333,
             "#9c179e"
            ],
            [
             0.4444444444444444,
             "#bd3786"
            ],
            [
             0.5555555555555556,
             "#d8576b"
            ],
            [
             0.6666666666666666,
             "#ed7953"
            ],
            [
             0.7777777777777778,
             "#fb9f3a"
            ],
            [
             0.8888888888888888,
             "#fdca26"
            ],
            [
             1,
             "#f0f921"
            ]
           ]
          },
          "colorway": [
           "#636efa",
           "#EF553B",
           "#00cc96",
           "#ab63fa",
           "#FFA15A",
           "#19d3f3",
           "#FF6692",
           "#B6E880",
           "#FF97FF",
           "#FECB52"
          ],
          "font": {
           "color": "#2a3f5f"
          },
          "geo": {
           "bgcolor": "white",
           "lakecolor": "white",
           "landcolor": "#E5ECF6",
           "showlakes": true,
           "showland": true,
           "subunitcolor": "white"
          },
          "hoverlabel": {
           "align": "left"
          },
          "hovermode": "closest",
          "mapbox": {
           "style": "light"
          },
          "paper_bgcolor": "white",
          "plot_bgcolor": "#E5ECF6",
          "polar": {
           "angularaxis": {
            "gridcolor": "white",
            "linecolor": "white",
            "ticks": ""
           },
           "bgcolor": "#E5ECF6",
           "radialaxis": {
            "gridcolor": "white",
            "linecolor": "white",
            "ticks": ""
           }
          },
          "scene": {
           "xaxis": {
            "backgroundcolor": "#E5ECF6",
            "gridcolor": "white",
            "gridwidth": 2,
            "linecolor": "white",
            "showbackground": true,
            "ticks": "",
            "zerolinecolor": "white"
           },
           "yaxis": {
            "backgroundcolor": "#E5ECF6",
            "gridcolor": "white",
            "gridwidth": 2,
            "linecolor": "white",
            "showbackground": true,
            "ticks": "",
            "zerolinecolor": "white"
           },
           "zaxis": {
            "backgroundcolor": "#E5ECF6",
            "gridcolor": "white",
            "gridwidth": 2,
            "linecolor": "white",
            "showbackground": true,
            "ticks": "",
            "zerolinecolor": "white"
           }
          },
          "shapedefaults": {
           "line": {
            "color": "#2a3f5f"
           }
          },
          "ternary": {
           "aaxis": {
            "gridcolor": "white",
            "linecolor": "white",
            "ticks": ""
           },
           "baxis": {
            "gridcolor": "white",
            "linecolor": "white",
            "ticks": ""
           },
           "bgcolor": "#E5ECF6",
           "caxis": {
            "gridcolor": "white",
            "linecolor": "white",
            "ticks": ""
           }
          },
          "title": {
           "x": 0.05
          },
          "xaxis": {
           "automargin": true,
           "gridcolor": "white",
           "linecolor": "white",
           "ticks": "",
           "title": {
            "standoff": 15
           },
           "zerolinecolor": "white",
           "zerolinewidth": 2
          },
          "yaxis": {
           "automargin": true,
           "gridcolor": "white",
           "linecolor": "white",
           "ticks": "",
           "title": {
            "standoff": 15
           },
           "zerolinecolor": "white",
           "zerolinewidth": 2
          }
         }
        },
        "xaxis": {
         "anchor": "y",
         "domain": [
          0,
          1
         ],
         "title": {
          "text": "flipper_length_mm"
         }
        },
        "xaxis2": {
         "anchor": "y2",
         "domain": [
          0,
          1
         ],
         "matches": "x",
         "showgrid": true,
         "showticklabels": false
        },
        "yaxis": {
         "anchor": "x",
         "domain": [
          0,
          0.7326
         ],
         "title": {
          "text": "count"
         }
        },
        "yaxis2": {
         "anchor": "x2",
         "domain": [
          0.7426,
          1
         ],
         "matches": "y2",
         "showgrid": false,
         "showline": false,
         "showticklabels": false,
         "ticks": ""
        }
       }
      },
      "text/html": [
       "<div>                            <div id=\"71d13a3a-c3d3-4081-bd77-38a4b96ff31f\" class=\"plotly-graph-div\" style=\"height:525px; width:100%;\"></div>            <script type=\"text/javascript\">                require([\"plotly\"], function(Plotly) {                    window.PLOTLYENV=window.PLOTLYENV || {};                                    if (document.getElementById(\"71d13a3a-c3d3-4081-bd77-38a4b96ff31f\")) {                    Plotly.newPlot(                        \"71d13a3a-c3d3-4081-bd77-38a4b96ff31f\",                        [{\"alignmentgroup\":\"True\",\"bingroup\":\"x\",\"hovertemplate\":\"species=Adelie\\u003cbr\\u003eflipper_length_mm=%{x}\\u003cbr\\u003ecount=%{y}\\u003cextra\\u003e\\u003c\\u002fextra\\u003e\",\"legendgroup\":\"Adelie\",\"marker\":{\"color\":\"#636efa\",\"pattern\":{\"shape\":\"\"}},\"name\":\"Adelie\",\"offsetgroup\":\"Adelie\",\"orientation\":\"v\",\"showlegend\":true,\"x\":[181.0,186.0,195.0,null,193.0,190.0,181.0,195.0,193.0,190.0,186.0,180.0,182.0,191.0,198.0,185.0,195.0,197.0,184.0,194.0,174.0,180.0,189.0,185.0,180.0,187.0,183.0,187.0,172.0,180.0,178.0,178.0,188.0,184.0,195.0,196.0,190.0,180.0,181.0,184.0,182.0,195.0,186.0,196.0,185.0,190.0,182.0,179.0,190.0,191.0,186.0,188.0,190.0,200.0,187.0,191.0,186.0,193.0,181.0,194.0,185.0,195.0,185.0,192.0,184.0,192.0,195.0,188.0,190.0,198.0,190.0,190.0,196.0,197.0,190.0,195.0,191.0,184.0,187.0,195.0,189.0,196.0,187.0,193.0,191.0,194.0,190.0,189.0,189.0,190.0,202.0,205.0,185.0,186.0,187.0,208.0,190.0,196.0,178.0,192.0,192.0,203.0,183.0,190.0,193.0,184.0,199.0,190.0,181.0,197.0,198.0,191.0,193.0,197.0,191.0,196.0,188.0,199.0,189.0,189.0,187.0,198.0,176.0,202.0,186.0,199.0,191.0,195.0,191.0,210.0,190.0,197.0,193.0,199.0,187.0,190.0,191.0,200.0,185.0,193.0,193.0,187.0,188.0,190.0,192.0,185.0,190.0,184.0,195.0,193.0,187.0,201.0],\"xaxis\":\"x\",\"yaxis\":\"y\",\"type\":\"histogram\"},{\"alignmentgroup\":\"True\",\"hovertemplate\":\"species=Adelie\\u003cbr\\u003eflipper_length_mm=%{x}\\u003cextra\\u003e\\u003c\\u002fextra\\u003e\",\"legendgroup\":\"Adelie\",\"marker\":{\"color\":\"#636efa\"},\"name\":\"Adelie\",\"notched\":true,\"offsetgroup\":\"Adelie\",\"showlegend\":false,\"x\":[181.0,186.0,195.0,null,193.0,190.0,181.0,195.0,193.0,190.0,186.0,180.0,182.0,191.0,198.0,185.0,195.0,197.0,184.0,194.0,174.0,180.0,189.0,185.0,180.0,187.0,183.0,187.0,172.0,180.0,178.0,178.0,188.0,184.0,195.0,196.0,190.0,180.0,181.0,184.0,182.0,195.0,186.0,196.0,185.0,190.0,182.0,179.0,190.0,191.0,186.0,188.0,190.0,200.0,187.0,191.0,186.0,193.0,181.0,194.0,185.0,195.0,185.0,192.0,184.0,192.0,195.0,188.0,190.0,198.0,190.0,190.0,196.0,197.0,190.0,195.0,191.0,184.0,187.0,195.0,189.0,196.0,187.0,193.0,191.0,194.0,190.0,189.0,189.0,190.0,202.0,205.0,185.0,186.0,187.0,208.0,190.0,196.0,178.0,192.0,192.0,203.0,183.0,190.0,193.0,184.0,199.0,190.0,181.0,197.0,198.0,191.0,193.0,197.0,191.0,196.0,188.0,199.0,189.0,189.0,187.0,198.0,176.0,202.0,186.0,199.0,191.0,195.0,191.0,210.0,190.0,197.0,193.0,199.0,187.0,190.0,191.0,200.0,185.0,193.0,193.0,187.0,188.0,190.0,192.0,185.0,190.0,184.0,195.0,193.0,187.0,201.0],\"xaxis\":\"x2\",\"yaxis\":\"y2\",\"type\":\"box\"},{\"alignmentgroup\":\"True\",\"bingroup\":\"x\",\"hovertemplate\":\"species=Chinstrap\\u003cbr\\u003eflipper_length_mm=%{x}\\u003cbr\\u003ecount=%{y}\\u003cextra\\u003e\\u003c\\u002fextra\\u003e\",\"legendgroup\":\"Chinstrap\",\"marker\":{\"color\":\"#EF553B\",\"pattern\":{\"shape\":\"\"}},\"name\":\"Chinstrap\",\"offsetgroup\":\"Chinstrap\",\"orientation\":\"v\",\"showlegend\":true,\"x\":[192.0,196.0,193.0,188.0,197.0,198.0,178.0,197.0,195.0,198.0,193.0,194.0,185.0,201.0,190.0,201.0,197.0,181.0,190.0,195.0,181.0,191.0,187.0,193.0,195.0,197.0,200.0,200.0,191.0,205.0,187.0,201.0,187.0,203.0,195.0,199.0,195.0,210.0,192.0,205.0,210.0,187.0,196.0,196.0,196.0,201.0,190.0,212.0,187.0,198.0,199.0,201.0,193.0,203.0,187.0,197.0,191.0,203.0,202.0,194.0,206.0,189.0,195.0,207.0,202.0,193.0,210.0,198.0],\"xaxis\":\"x\",\"yaxis\":\"y\",\"type\":\"histogram\"},{\"alignmentgroup\":\"True\",\"hovertemplate\":\"species=Chinstrap\\u003cbr\\u003eflipper_length_mm=%{x}\\u003cextra\\u003e\\u003c\\u002fextra\\u003e\",\"legendgroup\":\"Chinstrap\",\"marker\":{\"color\":\"#EF553B\"},\"name\":\"Chinstrap\",\"notched\":true,\"offsetgroup\":\"Chinstrap\",\"showlegend\":false,\"x\":[192.0,196.0,193.0,188.0,197.0,198.0,178.0,197.0,195.0,198.0,193.0,194.0,185.0,201.0,190.0,201.0,197.0,181.0,190.0,195.0,181.0,191.0,187.0,193.0,195.0,197.0,200.0,200.0,191.0,205.0,187.0,201.0,187.0,203.0,195.0,199.0,195.0,210.0,192.0,205.0,210.0,187.0,196.0,196.0,196.0,201.0,190.0,212.0,187.0,198.0,199.0,201.0,193.0,203.0,187.0,197.0,191.0,203.0,202.0,194.0,206.0,189.0,195.0,207.0,202.0,193.0,210.0,198.0],\"xaxis\":\"x2\",\"yaxis\":\"y2\",\"type\":\"box\"},{\"alignmentgroup\":\"True\",\"bingroup\":\"x\",\"hovertemplate\":\"species=Gentoo\\u003cbr\\u003eflipper_length_mm=%{x}\\u003cbr\\u003ecount=%{y}\\u003cextra\\u003e\\u003c\\u002fextra\\u003e\",\"legendgroup\":\"Gentoo\",\"marker\":{\"color\":\"#00cc96\",\"pattern\":{\"shape\":\"\"}},\"name\":\"Gentoo\",\"offsetgroup\":\"Gentoo\",\"orientation\":\"v\",\"showlegend\":true,\"x\":[211.0,230.0,210.0,218.0,215.0,210.0,211.0,219.0,209.0,215.0,214.0,216.0,214.0,213.0,210.0,217.0,210.0,221.0,209.0,222.0,218.0,215.0,213.0,215.0,215.0,215.0,216.0,215.0,210.0,220.0,222.0,209.0,207.0,230.0,220.0,220.0,213.0,219.0,208.0,208.0,208.0,225.0,210.0,216.0,222.0,217.0,210.0,225.0,213.0,215.0,210.0,220.0,210.0,225.0,217.0,220.0,208.0,220.0,208.0,224.0,208.0,221.0,214.0,231.0,219.0,230.0,214.0,229.0,220.0,223.0,216.0,221.0,221.0,217.0,216.0,230.0,209.0,220.0,215.0,223.0,212.0,221.0,212.0,224.0,212.0,228.0,218.0,218.0,212.0,230.0,218.0,228.0,212.0,224.0,214.0,226.0,216.0,222.0,203.0,225.0,219.0,228.0,215.0,228.0,216.0,215.0,210.0,219.0,208.0,209.0,216.0,229.0,213.0,230.0,217.0,230.0,217.0,222.0,214.0,null,215.0,222.0,212.0,213.0],\"xaxis\":\"x\",\"yaxis\":\"y\",\"type\":\"histogram\"},{\"alignmentgroup\":\"True\",\"hovertemplate\":\"species=Gentoo\\u003cbr\\u003eflipper_length_mm=%{x}\\u003cextra\\u003e\\u003c\\u002fextra\\u003e\",\"legendgroup\":\"Gentoo\",\"marker\":{\"color\":\"#00cc96\"},\"name\":\"Gentoo\",\"notched\":true,\"offsetgroup\":\"Gentoo\",\"showlegend\":false,\"x\":[211.0,230.0,210.0,218.0,215.0,210.0,211.0,219.0,209.0,215.0,214.0,216.0,214.0,213.0,210.0,217.0,210.0,221.0,209.0,222.0,218.0,215.0,213.0,215.0,215.0,215.0,216.0,215.0,210.0,220.0,222.0,209.0,207.0,230.0,220.0,220.0,213.0,219.0,208.0,208.0,208.0,225.0,210.0,216.0,222.0,217.0,210.0,225.0,213.0,215.0,210.0,220.0,210.0,225.0,217.0,220.0,208.0,220.0,208.0,224.0,208.0,221.0,214.0,231.0,219.0,230.0,214.0,229.0,220.0,223.0,216.0,221.0,221.0,217.0,216.0,230.0,209.0,220.0,215.0,223.0,212.0,221.0,212.0,224.0,212.0,228.0,218.0,218.0,212.0,230.0,218.0,228.0,212.0,224.0,214.0,226.0,216.0,222.0,203.0,225.0,219.0,228.0,215.0,228.0,216.0,215.0,210.0,219.0,208.0,209.0,216.0,229.0,213.0,230.0,217.0,230.0,217.0,222.0,214.0,null,215.0,222.0,212.0,213.0],\"xaxis\":\"x2\",\"yaxis\":\"y2\",\"type\":\"box\"}],                        {\"template\":{\"data\":{\"histogram2dcontour\":[{\"type\":\"histogram2dcontour\",\"colorbar\":{\"outlinewidth\":0,\"ticks\":\"\"},\"colorscale\":[[0.0,\"#0d0887\"],[0.1111111111111111,\"#46039f\"],[0.2222222222222222,\"#7201a8\"],[0.3333333333333333,\"#9c179e\"],[0.4444444444444444,\"#bd3786\"],[0.5555555555555556,\"#d8576b\"],[0.6666666666666666,\"#ed7953\"],[0.7777777777777778,\"#fb9f3a\"],[0.8888888888888888,\"#fdca26\"],[1.0,\"#f0f921\"]]}],\"choropleth\":[{\"type\":\"choropleth\",\"colorbar\":{\"outlinewidth\":0,\"ticks\":\"\"}}],\"histogram2d\":[{\"type\":\"histogram2d\",\"colorbar\":{\"outlinewidth\":0,\"ticks\":\"\"},\"colorscale\":[[0.0,\"#0d0887\"],[0.1111111111111111,\"#46039f\"],[0.2222222222222222,\"#7201a8\"],[0.3333333333333333,\"#9c179e\"],[0.4444444444444444,\"#bd3786\"],[0.5555555555555556,\"#d8576b\"],[0.6666666666666666,\"#ed7953\"],[0.7777777777777778,\"#fb9f3a\"],[0.8888888888888888,\"#fdca26\"],[1.0,\"#f0f921\"]]}],\"heatmap\":[{\"type\":\"heatmap\",\"colorbar\":{\"outlinewidth\":0,\"ticks\":\"\"},\"colorscale\":[[0.0,\"#0d0887\"],[0.1111111111111111,\"#46039f\"],[0.2222222222222222,\"#7201a8\"],[0.3333333333333333,\"#9c179e\"],[0.4444444444444444,\"#bd3786\"],[0.5555555555555556,\"#d8576b\"],[0.6666666666666666,\"#ed7953\"],[0.7777777777777778,\"#fb9f3a\"],[0.8888888888888888,\"#fdca26\"],[1.0,\"#f0f921\"]]}],\"heatmapgl\":[{\"type\":\"heatmapgl\",\"colorbar\":{\"outlinewidth\":0,\"ticks\":\"\"},\"colorscale\":[[0.0,\"#0d0887\"],[0.1111111111111111,\"#46039f\"],[0.2222222222222222,\"#7201a8\"],[0.3333333333333333,\"#9c179e\"],[0.4444444444444444,\"#bd3786\"],[0.5555555555555556,\"#d8576b\"],[0.6666666666666666,\"#ed7953\"],[0.7777777777777778,\"#fb9f3a\"],[0.8888888888888888,\"#fdca26\"],[1.0,\"#f0f921\"]]}],\"contourcarpet\":[{\"type\":\"contourcarpet\",\"colorbar\":{\"outlinewidth\":0,\"ticks\":\"\"}}],\"contour\":[{\"type\":\"contour\",\"colorbar\":{\"outlinewidth\":0,\"ticks\":\"\"},\"colorscale\":[[0.0,\"#0d0887\"],[0.1111111111111111,\"#46039f\"],[0.2222222222222222,\"#7201a8\"],[0.3333333333333333,\"#9c179e\"],[0.4444444444444444,\"#bd3786\"],[0.5555555555555556,\"#d8576b\"],[0.6666666666666666,\"#ed7953\"],[0.7777777777777778,\"#fb9f3a\"],[0.8888888888888888,\"#fdca26\"],[1.0,\"#f0f921\"]]}],\"surface\":[{\"type\":\"surface\",\"colorbar\":{\"outlinewidth\":0,\"ticks\":\"\"},\"colorscale\":[[0.0,\"#0d0887\"],[0.1111111111111111,\"#46039f\"],[0.2222222222222222,\"#7201a8\"],[0.3333333333333333,\"#9c179e\"],[0.4444444444444444,\"#bd3786\"],[0.5555555555555556,\"#d8576b\"],[0.6666666666666666,\"#ed7953\"],[0.7777777777777778,\"#fb9f3a\"],[0.8888888888888888,\"#fdca26\"],[1.0,\"#f0f921\"]]}],\"mesh3d\":[{\"type\":\"mesh3d\",\"colorbar\":{\"outlinewidth\":0,\"ticks\":\"\"}}],\"scatter\":[{\"fillpattern\":{\"fillmode\":\"overlay\",\"size\":10,\"solidity\":0.2},\"type\":\"scatter\"}],\"parcoords\":[{\"type\":\"parcoords\",\"line\":{\"colorbar\":{\"outlinewidth\":0,\"ticks\":\"\"}}}],\"scatterpolargl\":[{\"type\":\"scatterpolargl\",\"marker\":{\"colorbar\":{\"outlinewidth\":0,\"ticks\":\"\"}}}],\"bar\":[{\"error_x\":{\"color\":\"#2a3f5f\"},\"error_y\":{\"color\":\"#2a3f5f\"},\"marker\":{\"line\":{\"color\":\"#E5ECF6\",\"width\":0.5},\"pattern\":{\"fillmode\":\"overlay\",\"size\":10,\"solidity\":0.2}},\"type\":\"bar\"}],\"scattergeo\":[{\"type\":\"scattergeo\",\"marker\":{\"colorbar\":{\"outlinewidth\":0,\"ticks\":\"\"}}}],\"scatterpolar\":[{\"type\":\"scatterpolar\",\"marker\":{\"colorbar\":{\"outlinewidth\":0,\"ticks\":\"\"}}}],\"histogram\":[{\"marker\":{\"pattern\":{\"fillmode\":\"overlay\",\"size\":10,\"solidity\":0.2}},\"type\":\"histogram\"}],\"scattergl\":[{\"type\":\"scattergl\",\"marker\":{\"colorbar\":{\"outlinewidth\":0,\"ticks\":\"\"}}}],\"scatter3d\":[{\"type\":\"scatter3d\",\"line\":{\"colorbar\":{\"outlinewidth\":0,\"ticks\":\"\"}},\"marker\":{\"colorbar\":{\"outlinewidth\":0,\"ticks\":\"\"}}}],\"scattermapbox\":[{\"type\":\"scattermapbox\",\"marker\":{\"colorbar\":{\"outlinewidth\":0,\"ticks\":\"\"}}}],\"scatterternary\":[{\"type\":\"scatterternary\",\"marker\":{\"colorbar\":{\"outlinewidth\":0,\"ticks\":\"\"}}}],\"scattercarpet\":[{\"type\":\"scattercarpet\",\"marker\":{\"colorbar\":{\"outlinewidth\":0,\"ticks\":\"\"}}}],\"carpet\":[{\"aaxis\":{\"endlinecolor\":\"#2a3f5f\",\"gridcolor\":\"white\",\"linecolor\":\"white\",\"minorgridcolor\":\"white\",\"startlinecolor\":\"#2a3f5f\"},\"baxis\":{\"endlinecolor\":\"#2a3f5f\",\"gridcolor\":\"white\",\"linecolor\":\"white\",\"minorgridcolor\":\"white\",\"startlinecolor\":\"#2a3f5f\"},\"type\":\"carpet\"}],\"table\":[{\"cells\":{\"fill\":{\"color\":\"#EBF0F8\"},\"line\":{\"color\":\"white\"}},\"header\":{\"fill\":{\"color\":\"#C8D4E3\"},\"line\":{\"color\":\"white\"}},\"type\":\"table\"}],\"barpolar\":[{\"marker\":{\"line\":{\"color\":\"#E5ECF6\",\"width\":0.5},\"pattern\":{\"fillmode\":\"overlay\",\"size\":10,\"solidity\":0.2}},\"type\":\"barpolar\"}],\"pie\":[{\"automargin\":true,\"type\":\"pie\"}]},\"layout\":{\"autotypenumbers\":\"strict\",\"colorway\":[\"#636efa\",\"#EF553B\",\"#00cc96\",\"#ab63fa\",\"#FFA15A\",\"#19d3f3\",\"#FF6692\",\"#B6E880\",\"#FF97FF\",\"#FECB52\"],\"font\":{\"color\":\"#2a3f5f\"},\"hovermode\":\"closest\",\"hoverlabel\":{\"align\":\"left\"},\"paper_bgcolor\":\"white\",\"plot_bgcolor\":\"#E5ECF6\",\"polar\":{\"bgcolor\":\"#E5ECF6\",\"angularaxis\":{\"gridcolor\":\"white\",\"linecolor\":\"white\",\"ticks\":\"\"},\"radialaxis\":{\"gridcolor\":\"white\",\"linecolor\":\"white\",\"ticks\":\"\"}},\"ternary\":{\"bgcolor\":\"#E5ECF6\",\"aaxis\":{\"gridcolor\":\"white\",\"linecolor\":\"white\",\"ticks\":\"\"},\"baxis\":{\"gridcolor\":\"white\",\"linecolor\":\"white\",\"ticks\":\"\"},\"caxis\":{\"gridcolor\":\"white\",\"linecolor\":\"white\",\"ticks\":\"\"}},\"coloraxis\":{\"colorbar\":{\"outlinewidth\":0,\"ticks\":\"\"}},\"colorscale\":{\"sequential\":[[0.0,\"#0d0887\"],[0.1111111111111111,\"#46039f\"],[0.2222222222222222,\"#7201a8\"],[0.3333333333333333,\"#9c179e\"],[0.4444444444444444,\"#bd3786\"],[0.5555555555555556,\"#d8576b\"],[0.6666666666666666,\"#ed7953\"],[0.7777777777777778,\"#fb9f3a\"],[0.8888888888888888,\"#fdca26\"],[1.0,\"#f0f921\"]],\"sequentialminus\":[[0.0,\"#0d0887\"],[0.1111111111111111,\"#46039f\"],[0.2222222222222222,\"#7201a8\"],[0.3333333333333333,\"#9c179e\"],[0.4444444444444444,\"#bd3786\"],[0.5555555555555556,\"#d8576b\"],[0.6666666666666666,\"#ed7953\"],[0.7777777777777778,\"#fb9f3a\"],[0.8888888888888888,\"#fdca26\"],[1.0,\"#f0f921\"]],\"diverging\":[[0,\"#8e0152\"],[0.1,\"#c51b7d\"],[0.2,\"#de77ae\"],[0.3,\"#f1b6da\"],[0.4,\"#fde0ef\"],[0.5,\"#f7f7f7\"],[0.6,\"#e6f5d0\"],[0.7,\"#b8e186\"],[0.8,\"#7fbc41\"],[0.9,\"#4d9221\"],[1,\"#276419\"]]},\"xaxis\":{\"gridcolor\":\"white\",\"linecolor\":\"white\",\"ticks\":\"\",\"title\":{\"standoff\":15},\"zerolinecolor\":\"white\",\"automargin\":true,\"zerolinewidth\":2},\"yaxis\":{\"gridcolor\":\"white\",\"linecolor\":\"white\",\"ticks\":\"\",\"title\":{\"standoff\":15},\"zerolinecolor\":\"white\",\"automargin\":true,\"zerolinewidth\":2},\"scene\":{\"xaxis\":{\"backgroundcolor\":\"#E5ECF6\",\"gridcolor\":\"white\",\"linecolor\":\"white\",\"showbackground\":true,\"ticks\":\"\",\"zerolinecolor\":\"white\",\"gridwidth\":2},\"yaxis\":{\"backgroundcolor\":\"#E5ECF6\",\"gridcolor\":\"white\",\"linecolor\":\"white\",\"showbackground\":true,\"ticks\":\"\",\"zerolinecolor\":\"white\",\"gridwidth\":2},\"zaxis\":{\"backgroundcolor\":\"#E5ECF6\",\"gridcolor\":\"white\",\"linecolor\":\"white\",\"showbackground\":true,\"ticks\":\"\",\"zerolinecolor\":\"white\",\"gridwidth\":2}},\"shapedefaults\":{\"line\":{\"color\":\"#2a3f5f\"}},\"annotationdefaults\":{\"arrowcolor\":\"#2a3f5f\",\"arrowhead\":0,\"arrowwidth\":1},\"geo\":{\"bgcolor\":\"white\",\"landcolor\":\"#E5ECF6\",\"subunitcolor\":\"white\",\"showland\":true,\"showlakes\":true,\"lakecolor\":\"white\"},\"title\":{\"x\":0.05},\"mapbox\":{\"style\":\"light\"}}},\"xaxis\":{\"anchor\":\"y\",\"domain\":[0.0,1.0],\"title\":{\"text\":\"flipper_length_mm\"}},\"yaxis\":{\"anchor\":\"x\",\"domain\":[0.0,0.7326],\"title\":{\"text\":\"count\"}},\"xaxis2\":{\"anchor\":\"y2\",\"domain\":[0.0,1.0],\"matches\":\"x\",\"showticklabels\":false,\"showgrid\":true},\"yaxis2\":{\"anchor\":\"x2\",\"domain\":[0.7426,1.0],\"matches\":\"y2\",\"showticklabels\":false,\"showline\":false,\"ticks\":\"\",\"showgrid\":false},\"legend\":{\"title\":{\"text\":\"species\"},\"tracegroupgap\":0},\"margin\":{\"t\":60},\"barmode\":\"relative\",\"shapes\":[{\"line\":{\"color\":\"green\",\"dash\":\"dash\"},\"type\":\"line\",\"x0\":189.95364238410596,\"x1\":189.95364238410596,\"xref\":\"x\",\"y0\":0,\"y1\":1,\"yref\":\"y domain\"},{\"line\":{\"color\":\"blue\",\"dash\":\"dash\"},\"type\":\"line\",\"x0\":190.0,\"x1\":190.0,\"xref\":\"x\",\"y0\":0,\"y1\":1,\"yref\":\"y domain\"},{\"fillcolor\":\"LightSkyBlue\",\"line\":{\"width\":0},\"opacity\":0.2,\"type\":\"rect\",\"x0\":172.0,\"x1\":210.0,\"xref\":\"x\",\"y0\":0,\"y1\":1,\"yref\":\"y domain\"},{\"fillcolor\":\"LightSkyBlue\",\"line\":{\"width\":0},\"opacity\":0.2,\"type\":\"rect\",\"x0\":172.0,\"x1\":210.0,\"xref\":\"x2\",\"y0\":0,\"y1\":1,\"yref\":\"y2 domain\"},{\"fillcolor\":\"LightGreen\",\"line\":{\"width\":0},\"opacity\":0.3,\"type\":\"rect\",\"x0\":186.0,\"x1\":195.0,\"xref\":\"x\",\"y0\":0,\"y1\":1,\"yref\":\"y domain\"},{\"fillcolor\":\"LightGreen\",\"line\":{\"width\":0},\"opacity\":0.3,\"type\":\"rect\",\"x0\":186.0,\"x1\":195.0,\"xref\":\"x2\",\"y0\":0,\"y1\":1,\"yref\":\"y2 domain\"},{\"fillcolor\":\"Salmon\",\"line\":{\"width\":0},\"opacity\":0.2,\"type\":\"rect\",\"x0\":176.87472754972336,\"x1\":203.03255721848856,\"xref\":\"x\",\"y0\":0,\"y1\":1,\"yref\":\"y domain\"},{\"fillcolor\":\"Salmon\",\"line\":{\"width\":0},\"opacity\":0.2,\"type\":\"rect\",\"x0\":176.87472754972336,\"x1\":203.03255721848856,\"xref\":\"x2\",\"y0\":0,\"y1\":1,\"yref\":\"y2 domain\"},{\"line\":{\"color\":\"green\",\"dash\":\"dash\"},\"type\":\"line\",\"x0\":195.8235294117647,\"x1\":195.8235294117647,\"xref\":\"x\",\"y0\":0,\"y1\":1,\"yref\":\"y domain\"},{\"line\":{\"color\":\"blue\",\"dash\":\"dash\"},\"type\":\"line\",\"x0\":196.0,\"x1\":196.0,\"xref\":\"x\",\"y0\":0,\"y1\":1,\"yref\":\"y domain\"},{\"fillcolor\":\"LightSkyBlue\",\"line\":{\"width\":0},\"opacity\":0.2,\"type\":\"rect\",\"x0\":178.0,\"x1\":212.0,\"xref\":\"x\",\"y0\":0,\"y1\":1,\"yref\":\"y domain\"},{\"fillcolor\":\"LightSkyBlue\",\"line\":{\"width\":0},\"opacity\":0.2,\"type\":\"rect\",\"x0\":178.0,\"x1\":212.0,\"xref\":\"x2\",\"y0\":0,\"y1\":1,\"yref\":\"y2 domain\"},{\"fillcolor\":\"LightGreen\",\"line\":{\"width\":0},\"opacity\":0.3,\"type\":\"rect\",\"x0\":191.0,\"x1\":201.0,\"xref\":\"x\",\"y0\":0,\"y1\":1,\"yref\":\"y domain\"},{\"fillcolor\":\"LightGreen\",\"line\":{\"width\":0},\"opacity\":0.3,\"type\":\"rect\",\"x0\":191.0,\"x1\":201.0,\"xref\":\"x2\",\"y0\":0,\"y1\":1,\"yref\":\"y2 domain\"},{\"fillcolor\":\"Salmon\",\"line\":{\"width\":0},\"opacity\":0.2,\"type\":\"rect\",\"x0\":181.5597408946084,\"x1\":210.08731792892098,\"xref\":\"x\",\"y0\":0,\"y1\":1,\"yref\":\"y domain\"},{\"fillcolor\":\"Salmon\",\"line\":{\"width\":0},\"opacity\":0.2,\"type\":\"rect\",\"x0\":181.5597408946084,\"x1\":210.08731792892098,\"xref\":\"x2\",\"y0\":0,\"y1\":1,\"yref\":\"y2 domain\"},{\"line\":{\"color\":\"green\",\"dash\":\"dash\"},\"type\":\"line\",\"x0\":217.1869918699187,\"x1\":217.1869918699187,\"xref\":\"x\",\"y0\":0,\"y1\":1,\"yref\":\"y domain\"},{\"line\":{\"color\":\"blue\",\"dash\":\"dash\"},\"type\":\"line\",\"x0\":216.0,\"x1\":216.0,\"xref\":\"x\",\"y0\":0,\"y1\":1,\"yref\":\"y domain\"},{\"fillcolor\":\"LightSkyBlue\",\"line\":{\"width\":0},\"opacity\":0.2,\"type\":\"rect\",\"x0\":203.0,\"x1\":231.0,\"xref\":\"x\",\"y0\":0,\"y1\":1,\"yref\":\"y domain\"},{\"fillcolor\":\"LightSkyBlue\",\"line\":{\"width\":0},\"opacity\":0.2,\"type\":\"rect\",\"x0\":203.0,\"x1\":231.0,\"xref\":\"x2\",\"y0\":0,\"y1\":1,\"yref\":\"y2 domain\"},{\"fillcolor\":\"LightGreen\",\"line\":{\"width\":0},\"opacity\":0.3,\"type\":\"rect\",\"x0\":212.0,\"x1\":221.0,\"xref\":\"x\",\"y0\":0,\"y1\":1,\"yref\":\"y domain\"},{\"fillcolor\":\"LightGreen\",\"line\":{\"width\":0},\"opacity\":0.3,\"type\":\"rect\",\"x0\":212.0,\"x1\":221.0,\"xref\":\"x2\",\"y0\":0,\"y1\":1,\"yref\":\"y2 domain\"},{\"fillcolor\":\"Salmon\",\"line\":{\"width\":0},\"opacity\":0.2,\"type\":\"rect\",\"x0\":204.2170402325708,\"x1\":230.1569435072666,\"xref\":\"x\",\"y0\":0,\"y1\":1,\"yref\":\"y domain\"},{\"fillcolor\":\"Salmon\",\"line\":{\"width\":0},\"opacity\":0.2,\"type\":\"rect\",\"x0\":204.2170402325708,\"x1\":230.1569435072666,\"xref\":\"x2\",\"y0\":0,\"y1\":1,\"yref\":\"y2 domain\"}],\"annotations\":[{\"showarrow\":false,\"text\":\"Mean\",\"x\":189.95364238410596,\"xanchor\":\"left\",\"xref\":\"x\",\"y\":1,\"yanchor\":\"top\",\"yref\":\"y domain\"},{\"showarrow\":false,\"text\":\"Median\",\"x\":190.0,\"xanchor\":\"left\",\"xref\":\"x\",\"y\":1,\"yanchor\":\"top\",\"yref\":\"y domain\"},{\"showarrow\":false,\"text\":\"Range\",\"x\":210.0,\"xanchor\":\"right\",\"xref\":\"x\",\"y\":1,\"yanchor\":\"top\",\"yref\":\"y domain\"},{\"showarrow\":false,\"text\":\"Range\",\"x\":210.0,\"xanchor\":\"right\",\"xref\":\"x2\",\"y\":1,\"yanchor\":\"top\",\"yref\":\"y2 domain\"},{\"showarrow\":false,\"text\":\"IQR\",\"x\":195.0,\"xanchor\":\"right\",\"xref\":\"x\",\"y\":1,\"yanchor\":\"top\",\"yref\":\"y domain\"},{\"showarrow\":false,\"text\":\"IQR\",\"x\":195.0,\"xanchor\":\"right\",\"xref\":\"x2\",\"y\":1,\"yanchor\":\"top\",\"yref\":\"y2 domain\"},{\"showarrow\":false,\"text\":\"2 Std Dev\",\"x\":203.03255721848856,\"xanchor\":\"right\",\"xref\":\"x\",\"y\":1,\"yanchor\":\"top\",\"yref\":\"y domain\"},{\"showarrow\":false,\"text\":\"2 Std Dev\",\"x\":203.03255721848856,\"xanchor\":\"right\",\"xref\":\"x2\",\"y\":1,\"yanchor\":\"top\",\"yref\":\"y2 domain\"},{\"showarrow\":false,\"text\":\"Mean\",\"x\":195.8235294117647,\"xanchor\":\"left\",\"xref\":\"x\",\"y\":1,\"yanchor\":\"top\",\"yref\":\"y domain\"},{\"showarrow\":false,\"text\":\"Median\",\"x\":196.0,\"xanchor\":\"left\",\"xref\":\"x\",\"y\":1,\"yanchor\":\"top\",\"yref\":\"y domain\"},{\"showarrow\":false,\"text\":\"Range\",\"x\":212.0,\"xanchor\":\"right\",\"xref\":\"x\",\"y\":1,\"yanchor\":\"top\",\"yref\":\"y domain\"},{\"showarrow\":false,\"text\":\"Range\",\"x\":212.0,\"xanchor\":\"right\",\"xref\":\"x2\",\"y\":1,\"yanchor\":\"top\",\"yref\":\"y2 domain\"},{\"showarrow\":false,\"text\":\"IQR\",\"x\":201.0,\"xanchor\":\"right\",\"xref\":\"x\",\"y\":1,\"yanchor\":\"top\",\"yref\":\"y domain\"},{\"showarrow\":false,\"text\":\"IQR\",\"x\":201.0,\"xanchor\":\"right\",\"xref\":\"x2\",\"y\":1,\"yanchor\":\"top\",\"yref\":\"y2 domain\"},{\"showarrow\":false,\"text\":\"2 Std Dev\",\"x\":210.08731792892098,\"xanchor\":\"right\",\"xref\":\"x\",\"y\":1,\"yanchor\":\"top\",\"yref\":\"y domain\"},{\"showarrow\":false,\"text\":\"2 Std Dev\",\"x\":210.08731792892098,\"xanchor\":\"right\",\"xref\":\"x2\",\"y\":1,\"yanchor\":\"top\",\"yref\":\"y2 domain\"},{\"showarrow\":false,\"text\":\"Mean\",\"x\":217.1869918699187,\"xanchor\":\"left\",\"xref\":\"x\",\"y\":1,\"yanchor\":\"top\",\"yref\":\"y domain\"},{\"showarrow\":false,\"text\":\"Median\",\"x\":216.0,\"xanchor\":\"left\",\"xref\":\"x\",\"y\":1,\"yanchor\":\"top\",\"yref\":\"y domain\"},{\"showarrow\":false,\"text\":\"Range\",\"x\":231.0,\"xanchor\":\"right\",\"xref\":\"x\",\"y\":1,\"yanchor\":\"top\",\"yref\":\"y domain\"},{\"showarrow\":false,\"text\":\"Range\",\"x\":231.0,\"xanchor\":\"right\",\"xref\":\"x2\",\"y\":1,\"yanchor\":\"top\",\"yref\":\"y2 domain\"},{\"showarrow\":false,\"text\":\"IQR\",\"x\":221.0,\"xanchor\":\"right\",\"xref\":\"x\",\"y\":1,\"yanchor\":\"top\",\"yref\":\"y domain\"},{\"showarrow\":false,\"text\":\"IQR\",\"x\":221.0,\"xanchor\":\"right\",\"xref\":\"x2\",\"y\":1,\"yanchor\":\"top\",\"yref\":\"y2 domain\"},{\"showarrow\":false,\"text\":\"2 Std Dev\",\"x\":230.1569435072666,\"xanchor\":\"right\",\"xref\":\"x\",\"y\":1,\"yanchor\":\"top\",\"yref\":\"y domain\"},{\"showarrow\":false,\"text\":\"2 Std Dev\",\"x\":230.1569435072666,\"xanchor\":\"right\",\"xref\":\"x2\",\"y\":1,\"yanchor\":\"top\",\"yref\":\"y2 domain\"}]},                        {\"responsive\": true}                    ).then(function(){\n",
       "                            \n",
       "var gd = document.getElementById('71d13a3a-c3d3-4081-bd77-38a4b96ff31f');\n",
       "var x = new MutationObserver(function (mutations, observer) {{\n",
       "        var display = window.getComputedStyle(gd).display;\n",
       "        if (!display || display === 'none') {{\n",
       "            console.log([gd, 'removed!']);\n",
       "            Plotly.purge(gd);\n",
       "            observer.disconnect();\n",
       "        }}\n",
       "}});\n",
       "\n",
       "// Listen for the removal of the full notebook cells\n",
       "var notebookContainer = gd.closest('#notebook-container');\n",
       "if (notebookContainer) {{\n",
       "    x.observe(notebookContainer, {childList: true});\n",
       "}}\n",
       "\n",
       "// Listen for the clearing of the current output cell\n",
       "var outputEl = gd.closest('.output');\n",
       "if (outputEl) {{\n",
       "    x.observe(outputEl, {childList: true});\n",
       "}}\n",
       "\n",
       "                        })                };                });            </script>        </div>"
      ]
     },
     "metadata": {},
     "output_type": "display_data"
    }
   ],
   "source": [
    "import plotly.express as px\n",
    "import plotly.graph_objects as go\n",
    "import seaborn as sns\n",
    "import numpy as np\n",
    "\n",
    "# Load penguins dataset\n",
    "penguins = sns.load_dataset('penguins')\n",
    "\n",
    "# Function to add lines and rectangles to the figure\n",
    "def add_statistics(fig, species, df):\n",
    "    # Filter data for the species\n",
    "    species_data = df[df['species'] == species]['flipper_length_mm'].dropna()\n",
    "\n",
    "    # Calculate statistics\n",
    "    mean = species_data.mean()\n",
    "    median = species_data.median()\n",
    "    flipper_min = species_data.min()\n",
    "    flipper_max = species_data.max()\n",
    "    std = species_data.std()\n",
    "    iqr = np.percentile(species_data, 75) - np.percentile(species_data, 25)\n",
    "    q1 = np.percentile(species_data, 25)\n",
    "    q3 = np.percentile(species_data, 75)\n",
    "    \n",
    "    # Add horizontal lines for mean and median\n",
    "    fig.add_vline(x=mean, line=dict(color='green', dash='dash'), annotation_text='Mean', row=1, col=1)\n",
    "    fig.add_vline(x=median, line=dict(color='blue', dash='dash'), annotation_text='Median', row=1, col=1)\n",
    "    \n",
    "    # Add rectangles for the different ranges\n",
    "    # Full range\n",
    "    fig.add_vrect(x0=flipper_min, x1=flipper_max, fillcolor=\"LightSkyBlue\", opacity=0.2, \n",
    "                  annotation_text=\"Range\", line_width=0)\n",
    "    \n",
    "    # Interquartile range (IQR)\n",
    "    fig.add_vrect(x0=q1, x1=q3, fillcolor=\"LightGreen\", opacity=0.3, annotation_text=\"IQR\", line_width=0)\n",
    "    \n",
    "    # 2 standard deviation range\n",
    "    fig.add_vrect(x0=mean - 2*std, x1=mean + 2*std, fillcolor=\"Salmon\", opacity=0.2, \n",
    "                  annotation_text=\"2 Std Dev\", line_width=0)\n",
    "\n",
    "# Create a figure with histograms for each species\n",
    "fig = px.histogram(penguins, x='flipper_length_mm', color='species', marginal='box')\n",
    "\n",
    "# For each species, add statistical markers\n",
    "species_list = penguins['species'].unique()\n",
    "for species in species_list:\n",
    "    add_statistics(fig, species, penguins)\n",
    "\n",
    "# Show the figure\n",
    "fig.show()\n"
   ]
  },
  {
   "cell_type": "markdown",
   "id": "e21eeb17",
   "metadata": {},
   "source": [
    " - px.histogram() is used to plot the histograms for each species, with the data being grouped by species.\n",
    " - The mean and median are marked using fig.add_vline() with different colors.\n",
    " - The full range of flipper length is shown with a light blue rectangle.\n",
    " - The interquartile range is shown with the light green rectangle.\n",
    " - The range within the two standard deviations from the mean is shown using the light red rectangle.\n",
    " \n",
    " Sidenote: While talking with ChatGPT, I was trying to fix the labels at the top of the graph (mean, median, range, etc). I figured out I can increase the top margin using (margin=dict(t=100). While the code is suppose to do create more space for the labels, it appears to have no effect. After a considerable amount of time trying to understand how to seperate these labels, I was unable to do so."
   ]
  },
  {
   "cell_type": "markdown",
   "id": "41b240d6",
   "metadata": {},
   "source": [
    "Question 2"
   ]
  },
  {
   "cell_type": "code",
   "execution_count": 7,
   "id": "4d8590b5",
   "metadata": {},
   "outputs": [
    {
     "data": {
      "image/png": "[encoded data removed]",
      "text/plain": [
       "<Figure size 1800x500 with 3 Axes>"
      ]
     },
     "metadata": {},
     "output_type": "display_data"
    }
   ],
   "source": [
    "import seaborn as sns\n",
    "import matplotlib.pyplot as plt\n",
    "import numpy as np\n",
    "\n",
    "# Load penguins dataset\n",
    "penguins = sns.load_dataset('penguins')\n",
    "\n",
    "# List of species\n",
    "species_list = penguins['species'].unique()\n",
    "\n",
    "# Set up figure and axes for 3 KDE plots\n",
    "fig, axes = plt.subplots(1, 3, figsize=(18, 5), sharey=True)\n",
    "\n",
    "# Function to add lines and rectangles to the KDE plot\n",
    "def add_statistics(ax, species, df):\n",
    "    # Filter data for the species\n",
    "    species_data = df[df['species'] == species]['flipper_length_mm'].dropna()\n",
    "\n",
    "    # Calculate statistics\n",
    "    mean = species_data.mean()\n",
    "    median = species_data.median()\n",
    "    flipper_min = species_data.min()\n",
    "    flipper_max = species_data.max()\n",
    "    std = species_data.std()\n",
    "    q1 = np.percentile(species_data, 25)\n",
    "    q3 = np.percentile(species_data, 75)\n",
    "    \n",
    "    # Plot KDE\n",
    "    sns.kdeplot(species_data, ax=ax, fill=True, color='skyblue')\n",
    "    \n",
    "    # Add vertical lines for mean and median\n",
    "    ax.axvline(mean, color='green', linestyle='--', label='Mean', linewidth=2)\n",
    "    ax.axvline(median, color='blue', linestyle='--', label='Median', linewidth=2)\n",
    "    \n",
    "    # Add shaded areas for the ranges\n",
    "    # Full range\n",
    "    ax.axvspan(flipper_min, flipper_max, color='lightblue', alpha=0.2, label='Range')\n",
    "    \n",
    "    # Interquartile range (IQR)\n",
    "    ax.axvspan(q1, q3, color='lightgreen', alpha=0.3, label='IQR')\n",
    "    \n",
    "    # 2 standard deviation range\n",
    "    ax.axvspan(mean - 2*std, mean + 2*std, color='salmon', alpha=0.2, label='2 Std Dev')\n",
    "\n",
    "    # Set title and labels\n",
    "    ax.set_title(f\"{species} Flipper Length KDE\")\n",
    "    ax.set_xlabel(\"Flipper Length (mm)\")\n",
    "    ax.set_ylabel(\"Density\")\n",
    "\n",
    "# Loop through species and plot on each axis\n",
    "for ax, species in zip(axes, species_list):\n",
    "    add_statistics(ax, species, penguins)\n",
    "\n",
    "# Add legends to the first plot (to avoid repeating it in every plot)\n",
    "axes[0].legend()\n",
    "\n",
    "# Adjust layout\n",
    "plt.tight_layout()\n",
    "\n",
    "# Show the plot\n",
    "plt.show()\n"
   ]
  },
  {
   "cell_type": "markdown",
   "id": "099bbe3f",
   "metadata": {},
   "source": [
    "\n",
    "Kernel Density Estimation (KDE): \n",
    "- Using sns.kdeplot() plots the distribution of flipper_length_mm for each species, filling the area under the curve with fill=True.\n",
    "\n",
    "Marking the Statstics:\n",
    "- ax.axvline() is used to draw vertical lines representing the mean (in green) and the median (in blue).\n",
    "- ax.axvspan() is used to add shaded regions representing:\n",
    "- The full range (min to max), is shown in light blue.\n",
    "- The interquartile range (IQR, between Q1 and Q3, in light green).\n",
    "- The range covering two standard deviations away from the mean (in light red).\n",
    "\n",
    "Layout:\n",
    "- 3 KDE plots is created using plt.subplots(1, 3) and the y-axis (sharey=True) is shared so that the density scales are consistent for each species.\n",
    "- Titles and labels are added to each plot.\n",
    "\n",
    "Legends:\n",
    "- To avoid clutter, the legend is added only to the first plot (axes[0].legend())\n",
    "\n",
    "Tight Layout:\n",
    "- plt.tight_layout() is used to ensure that the plots are properly spaced and do not overlap."
   ]
  },
  {
   "cell_type": "markdown",
   "id": "9feb50ed",
   "metadata": {},
   "source": [
    "Question 3"
   ]
  },
  {
   "cell_type": "markdown",
   "id": "05931c72",
   "metadata": {},
   "source": [
    "1.Boxplot:\n",
    "Key Features: Central Tendency, Spread, Outliners\n",
    "Advantages: Good for comparing distributions across groups, highlighting outliers, and showing the spread of data.\n",
    "Limitations: Lacks information about the detailed shape of the distribution, such as looking for both single and multiple peaks.\n",
    "\n",
    "2.Histograms:\n",
    "Key Features: Frequency and Shape of Distribution\n",
    "Advantages: Clearly shows how data is shown across different values, making it easy to see  skewness and overall spread.\n",
    "Limitations: too many or too few bins can obscure important details, affecting the visualization of the data \n",
    "\n",
    "3.Kernel Density Estimators:\n",
    "Key Features: Smoothing and Continuous Shape\n",
    "Advantages: good for understanding the overall shape of the distribution (peaks, valleys, skewness), including subtle patterns like multimodality (multiple peaks).\n",
    "Limitations: Sensitive to bandwidth parameter which can lead to oversmoothing or undersmoothing. It is also more abstract than histograms and can sometimes miss outliers or specific values.\n",
    "\n",
    "Box Plots are ideal for comparing groups and identifying outliers in a concise manner but are limited in showing the overall distribution's shape.\n",
    "\n",
    "Histograms are best for visualizing the raw frequency distribution and understanding the shape of the data, but are sensitive to bin sizes.\n",
    "\n",
    "Kernel Density Estimators are excellent for a smooth, continuous view of the distribution’s shape and highlighting subtle patterns, but sensitive to the bandwidth that is picked.\n",
    "\n",
    "Each method has its strengths, and the choice depends on whether you want a detailed look at the data’s shape, a summary of statistics, or a clear view of frequencies."
   ]
  },
  {
   "cell_type": "markdown",
   "id": "6be36238",
   "metadata": {},
   "source": [
    "Question 4"
   ]
  },
  {
   "cell_type": "markdown",
   "id": "c8edc50b",
   "metadata": {},
   "source": [
    "Looking at the data provided,\n",
    "1. Datasets with similar means and similar variances: No datasets perfectly match both criteria, but data2 and data4 come the closest.\n",
    "2. Datasets with similar means but quite different variances: data1 and data2.\n",
    "3. Datasets with similar variances but quite different means: data2 and data3.\n",
    "4. Datasets with quite different means and quite different variances: data1 and data4.\n"
   ]
  },
  {
   "cell_type": "markdown",
   "id": "0a5a4c27",
   "metadata": {},
   "source": [
    "Question 5"
   ]
  },
  {
   "cell_type": "markdown",
   "id": "3544617d",
   "metadata": {},
   "source": [
    "Right-skewed (Positively Skewed):\n",
    "- The mean is greater than the median because the distribution has a longer tail on the right-hand side (towards larger values). The extreme high values pull the mean to the right.\n",
    "Examples include income distributions where a small number of very large values (outliers) shift the mean to be higher than the median.\n",
    "Left-skewed (Negatively Skewed):\n",
    "- The mean is less than the median because the distribution has a longer tail on the left-hand side (towards smaller values). The extreme low values pull the mean to the left.\n",
    "Examples include distributions of test scores where most people score high but a few score very low, pulling the mean downward.\n",
    "\n",
    "Why Does This Happen? :The median is the central value in a sorted dataset, so it’s less affected by extreme values. It divides the dataset into two equal halves, meaning 50% of the data points are on either side of the median. The mean, however, is sensitive to extreme values. It’s the average of all values in the dataset, so outliers (extremely high or low values) have a larger impact on the mean than on the median.\n",
    "\n",
    "- stats.gamma(a=2, scale=2).rvs(size=1000) generates 1,000 random values from a Gamma distribution, which is known for being right-skewed. \n",
    "- The a=2 parameter sets the shape of the distribution, and scale=2 controls its spread.\n",
    "- px.histogram from the plotly.express library is used to visualize the distribution.\n",
    "- The fig1.show(renderer=\"png\") command displays the histogram, allowing us to visually inspect the right-skewed nature of the distribution.  \n",
    "\n",
    "When extending the code,\n",
    "- sample_right uses the Gamma distribution as before, creating right-skewed data. The mean should be greater than the median.\n",
    "-  sample_left is generated from a lognormal distribution and negated to create a left-skewed distribution. Here, the mean will be less than the median.\n",
    "\n",
    "Caculate mean and median using np.mean() and np.median() and plot vertical lines on the histograms.\n",
    "- For the right-skewed distribution, the mean is greater than the median.\n",
    "- For the left-skewed distribution, the mean is less than the median."
   ]
  },
  {
   "cell_type": "markdown",
   "id": "baefcdbd",
   "metadata": {},
   "source": [
    "Question 6"
   ]
  },
  {
   "cell_type": "markdown",
   "id": "8d382c5f",
   "metadata": {},
   "source": [
    "In the last tutorial session, I came up with 4 steps to work ing with a dataset. \n",
    "\n",
    " Step 1. Understand what type of data your working with.\n",
    "The data set I picked is a Iris dataset, a well-known dataset in machine learning and statistics. This dataset contains information about three different species of iris flowers: Iris-setosa, Iris-versicolor, and Iris-virginica. \n",
    "\n",
    "Step 2. Clean up the data take out missing values you don’t need, (simplify data)\n",
    "For each species, we will only be looking at the measurements of four features:\n",
    "- Sepal Length\n",
    "- Sepal Width\n",
    "- Petal Length\n",
    "- Petal Width\n",
    "\n",
    "Step 3. Isolate the relevant data"
   ]
  },
  {
   "cell_type": "code",
   "execution_count": 2,
   "id": "b9a31467",
   "metadata": {},
   "outputs": [
    {
     "name": "stdout",
     "output_type": "stream",
     "text": [
      "   sepal_length  sepal_width  petal_length  petal_width species\n",
      "0           5.1          3.5           1.4          0.2  setosa\n",
      "1           4.9          3.0           1.4          0.2  setosa\n",
      "2           4.7          3.2           1.3          0.2  setosa\n",
      "3           4.6          3.1           1.5          0.2  setosa\n",
      "4           5.0          3.6           1.4          0.2  setosa\n"
     ]
    }
   ],
   "source": [
    "# Import libraries\n",
    "import seaborn as sns\n",
    "import pandas as pd\n",
    "import matplotlib.pyplot as plt\n",
    "\n",
    "# Load the iris dataset from seaborn\n",
    "iris = sns.load_dataset('iris')\n",
    "\n",
    "# Show the first few rows of the dataset\n",
    "print(iris.head())\n"
   ]
  },
  {
   "cell_type": "markdown",
   "id": "79e2deb8",
   "metadata": {},
   "source": [
    "4. Statical analysis\n",
    "- Petal Length and Petal Width have the strongest correlation. This suggests that these two features are highly related, and we could likely use one to predict the other.\n",
    "- Sepal Width has a weak correlation with other features, indicating it may be less useful for classification.\n",
    "- Iris-setosa is clearly distinguishable from the other species based on petal size, as seen in the boxplot. Its petals are much smaller compared to the other two species.\n",
    "- Iris-versicolor and Iris-virginica have some overlap in certain features, but they can be separated when considering multiple features together, as shown in the pairplot."
   ]
  },
  {
   "cell_type": "markdown",
   "id": "e83def8a",
   "metadata": {},
   "source": [
    "Question 7"
   ]
  },
  {
   "cell_type": "code",
   "execution_count": 2,
   "id": "563da902",
   "metadata": {},
   "outputs": [
    {
     "data": {
      "application/vnd.plotly.v1+json": {
       "config": {
        "plotlyServerURL": "https://plot.ly"
       },
       "data": [
        {
         "hovertemplate": "species=setosa<br>petal_length=1.4<br>Sepal Length=%{x}<br>Sepal Width=%{y}<extra></extra>",
         "legendgroup": "setosa",
         "marker": {
          "color": "#636efa",
          "symbol": "circle"
         },
         "mode": "markers",
         "name": "setosa",
         "orientation": "v",
         "showlegend": true,
         "type": "scatter",
         "x": [
          5.1,
          4.9,
          5,
          4.6,
          4.4,
          4.8,
          5.1,
          5.2,
          5.5,
          4.9,
          4.8,
          4.6,
          5
         ],
         "xaxis": "x",
         "y": [
          3.5,
          3,
          3.6,
          3.4,
          2.9,
          3,
          3.5,
          3.4,
          4.2,
          3.6,
          3,
          3.2,
          3.3
         ],
         "yaxis": "y"
        }
       ],
       "frames": [
        {
         "data": [
          {
           "hovertemplate": "species=setosa<br>petal_length=1.4<br>Sepal Length=%{x}<br>Sepal Width=%{y}<extra></extra>",
           "legendgroup": "setosa",
           "marker": {
            "color": "#636efa",
            "symbol": "circle"
           },
           "mode": "markers",
           "name": "setosa",
           "orientation": "v",
           "showlegend": true,
           "type": "scatter",
           "x": [
            5.1,
            4.9,
            5,
            4.6,
            4.4,
            4.8,
            5.1,
            5.2,
            5.5,
            4.9,
            4.8,
            4.6,
            5
           ],
           "xaxis": "x",
           "y": [
            3.5,
            3,
            3.6,
            3.4,
            2.9,
            3,
            3.5,
            3.4,
            4.2,
            3.6,
            3,
            3.2,
            3.3
           ],
           "yaxis": "y"
          }
         ],
         "name": "1.4"
        },
        {
         "data": [
          {
           "hovertemplate": "species=setosa<br>petal_length=1.3<br>Sepal Length=%{x}<br>Sepal Width=%{y}<extra></extra>",
           "legendgroup": "setosa",
           "marker": {
            "color": "#636efa",
            "symbol": "circle"
           },
           "mode": "markers",
           "name": "setosa",
           "orientation": "v",
           "showlegend": true,
           "type": "scatter",
           "x": [
            4.7,
            5.4,
            5.5,
            4.4,
            5,
            4.5,
            4.4
           ],
           "xaxis": "x",
           "y": [
            3.2,
            3.9,
            3.5,
            3,
            3.5,
            2.3,
            3.2
           ],
           "yaxis": "y"
          }
         ],
         "name": "1.3"
        },
        {
         "data": [
          {
           "hovertemplate": "species=setosa<br>petal_length=1.5<br>Sepal Length=%{x}<br>Sepal Width=%{y}<extra></extra>",
           "legendgroup": "setosa",
           "marker": {
            "color": "#636efa",
            "symbol": "circle"
           },
           "mode": "markers",
           "name": "setosa",
           "orientation": "v",
           "showlegend": true,
           "type": "scatter",
           "x": [
            4.6,
            5,
            4.9,
            5.4,
            5.7,
            5.1,
            5.1,
            5.2,
            5.4,
            5.2,
            4.9,
            5.1,
            5.3
           ],
           "xaxis": "x",
           "y": [
            3.1,
            3.4,
            3.1,
            3.7,
            4.4,
            3.8,
            3.7,
            3.5,
            3.4,
            4.1,
            3.1,
            3.4,
            3.7
           ],
           "yaxis": "y"
          }
         ],
         "name": "1.5"
        },
        {
         "data": [
          {
           "hovertemplate": "species=setosa<br>petal_length=1.7<br>Sepal Length=%{x}<br>Sepal Width=%{y}<extra></extra>",
           "legendgroup": "setosa",
           "marker": {
            "color": "#636efa",
            "symbol": "circle"
           },
           "mode": "markers",
           "name": "setosa",
           "orientation": "v",
           "showlegend": true,
           "type": "scatter",
           "x": [
            5.4,
            5.7,
            5.4,
            5.1
           ],
           "xaxis": "x",
           "y": [
            3.9,
            3.8,
            3.4,
            3.3
           ],
           "yaxis": "y"
          }
         ],
         "name": "1.7"
        },
        {
         "data": [
          {
           "hovertemplate": "species=setosa<br>petal_length=1.6<br>Sepal Length=%{x}<br>Sepal Width=%{y}<extra></extra>",
           "legendgroup": "setosa",
           "marker": {
            "color": "#636efa",
            "symbol": "circle"
           },
           "mode": "markers",
           "name": "setosa",
           "orientation": "v",
           "showlegend": true,
           "type": "scatter",
           "x": [
            4.8,
            5,
            5,
            4.7,
            4.8,
            5,
            5.1
           ],
           "xaxis": "x",
           "y": [
            3.4,
            3,
            3.4,
            3.2,
            3.1,
            3.5,
            3.8
           ],
           "yaxis": "y"
          }
         ],
         "name": "1.6"
        },
        {
         "data": [
          {
           "hovertemplate": "species=setosa<br>petal_length=1.1<br>Sepal Length=%{x}<br>Sepal Width=%{y}<extra></extra>",
           "legendgroup": "setosa",
           "marker": {
            "color": "#636efa",
            "symbol": "circle"
           },
           "mode": "markers",
           "name": "setosa",
           "orientation": "v",
           "showlegend": true,
           "type": "scatter",
           "x": [
            4.3
           ],
           "xaxis": "x",
           "y": [
            3
           ],
           "yaxis": "y"
          }
         ],
         "name": "1.1"
        },
        {
         "data": [
          {
           "hovertemplate": "species=setosa<br>petal_length=1.2<br>Sepal Length=%{x}<br>Sepal Width=%{y}<extra></extra>",
           "legendgroup": "setosa",
           "marker": {
            "color": "#636efa",
            "symbol": "circle"
           },
           "mode": "markers",
           "name": "setosa",
           "orientation": "v",
           "showlegend": true,
           "type": "scatter",
           "x": [
            5.8,
            5
           ],
           "xaxis": "x",
           "y": [
            4,
            3.2
           ],
           "yaxis": "y"
          }
         ],
         "name": "1.2"
        },
        {
         "data": [
          {
           "hovertemplate": "species=setosa<br>petal_length=1.0<br>Sepal Length=%{x}<br>Sepal Width=%{y}<extra></extra>",
           "legendgroup": "setosa",
           "marker": {
            "color": "#636efa",
            "symbol": "circle"
           },
           "mode": "markers",
           "name": "setosa",
           "orientation": "v",
           "showlegend": true,
           "type": "scatter",
           "x": [
            4.6
           ],
           "xaxis": "x",
           "y": [
            3.6
           ],
           "yaxis": "y"
          }
         ],
         "name": "1.0"
        },
        {
         "data": [
          {
           "hovertemplate": "species=setosa<br>petal_length=1.9<br>Sepal Length=%{x}<br>Sepal Width=%{y}<extra></extra>",
           "legendgroup": "setosa",
           "marker": {
            "color": "#636efa",
            "symbol": "circle"
           },
           "mode": "markers",
           "name": "setosa",
           "orientation": "v",
           "showlegend": true,
           "type": "scatter",
           "x": [
            4.8,
            5.1
           ],
           "xaxis": "x",
           "y": [
            3.4,
            3.8
           ],
           "yaxis": "y"
          }
         ],
         "name": "1.9"
        },
        {
         "data": [
          {
           "hovertemplate": "species=versicolor<br>petal_length=4.7<br>Sepal Length=%{x}<br>Sepal Width=%{y}<extra></extra>",
           "legendgroup": "versicolor",
           "marker": {
            "color": "#EF553B",
            "symbol": "circle"
           },
           "mode": "markers",
           "name": "versicolor",
           "orientation": "v",
           "showlegend": true,
           "type": "scatter",
           "x": [
            7,
            6.3,
            6.1,
            6.1,
            6.7
           ],
           "xaxis": "x",
           "y": [
            3.2,
            3.3,
            2.9,
            2.8,
            3.1
           ],
           "yaxis": "y"
          }
         ],
         "name": "4.7"
        },
        {
         "data": [
          {
           "hovertemplate": "species=versicolor<br>petal_length=4.5<br>Sepal Length=%{x}<br>Sepal Width=%{y}<extra></extra>",
           "legendgroup": "versicolor",
           "marker": {
            "color": "#EF553B",
            "symbol": "circle"
           },
           "mode": "markers",
           "name": "versicolor",
           "orientation": "v",
           "showlegend": true,
           "type": "scatter",
           "x": [
            6.4,
            5.7,
            5.6,
            6.2,
            6,
            5.4,
            6
           ],
           "xaxis": "x",
           "y": [
            3.2,
            2.8,
            3,
            2.2,
            2.9,
            3,
            3.4
           ],
           "yaxis": "y"
          },
          {
           "hovertemplate": "species=virginica<br>petal_length=4.5<br>Sepal Length=%{x}<br>Sepal Width=%{y}<extra></extra>",
           "legendgroup": "virginica",
           "marker": {
            "color": "#00cc96",
            "symbol": "circle"
           },
           "mode": "markers",
           "name": "virginica",
           "orientation": "v",
           "showlegend": true,
           "type": "scatter",
           "x": [
            4.9
           ],
           "xaxis": "x",
           "y": [
            2.5
           ],
           "yaxis": "y"
          }
         ],
         "name": "4.5"
        },
        {
         "data": [
          {
           "hovertemplate": "species=versicolor<br>petal_length=4.9<br>Sepal Length=%{x}<br>Sepal Width=%{y}<extra></extra>",
           "legendgroup": "versicolor",
           "marker": {
            "color": "#EF553B",
            "symbol": "circle"
           },
           "mode": "markers",
           "name": "versicolor",
           "orientation": "v",
           "showlegend": true,
           "type": "scatter",
           "x": [
            6.9,
            6.3
           ],
           "xaxis": "x",
           "y": [
            3.1,
            2.5
           ],
           "yaxis": "y"
          },
          {
           "hovertemplate": "species=virginica<br>petal_length=4.9<br>Sepal Length=%{x}<br>Sepal Width=%{y}<extra></extra>",
           "legendgroup": "virginica",
           "marker": {
            "color": "#00cc96",
            "symbol": "circle"
           },
           "mode": "markers",
           "name": "virginica",
           "orientation": "v",
           "showlegend": true,
           "type": "scatter",
           "x": [
            5.6,
            6.3,
            6.1
           ],
           "xaxis": "x",
           "y": [
            2.8,
            2.7,
            3
           ],
           "yaxis": "y"
          }
         ],
         "name": "4.9"
        },
        {
         "data": [
          {
           "hovertemplate": "species=versicolor<br>petal_length=4.0<br>Sepal Length=%{x}<br>Sepal Width=%{y}<extra></extra>",
           "legendgroup": "versicolor",
           "marker": {
            "color": "#EF553B",
            "symbol": "circle"
           },
           "mode": "markers",
           "name": "versicolor",
           "orientation": "v",
           "showlegend": true,
           "type": "scatter",
           "x": [
            5.5,
            6,
            6.1,
            5.5,
            5.8
           ],
           "xaxis": "x",
           "y": [
            2.3,
            2.2,
            2.8,
            2.5,
            2.6
           ],
           "yaxis": "y"
          }
         ],
         "name": "4.0"
        },
        {
         "data": [
          {
           "hovertemplate": "species=versicolor<br>petal_length=4.6<br>Sepal Length=%{x}<br>Sepal Width=%{y}<extra></extra>",
           "legendgroup": "versicolor",
           "marker": {
            "color": "#EF553B",
            "symbol": "circle"
           },
           "mode": "markers",
           "name": "versicolor",
           "orientation": "v",
           "showlegend": true,
           "type": "scatter",
           "x": [
            6.5,
            6.6,
            6.1
           ],
           "xaxis": "x",
           "y": [
            2.8,
            2.9,
            3
           ],
           "yaxis": "y"
          }
         ],
         "name": "4.6"
        },
        {
         "data": [
          {
           "hovertemplate": "species=versicolor<br>petal_length=3.3<br>Sepal Length=%{x}<br>Sepal Width=%{y}<extra></extra>",
           "legendgroup": "versicolor",
           "marker": {
            "color": "#EF553B",
            "symbol": "circle"
           },
           "mode": "markers",
           "name": "versicolor",
           "orientation": "v",
           "showlegend": true,
           "type": "scatter",
           "x": [
            4.9,
            5
           ],
           "xaxis": "x",
           "y": [
            2.4,
            2.3
           ],
           "yaxis": "y"
          }
         ],
         "name": "3.3"
        },
        {
         "data": [
          {
           "hovertemplate": "species=versicolor<br>petal_length=3.9<br>Sepal Length=%{x}<br>Sepal Width=%{y}<extra></extra>",
           "legendgroup": "versicolor",
           "marker": {
            "color": "#EF553B",
            "symbol": "circle"
           },
           "mode": "markers",
           "name": "versicolor",
           "orientation": "v",
           "showlegend": true,
           "type": "scatter",
           "x": [
            5.2,
            5.6,
            5.8
           ],
           "xaxis": "x",
           "y": [
            2.7,
            2.5,
            2.7
           ],
           "yaxis": "y"
          }
         ],
         "name": "3.9"
        },
        {
         "data": [
          {
           "hovertemplate": "species=versicolor<br>petal_length=3.5<br>Sepal Length=%{x}<br>Sepal Width=%{y}<extra></extra>",
           "legendgroup": "versicolor",
           "marker": {
            "color": "#EF553B",
            "symbol": "circle"
           },
           "mode": "markers",
           "name": "versicolor",
           "orientation": "v",
           "showlegend": true,
           "type": "scatter",
           "x": [
            5,
            5.7
           ],
           "xaxis": "x",
           "y": [
            2,
            2.6
           ],
           "yaxis": "y"
          }
         ],
         "name": "3.5"
        },
        {
         "data": [
          {
           "hovertemplate": "species=versicolor<br>petal_length=4.2<br>Sepal Length=%{x}<br>Sepal Width=%{y}<extra></extra>",
           "legendgroup": "versicolor",
           "marker": {
            "color": "#EF553B",
            "symbol": "circle"
           },
           "mode": "markers",
           "name": "versicolor",
           "orientation": "v",
           "showlegend": true,
           "type": "scatter",
           "x": [
            5.9,
            5.6,
            5.7,
            5.7
           ],
           "xaxis": "x",
           "y": [
            3,
            2.7,
            3,
            2.9
           ],
           "yaxis": "y"
          }
         ],
         "name": "4.2"
        },
        {
         "data": [
          {
           "hovertemplate": "species=versicolor<br>petal_length=3.6<br>Sepal Length=%{x}<br>Sepal Width=%{y}<extra></extra>",
           "legendgroup": "versicolor",
           "marker": {
            "color": "#EF553B",
            "symbol": "circle"
           },
           "mode": "markers",
           "name": "versicolor",
           "orientation": "v",
           "showlegend": true,
           "type": "scatter",
           "x": [
            5.6
           ],
           "xaxis": "x",
           "y": [
            2.9
           ],
           "yaxis": "y"
          }
         ],
         "name": "3.6"
        },
        {
         "data": [
          {
           "hovertemplate": "species=versicolor<br>petal_length=4.4<br>Sepal Length=%{x}<br>Sepal Width=%{y}<extra></extra>",
           "legendgroup": "versicolor",
           "marker": {
            "color": "#EF553B",
            "symbol": "circle"
           },
           "mode": "markers",
           "name": "versicolor",
           "orientation": "v",
           "showlegend": true,
           "type": "scatter",
           "x": [
            6.7,
            6.6,
            6.3,
            5.5
           ],
           "xaxis": "x",
           "y": [
            3.1,
            3,
            2.3,
            2.6
           ],
           "yaxis": "y"
          }
         ],
         "name": "4.4"
        },
        {
         "data": [
          {
           "hovertemplate": "species=versicolor<br>petal_length=4.1<br>Sepal Length=%{x}<br>Sepal Width=%{y}<extra></extra>",
           "legendgroup": "versicolor",
           "marker": {
            "color": "#EF553B",
            "symbol": "circle"
           },
           "mode": "markers",
           "name": "versicolor",
           "orientation": "v",
           "showlegend": true,
           "type": "scatter",
           "x": [
            5.8,
            5.6,
            5.7
           ],
           "xaxis": "x",
           "y": [
            2.7,
            3,
            2.8
           ],
           "yaxis": "y"
          }
         ],
         "name": "4.1"
        },
        {
         "data": [
          {
           "hovertemplate": "species=versicolor<br>petal_length=4.8<br>Sepal Length=%{x}<br>Sepal Width=%{y}<extra></extra>",
           "legendgroup": "versicolor",
           "marker": {
            "color": "#EF553B",
            "symbol": "circle"
           },
           "mode": "markers",
           "name": "versicolor",
           "orientation": "v",
           "showlegend": true,
           "type": "scatter",
           "x": [
            5.9,
            6.8
           ],
           "xaxis": "x",
           "y": [
            3.2,
            2.8
           ],
           "yaxis": "y"
          },
          {
           "hovertemplate": "species=virginica<br>petal_length=4.8<br>Sepal Length=%{x}<br>Sepal Width=%{y}<extra></extra>",
           "legendgroup": "virginica",
           "marker": {
            "color": "#00cc96",
            "symbol": "circle"
           },
           "mode": "markers",
           "name": "virginica",
           "orientation": "v",
           "showlegend": true,
           "type": "scatter",
           "x": [
            6.2,
            6
           ],
           "xaxis": "x",
           "y": [
            2.8,
            3
           ],
           "yaxis": "y"
          }
         ],
         "name": "4.8"
        },
        {
         "data": [
          {
           "hovertemplate": "species=versicolor<br>petal_length=4.3<br>Sepal Length=%{x}<br>Sepal Width=%{y}<extra></extra>",
           "legendgroup": "versicolor",
           "marker": {
            "color": "#EF553B",
            "symbol": "circle"
           },
           "mode": "markers",
           "name": "versicolor",
           "orientation": "v",
           "showlegend": true,
           "type": "scatter",
           "x": [
            6.4,
            6.2
           ],
           "xaxis": "x",
           "y": [
            2.9,
            2.9
           ],
           "yaxis": "y"
          }
         ],
         "name": "4.3"
        },
        {
         "data": [
          {
           "hovertemplate": "species=versicolor<br>petal_length=5.0<br>Sepal Length=%{x}<br>Sepal Width=%{y}<extra></extra>",
           "legendgroup": "versicolor",
           "marker": {
            "color": "#EF553B",
            "symbol": "circle"
           },
           "mode": "markers",
           "name": "versicolor",
           "orientation": "v",
           "showlegend": true,
           "type": "scatter",
           "x": [
            6.7
           ],
           "xaxis": "x",
           "y": [
            3
           ],
           "yaxis": "y"
          },
          {
           "hovertemplate": "species=virginica<br>petal_length=5.0<br>Sepal Length=%{x}<br>Sepal Width=%{y}<extra></extra>",
           "legendgroup": "virginica",
           "marker": {
            "color": "#00cc96",
            "symbol": "circle"
           },
           "mode": "markers",
           "name": "virginica",
           "orientation": "v",
           "showlegend": true,
           "type": "scatter",
           "x": [
            5.7,
            6,
            6.3
           ],
           "xaxis": "x",
           "y": [
            2.5,
            2.2,
            2.5
           ],
           "yaxis": "y"
          }
         ],
         "name": "5.0"
        },
        {
         "data": [
          {
           "hovertemplate": "species=versicolor<br>petal_length=3.8<br>Sepal Length=%{x}<br>Sepal Width=%{y}<extra></extra>",
           "legendgroup": "versicolor",
           "marker": {
            "color": "#EF553B",
            "symbol": "circle"
           },
           "mode": "markers",
           "name": "versicolor",
           "orientation": "v",
           "showlegend": true,
           "type": "scatter",
           "x": [
            5.5
           ],
           "xaxis": "x",
           "y": [
            2.4
           ],
           "yaxis": "y"
          }
         ],
         "name": "3.8"
        },
        {
         "data": [
          {
           "hovertemplate": "species=versicolor<br>petal_length=3.7<br>Sepal Length=%{x}<br>Sepal Width=%{y}<extra></extra>",
           "legendgroup": "versicolor",
           "marker": {
            "color": "#EF553B",
            "symbol": "circle"
           },
           "mode": "markers",
           "name": "versicolor",
           "orientation": "v",
           "showlegend": true,
           "type": "scatter",
           "x": [
            5.5
           ],
           "xaxis": "x",
           "y": [
            2.4
           ],
           "yaxis": "y"
          }
         ],
         "name": "3.7"
        },
        {
         "data": [
          {
           "hovertemplate": "species=versicolor<br>petal_length=5.1<br>Sepal Length=%{x}<br>Sepal Width=%{y}<extra></extra>",
           "legendgroup": "versicolor",
           "marker": {
            "color": "#EF553B",
            "symbol": "circle"
           },
           "mode": "markers",
           "name": "versicolor",
           "orientation": "v",
           "showlegend": true,
           "type": "scatter",
           "x": [
            6
           ],
           "xaxis": "x",
           "y": [
            2.7
           ],
           "yaxis": "y"
          },
          {
           "hovertemplate": "species=virginica<br>petal_length=5.1<br>Sepal Length=%{x}<br>Sepal Width=%{y}<extra></extra>",
           "legendgroup": "virginica",
           "marker": {
            "color": "#00cc96",
            "symbol": "circle"
           },
           "mode": "markers",
           "name": "virginica",
           "orientation": "v",
           "showlegend": true,
           "type": "scatter",
           "x": [
            5.8,
            6.5,
            5.8,
            6.3,
            6.9,
            5.8,
            5.9
           ],
           "xaxis": "x",
           "y": [
            2.7,
            3.2,
            2.8,
            2.8,
            3.1,
            2.7,
            3
           ],
           "yaxis": "y"
          }
         ],
         "name": "5.1"
        },
        {
         "data": [
          {
           "hovertemplate": "species=versicolor<br>petal_length=3.0<br>Sepal Length=%{x}<br>Sepal Width=%{y}<extra></extra>",
           "legendgroup": "versicolor",
           "marker": {
            "color": "#EF553B",
            "symbol": "circle"
           },
           "mode": "markers",
           "name": "versicolor",
           "orientation": "v",
           "showlegend": true,
           "type": "scatter",
           "x": [
            5.1
           ],
           "xaxis": "x",
           "y": [
            2.5
           ],
           "yaxis": "y"
          }
         ],
         "name": "3.0"
        },
        {
         "data": [
          {
           "hovertemplate": "species=virginica<br>petal_length=6.0<br>Sepal Length=%{x}<br>Sepal Width=%{y}<extra></extra>",
           "legendgroup": "virginica",
           "marker": {
            "color": "#00cc96",
            "symbol": "circle"
           },
           "mode": "markers",
           "name": "virginica",
           "orientation": "v",
           "showlegend": true,
           "type": "scatter",
           "x": [
            6.3,
            7.2
           ],
           "xaxis": "x",
           "y": [
            3.3,
            3.2
           ],
           "yaxis": "y"
          }
         ],
         "name": "6.0"
        },
        {
         "data": [
          {
           "hovertemplate": "species=virginica<br>petal_length=5.9<br>Sepal Length=%{x}<br>Sepal Width=%{y}<extra></extra>",
           "legendgroup": "virginica",
           "marker": {
            "color": "#00cc96",
            "symbol": "circle"
           },
           "mode": "markers",
           "name": "virginica",
           "orientation": "v",
           "showlegend": true,
           "type": "scatter",
           "x": [
            7.1,
            6.8
           ],
           "xaxis": "x",
           "y": [
            3,
            3.2
           ],
           "yaxis": "y"
          }
         ],
         "name": "5.9"
        },
        {
         "data": [
          {
           "hovertemplate": "species=virginica<br>petal_length=5.6<br>Sepal Length=%{x}<br>Sepal Width=%{y}<extra></extra>",
           "legendgroup": "virginica",
           "marker": {
            "color": "#00cc96",
            "symbol": "circle"
           },
           "mode": "markers",
           "name": "virginica",
           "orientation": "v",
           "showlegend": true,
           "type": "scatter",
           "x": [
            6.3,
            6.4,
            6.4,
            6.1,
            6.3,
            6.7
           ],
           "xaxis": "x",
           "y": [
            2.9,
            2.8,
            2.8,
            2.6,
            3.4,
            3.1
           ],
           "yaxis": "y"
          }
         ],
         "name": "5.6"
        },
        {
         "data": [
          {
           "hovertemplate": "species=virginica<br>petal_length=5.8<br>Sepal Length=%{x}<br>Sepal Width=%{y}<extra></extra>",
           "legendgroup": "virginica",
           "marker": {
            "color": "#00cc96",
            "symbol": "circle"
           },
           "mode": "markers",
           "name": "virginica",
           "orientation": "v",
           "showlegend": true,
           "type": "scatter",
           "x": [
            6.5,
            6.7,
            7.2
           ],
           "xaxis": "x",
           "y": [
            3,
            2.5,
            3
           ],
           "yaxis": "y"
          }
         ],
         "name": "5.8"
        },
        {
         "data": [
          {
           "hovertemplate": "species=virginica<br>petal_length=6.6<br>Sepal Length=%{x}<br>Sepal Width=%{y}<extra></extra>",
           "legendgroup": "virginica",
           "marker": {
            "color": "#00cc96",
            "symbol": "circle"
           },
           "mode": "markers",
           "name": "virginica",
           "orientation": "v",
           "showlegend": true,
           "type": "scatter",
           "x": [
            7.6
           ],
           "xaxis": "x",
           "y": [
            3
           ],
           "yaxis": "y"
          }
         ],
         "name": "6.6"
        },
        {
         "data": [
          {
           "hovertemplate": "species=virginica<br>petal_length=6.3<br>Sepal Length=%{x}<br>Sepal Width=%{y}<extra></extra>",
           "legendgroup": "virginica",
           "marker": {
            "color": "#00cc96",
            "symbol": "circle"
           },
           "mode": "markers",
           "name": "virginica",
           "orientation": "v",
           "showlegend": true,
           "type": "scatter",
           "x": [
            7.3
           ],
           "xaxis": "x",
           "y": [
            2.9
           ],
           "yaxis": "y"
          }
         ],
         "name": "6.3"
        },
        {
         "data": [
          {
           "hovertemplate": "species=virginica<br>petal_length=6.1<br>Sepal Length=%{x}<br>Sepal Width=%{y}<extra></extra>",
           "legendgroup": "virginica",
           "marker": {
            "color": "#00cc96",
            "symbol": "circle"
           },
           "mode": "markers",
           "name": "virginica",
           "orientation": "v",
           "showlegend": true,
           "type": "scatter",
           "x": [
            7.2,
            7.4,
            7.7
           ],
           "xaxis": "x",
           "y": [
            3.6,
            2.8,
            3
           ],
           "yaxis": "y"
          }
         ],
         "name": "6.1"
        },
        {
         "data": [
          {
           "hovertemplate": "species=virginica<br>petal_length=5.3<br>Sepal Length=%{x}<br>Sepal Width=%{y}<extra></extra>",
           "legendgroup": "virginica",
           "marker": {
            "color": "#00cc96",
            "symbol": "circle"
           },
           "mode": "markers",
           "name": "virginica",
           "orientation": "v",
           "showlegend": true,
           "type": "scatter",
           "x": [
            6.4,
            6.4
           ],
           "xaxis": "x",
           "y": [
            2.7,
            3.2
           ],
           "yaxis": "y"
          }
         ],
         "name": "5.3"
        },
        {
         "data": [
          {
           "hovertemplate": "species=virginica<br>petal_length=5.5<br>Sepal Length=%{x}<br>Sepal Width=%{y}<extra></extra>",
           "legendgroup": "virginica",
           "marker": {
            "color": "#00cc96",
            "symbol": "circle"
           },
           "mode": "markers",
           "name": "virginica",
           "orientation": "v",
           "showlegend": true,
           "type": "scatter",
           "x": [
            6.8,
            6.5,
            6.4
           ],
           "xaxis": "x",
           "y": [
            3,
            3,
            3.1
           ],
           "yaxis": "y"
          }
         ],
         "name": "5.5"
        },
        {
         "data": [
          {
           "hovertemplate": "species=virginica<br>petal_length=6.7<br>Sepal Length=%{x}<br>Sepal Width=%{y}<extra></extra>",
           "legendgroup": "virginica",
           "marker": {
            "color": "#00cc96",
            "symbol": "circle"
           },
           "mode": "markers",
           "name": "virginica",
           "orientation": "v",
           "showlegend": true,
           "type": "scatter",
           "x": [
            7.7,
            7.7
           ],
           "xaxis": "x",
           "y": [
            3.8,
            2.8
           ],
           "yaxis": "y"
          }
         ],
         "name": "6.7"
        },
        {
         "data": [
          {
           "hovertemplate": "species=virginica<br>petal_length=6.9<br>Sepal Length=%{x}<br>Sepal Width=%{y}<extra></extra>",
           "legendgroup": "virginica",
           "marker": {
            "color": "#00cc96",
            "symbol": "circle"
           },
           "mode": "markers",
           "name": "virginica",
           "orientation": "v",
           "showlegend": true,
           "type": "scatter",
           "x": [
            7.7
           ],
           "xaxis": "x",
           "y": [
            2.6
           ],
           "yaxis": "y"
          }
         ],
         "name": "6.9"
        },
        {
         "data": [
          {
           "hovertemplate": "species=virginica<br>petal_length=5.7<br>Sepal Length=%{x}<br>Sepal Width=%{y}<extra></extra>",
           "legendgroup": "virginica",
           "marker": {
            "color": "#00cc96",
            "symbol": "circle"
           },
           "mode": "markers",
           "name": "virginica",
           "orientation": "v",
           "showlegend": true,
           "type": "scatter",
           "x": [
            6.9,
            6.7,
            6.7
           ],
           "xaxis": "x",
           "y": [
            3.2,
            3.3,
            3.3
           ],
           "yaxis": "y"
          }
         ],
         "name": "5.7"
        },
        {
         "data": [
          {
           "hovertemplate": "species=virginica<br>petal_length=6.4<br>Sepal Length=%{x}<br>Sepal Width=%{y}<extra></extra>",
           "legendgroup": "virginica",
           "marker": {
            "color": "#00cc96",
            "symbol": "circle"
           },
           "mode": "markers",
           "name": "virginica",
           "orientation": "v",
           "showlegend": true,
           "type": "scatter",
           "x": [
            7.9
           ],
           "xaxis": "x",
           "y": [
            3.8
           ],
           "yaxis": "y"
          }
         ],
         "name": "6.4"
        },
        {
         "data": [
          {
           "hovertemplate": "species=virginica<br>petal_length=5.4<br>Sepal Length=%{x}<br>Sepal Width=%{y}<extra></extra>",
           "legendgroup": "virginica",
           "marker": {
            "color": "#00cc96",
            "symbol": "circle"
           },
           "mode": "markers",
           "name": "virginica",
           "orientation": "v",
           "showlegend": true,
           "type": "scatter",
           "x": [
            6.9,
            6.2
           ],
           "xaxis": "x",
           "y": [
            3.1,
            3.4
           ],
           "yaxis": "y"
          }
         ],
         "name": "5.4"
        },
        {
         "data": [
          {
           "hovertemplate": "species=virginica<br>petal_length=5.2<br>Sepal Length=%{x}<br>Sepal Width=%{y}<extra></extra>",
           "legendgroup": "virginica",
           "marker": {
            "color": "#00cc96",
            "symbol": "circle"
           },
           "mode": "markers",
           "name": "virginica",
           "orientation": "v",
           "showlegend": true,
           "type": "scatter",
           "x": [
            6.7,
            6.5
           ],
           "xaxis": "x",
           "y": [
            3,
            3
           ],
           "yaxis": "y"
          }
         ],
         "name": "5.2"
        }
       ],
       "layout": {
        "legend": {
         "title": {
          "text": "species"
         },
         "tracegroupgap": 0
        },
        "sliders": [
         {
          "active": 0,
          "currentvalue": {
           "prefix": "petal_length="
          },
          "len": 0.9,
          "pad": {
           "b": 10,
           "t": 60
          },
          "steps": [
           {
            "args": [
             [
              "1.4"
             ],
             {
              "frame": {
               "duration": 0,
               "redraw": false
              },
              "fromcurrent": true,
              "mode": "immediate",
              "transition": {
               "duration": 0,
               "easing": "linear"
              }
             }
            ],
            "label": "1.4",
            "method": "animate"
           },
           {
            "args": [
             [
              "1.3"
             ],
             {
              "frame": {
               "duration": 0,
               "redraw": false
              },
              "fromcurrent": true,
              "mode": "immediate",
              "transition": {
               "duration": 0,
               "easing": "linear"
              }
             }
            ],
            "label": "1.3",
            "method": "animate"
           },
           {
            "args": [
             [
              "1.5"
             ],
             {
              "frame": {
               "duration": 0,
               "redraw": false
              },
              "fromcurrent": true,
              "mode": "immediate",
              "transition": {
               "duration": 0,
               "easing": "linear"
              }
             }
            ],
            "label": "1.5",
            "method": "animate"
           },
           {
            "args": [
             [
              "1.7"
             ],
             {
              "frame": {
               "duration": 0,
               "redraw": false
              },
              "fromcurrent": true,
              "mode": "immediate",
              "transition": {
               "duration": 0,
               "easing": "linear"
              }
             }
            ],
            "label": "1.7",
            "method": "animate"
           },
           {
            "args": [
             [
              "1.6"
             ],
             {
              "frame": {
               "duration": 0,
               "redraw": false
              },
              "fromcurrent": true,
              "mode": "immediate",
              "transition": {
               "duration": 0,
               "easing": "linear"
              }
             }
            ],
            "label": "1.6",
            "method": "animate"
           },
           {
            "args": [
             [
              "1.1"
             ],
             {
              "frame": {
               "duration": 0,
               "redraw": false
              },
              "fromcurrent": true,
              "mode": "immediate",
              "transition": {
               "duration": 0,
               "easing": "linear"
              }
             }
            ],
            "label": "1.1",
            "method": "animate"
           },
           {
            "args": [
             [
              "1.2"
             ],
             {
              "frame": {
               "duration": 0,
               "redraw": false
              },
              "fromcurrent": true,
              "mode": "immediate",
              "transition": {
               "duration": 0,
               "easing": "linear"
              }
             }
            ],
            "label": "1.2",
            "method": "animate"
           },
           {
            "args": [
             [
              "1.0"
             ],
             {
              "frame": {
               "duration": 0,
               "redraw": false
              },
              "fromcurrent": true,
              "mode": "immediate",
              "transition": {
               "duration": 0,
               "easing": "linear"
              }
             }
            ],
            "label": "1.0",
            "method": "animate"
           },
           {
            "args": [
             [
              "1.9"
             ],
             {
              "frame": {
               "duration": 0,
               "redraw": false
              },
              "fromcurrent": true,
              "mode": "immediate",
              "transition": {
               "duration": 0,
               "easing": "linear"
              }
             }
            ],
            "label": "1.9",
            "method": "animate"
           },
           {
            "args": [
             [
              "4.7"
             ],
             {
              "frame": {
               "duration": 0,
               "redraw": false
              },
              "fromcurrent": true,
              "mode": "immediate",
              "transition": {
               "duration": 0,
               "easing": "linear"
              }
             }
            ],
            "label": "4.7",
            "method": "animate"
           },
           {
            "args": [
             [
              "4.5"
             ],
             {
              "frame": {
               "duration": 0,
               "redraw": false
              },
              "fromcurrent": true,
              "mode": "immediate",
              "transition": {
               "duration": 0,
               "easing": "linear"
              }
             }
            ],
            "label": "4.5",
            "method": "animate"
           },
           {
            "args": [
             [
              "4.9"
             ],
             {
              "frame": {
               "duration": 0,
               "redraw": false
              },
              "fromcurrent": true,
              "mode": "immediate",
              "transition": {
               "duration": 0,
               "easing": "linear"
              }
             }
            ],
            "label": "4.9",
            "method": "animate"
           },
           {
            "args": [
             [
              "4.0"
             ],
             {
              "frame": {
               "duration": 0,
               "redraw": false
              },
              "fromcurrent": true,
              "mode": "immediate",
              "transition": {
               "duration": 0,
               "easing": "linear"
              }
             }
            ],
            "label": "4.0",
            "method": "animate"
           },
           {
            "args": [
             [
              "4.6"
             ],
             {
              "frame": {
               "duration": 0,
               "redraw": false
              },
              "fromcurrent": true,
              "mode": "immediate",
              "transition": {
               "duration": 0,
               "easing": "linear"
              }
             }
            ],
            "label": "4.6",
            "method": "animate"
           },
           {
            "args": [
             [
              "3.3"
             ],
             {
              "frame": {
               "duration": 0,
               "redraw": false
              },
              "fromcurrent": true,
              "mode": "immediate",
              "transition": {
               "duration": 0,
               "easing": "linear"
              }
             }
            ],
            "label": "3.3",
            "method": "animate"
           },
           {
            "args": [
             [
              "3.9"
             ],
             {
              "frame": {
               "duration": 0,
               "redraw": false
              },
              "fromcurrent": true,
              "mode": "immediate",
              "transition": {
               "duration": 0,
               "easing": "linear"
              }
             }
            ],
            "label": "3.9",
            "method": "animate"
           },
           {
            "args": [
             [
              "3.5"
             ],
             {
              "frame": {
               "duration": 0,
               "redraw": false
              },
              "fromcurrent": true,
              "mode": "immediate",
              "transition": {
               "duration": 0,
               "easing": "linear"
              }
             }
            ],
            "label": "3.5",
            "method": "animate"
           },
           {
            "args": [
             [
              "4.2"
             ],
             {
              "frame": {
               "duration": 0,
               "redraw": false
              },
              "fromcurrent": true,
              "mode": "immediate",
              "transition": {
               "duration": 0,
               "easing": "linear"
              }
             }
            ],
            "label": "4.2",
            "method": "animate"
           },
           {
            "args": [
             [
              "3.6"
             ],
             {
              "frame": {
               "duration": 0,
               "redraw": false
              },
              "fromcurrent": true,
              "mode": "immediate",
              "transition": {
               "duration": 0,
               "easing": "linear"
              }
             }
            ],
            "label": "3.6",
            "method": "animate"
           },
           {
            "args": [
             [
              "4.4"
             ],
             {
              "frame": {
               "duration": 0,
               "redraw": false
              },
              "fromcurrent": true,
              "mode": "immediate",
              "transition": {
               "duration": 0,
               "easing": "linear"
              }
             }
            ],
            "label": "4.4",
            "method": "animate"
           },
           {
            "args": [
             [
              "4.1"
             ],
             {
              "frame": {
               "duration": 0,
               "redraw": false
              },
              "fromcurrent": true,
              "mode": "immediate",
              "transition": {
               "duration": 0,
               "easing": "linear"
              }
             }
            ],
            "label": "4.1",
            "method": "animate"
           },
           {
            "args": [
             [
              "4.8"
             ],
             {
              "frame": {
               "duration": 0,
               "redraw": false
              },
              "fromcurrent": true,
              "mode": "immediate",
              "transition": {
               "duration": 0,
               "easing": "linear"
              }
             }
            ],
            "label": "4.8",
            "method": "animate"
           },
           {
            "args": [
             [
              "4.3"
             ],
             {
              "frame": {
               "duration": 0,
               "redraw": false
              },
              "fromcurrent": true,
              "mode": "immediate",
              "transition": {
               "duration": 0,
               "easing": "linear"
              }
             }
            ],
            "label": "4.3",
            "method": "animate"
           },
           {
            "args": [
             [
              "5.0"
             ],
             {
              "frame": {
               "duration": 0,
               "redraw": false
              },
              "fromcurrent": true,
              "mode": "immediate",
              "transition": {
               "duration": 0,
               "easing": "linear"
              }
             }
            ],
            "label": "5.0",
            "method": "animate"
           },
           {
            "args": [
             [
              "3.8"
             ],
             {
              "frame": {
               "duration": 0,
               "redraw": false
              },
              "fromcurrent": true,
              "mode": "immediate",
              "transition": {
               "duration": 0,
               "easing": "linear"
              }
             }
            ],
            "label": "3.8",
            "method": "animate"
           },
           {
            "args": [
             [
              "3.7"
             ],
             {
              "frame": {
               "duration": 0,
               "redraw": false
              },
              "fromcurrent": true,
              "mode": "immediate",
              "transition": {
               "duration": 0,
               "easing": "linear"
              }
             }
            ],
            "label": "3.7",
            "method": "animate"
           },
           {
            "args": [
             [
              "5.1"
             ],
             {
              "frame": {
               "duration": 0,
               "redraw": false
              },
              "fromcurrent": true,
              "mode": "immediate",
              "transition": {
               "duration": 0,
               "easing": "linear"
              }
             }
            ],
            "label": "5.1",
            "method": "animate"
           },
           {
            "args": [
             [
              "3.0"
             ],
             {
              "frame": {
               "duration": 0,
               "redraw": false
              },
              "fromcurrent": true,
              "mode": "immediate",
              "transition": {
               "duration": 0,
               "easing": "linear"
              }
             }
            ],
            "label": "3.0",
            "method": "animate"
           },
           {
            "args": [
             [
              "6.0"
             ],
             {
              "frame": {
               "duration": 0,
               "redraw": false
              },
              "fromcurrent": true,
              "mode": "immediate",
              "transition": {
               "duration": 0,
               "easing": "linear"
              }
             }
            ],
            "label": "6.0",
            "method": "animate"
           },
           {
            "args": [
             [
              "5.9"
             ],
             {
              "frame": {
               "duration": 0,
               "redraw": false
              },
              "fromcurrent": true,
              "mode": "immediate",
              "transition": {
               "duration": 0,
               "easing": "linear"
              }
             }
            ],
            "label": "5.9",
            "method": "animate"
           },
           {
            "args": [
             [
              "5.6"
             ],
             {
              "frame": {
               "duration": 0,
               "redraw": false
              },
              "fromcurrent": true,
              "mode": "immediate",
              "transition": {
               "duration": 0,
               "easing": "linear"
              }
             }
            ],
            "label": "5.6",
            "method": "animate"
           },
           {
            "args": [
             [
              "5.8"
             ],
             {
              "frame": {
               "duration": 0,
               "redraw": false
              },
              "fromcurrent": true,
              "mode": "immediate",
              "transition": {
               "duration": 0,
               "easing": "linear"
              }
             }
            ],
            "label": "5.8",
            "method": "animate"
           },
           {
            "args": [
             [
              "6.6"
             ],
             {
              "frame": {
               "duration": 0,
               "redraw": false
              },
              "fromcurrent": true,
              "mode": "immediate",
              "transition": {
               "duration": 0,
               "easing": "linear"
              }
             }
            ],
            "label": "6.6",
            "method": "animate"
           },
           {
            "args": [
             [
              "6.3"
             ],
             {
              "frame": {
               "duration": 0,
               "redraw": false
              },
              "fromcurrent": true,
              "mode": "immediate",
              "transition": {
               "duration": 0,
               "easing": "linear"
              }
             }
            ],
            "label": "6.3",
            "method": "animate"
           },
           {
            "args": [
             [
              "6.1"
             ],
             {
              "frame": {
               "duration": 0,
               "redraw": false
              },
              "fromcurrent": true,
              "mode": "immediate",
              "transition": {
               "duration": 0,
               "easing": "linear"
              }
             }
            ],
            "label": "6.1",
            "method": "animate"
           },
           {
            "args": [
             [
              "5.3"
             ],
             {
              "frame": {
               "duration": 0,
               "redraw": false
              },
              "fromcurrent": true,
              "mode": "immediate",
              "transition": {
               "duration": 0,
               "easing": "linear"
              }
             }
            ],
            "label": "5.3",
            "method": "animate"
           },
           {
            "args": [
             [
              "5.5"
             ],
             {
              "frame": {
               "duration": 0,
               "redraw": false
              },
              "fromcurrent": true,
              "mode": "immediate",
              "transition": {
               "duration": 0,
               "easing": "linear"
              }
             }
            ],
            "label": "5.5",
            "method": "animate"
           },
           {
            "args": [
             [
              "6.7"
             ],
             {
              "frame": {
               "duration": 0,
               "redraw": false
              },
              "fromcurrent": true,
              "mode": "immediate",
              "transition": {
               "duration": 0,
               "easing": "linear"
              }
             }
            ],
            "label": "6.7",
            "method": "animate"
           },
           {
            "args": [
             [
              "6.9"
             ],
             {
              "frame": {
               "duration": 0,
               "redraw": false
              },
              "fromcurrent": true,
              "mode": "immediate",
              "transition": {
               "duration": 0,
               "easing": "linear"
              }
             }
            ],
            "label": "6.9",
            "method": "animate"
           },
           {
            "args": [
             [
              "5.7"
             ],
             {
              "frame": {
               "duration": 0,
               "redraw": false
              },
              "fromcurrent": true,
              "mode": "immediate",
              "transition": {
               "duration": 0,
               "easing": "linear"
              }
             }
            ],
            "label": "5.7",
            "method": "animate"
           },
           {
            "args": [
             [
              "6.4"
             ],
             {
              "frame": {
               "duration": 0,
               "redraw": false
              },
              "fromcurrent": true,
              "mode": "immediate",
              "transition": {
               "duration": 0,
               "easing": "linear"
              }
             }
            ],
            "label": "6.4",
            "method": "animate"
           },
           {
            "args": [
             [
              "5.4"
             ],
             {
              "frame": {
               "duration": 0,
               "redraw": false
              },
              "fromcurrent": true,
              "mode": "immediate",
              "transition": {
               "duration": 0,
               "easing": "linear"
              }
             }
            ],
            "label": "5.4",
            "method": "animate"
           },
           {
            "args": [
             [
              "5.2"
             ],
             {
              "frame": {
               "duration": 0,
               "redraw": false
              },
              "fromcurrent": true,
              "mode": "immediate",
              "transition": {
               "duration": 0,
               "easing": "linear"
              }
             }
            ],
            "label": "5.2",
            "method": "animate"
           }
          ],
          "x": 0.1,
          "xanchor": "left",
          "y": 0,
          "yanchor": "top"
         }
        ],
        "template": {
         "data": {
          "bar": [
           {
            "error_x": {
             "color": "#2a3f5f"
            },
            "error_y": {
             "color": "#2a3f5f"
            },
            "marker": {
             "line": {
              "color": "#E5ECF6",
              "width": 0.5
             },
             "pattern": {
              "fillmode": "overlay",
              "size": 10,
              "solidity": 0.2
             }
            },
            "type": "bar"
           }
          ],
          "barpolar": [
           {
            "marker": {
             "line": {
              "color": "#E5ECF6",
              "width": 0.5
             },
             "pattern": {
              "fillmode": "overlay",
              "size": 10,
              "solidity": 0.2
             }
            },
            "type": "barpolar"
           }
          ],
          "carpet": [
           {
            "aaxis": {
             "endlinecolor": "#2a3f5f",
             "gridcolor": "white",
             "linecolor": "white",
             "minorgridcolor": "white",
             "startlinecolor": "#2a3f5f"
            },
            "baxis": {
             "endlinecolor": "#2a3f5f",
             "gridcolor": "white",
             "linecolor": "white",
             "minorgridcolor": "white",
             "startlinecolor": "#2a3f5f"
            },
            "type": "carpet"
           }
          ],
          "choropleth": [
           {
            "colorbar": {
             "outlinewidth": 0,
             "ticks": ""
            },
            "type": "choropleth"
           }
          ],
          "contour": [
           {
            "colorbar": {
             "outlinewidth": 0,
             "ticks": ""
            },
            "colorscale": [
             [
              0,
              "#0d0887"
             ],
             [
              0.1111111111111111,
              "#46039f"
             ],
             [
              0.2222222222222222,
              "#7201a8"
             ],
             [
              0.3333333333333333,
              "#9c179e"
             ],
             [
              0.4444444444444444,
              "#bd3786"
             ],
             [
              0.5555555555555556,
              "#d8576b"
             ],
             [
              0.6666666666666666,
              "#ed7953"
             ],
             [
              0.7777777777777778,
              "#fb9f3a"
             ],
             [
              0.8888888888888888,
              "#fdca26"
             ],
             [
              1,
              "#f0f921"
             ]
            ],
            "type": "contour"
           }
          ],
          "contourcarpet": [
           {
            "colorbar": {
             "outlinewidth": 0,
             "ticks": ""
            },
            "type": "contourcarpet"
           }
          ],
          "heatmap": [
           {
            "colorbar": {
             "outlinewidth": 0,
             "ticks": ""
            },
            "colorscale": [
             [
              0,
              "#0d0887"
             ],
             [
              0.1111111111111111,
              "#46039f"
             ],
             [
              0.2222222222222222,
              "#7201a8"
             ],
             [
              0.3333333333333333,
              "#9c179e"
             ],
             [
              0.4444444444444444,
              "#bd3786"
             ],
             [
              0.5555555555555556,
              "#d8576b"
             ],
             [
              0.6666666666666666,
              "#ed7953"
             ],
             [
              0.7777777777777778,
              "#fb9f3a"
             ],
             [
              0.8888888888888888,
              "#fdca26"
             ],
             [
              1,
              "#f0f921"
             ]
            ],
            "type": "heatmap"
           }
          ],
          "heatmapgl": [
           {
            "colorbar": {
             "outlinewidth": 0,
             "ticks": ""
            },
            "colorscale": [
             [
              0,
              "#0d0887"
             ],
             [
              0.1111111111111111,
              "#46039f"
             ],
             [
              0.2222222222222222,
              "#7201a8"
             ],
             [
              0.3333333333333333,
              "#9c179e"
             ],
             [
              0.4444444444444444,
              "#bd3786"
             ],
             [
              0.5555555555555556,
              "#d8576b"
             ],
             [
              0.6666666666666666,
              "#ed7953"
             ],
             [
              0.7777777777777778,
              "#fb9f3a"
             ],
             [
              0.8888888888888888,
              "#fdca26"
             ],
             [
              1,
              "#f0f921"
             ]
            ],
            "type": "heatmapgl"
           }
          ],
          "histogram": [
           {
            "marker": {
             "pattern": {
              "fillmode": "overlay",
              "size": 10,
              "solidity": 0.2
             }
            },
            "type": "histogram"
           }
          ],
          "histogram2d": [
           {
            "colorbar": {
             "outlinewidth": 0,
             "ticks": ""
            },
            "colorscale": [
             [
              0,
              "#0d0887"
             ],
             [
              0.1111111111111111,
              "#46039f"
             ],
             [
              0.2222222222222222,
              "#7201a8"
             ],
             [
              0.3333333333333333,
              "#9c179e"
             ],
             [
              0.4444444444444444,
              "#bd3786"
             ],
             [
              0.5555555555555556,
              "#d8576b"
             ],
             [
              0.6666666666666666,
              "#ed7953"
             ],
             [
              0.7777777777777778,
              "#fb9f3a"
             ],
             [
              0.8888888888888888,
              "#fdca26"
             ],
             [
              1,
              "#f0f921"
             ]
            ],
            "type": "histogram2d"
           }
          ],
          "histogram2dcontour": [
           {
            "colorbar": {
             "outlinewidth": 0,
             "ticks": ""
            },
            "colorscale": [
             [
              0,
              "#0d0887"
             ],
             [
              0.1111111111111111,
              "#46039f"
             ],
             [
              0.2222222222222222,
              "#7201a8"
             ],
             [
              0.3333333333333333,
              "#9c179e"
             ],
             [
              0.4444444444444444,
              "#bd3786"
             ],
             [
              0.5555555555555556,
              "#d8576b"
             ],
             [
              0.6666666666666666,
              "#ed7953"
             ],
             [
              0.7777777777777778,
              "#fb9f3a"
             ],
             [
              0.8888888888888888,
              "#fdca26"
             ],
             [
              1,
              "#f0f921"
             ]
            ],
            "type": "histogram2dcontour"
           }
          ],
          "mesh3d": [
           {
            "colorbar": {
             "outlinewidth": 0,
             "ticks": ""
            },
            "type": "mesh3d"
           }
          ],
          "parcoords": [
           {
            "line": {
             "colorbar": {
              "outlinewidth": 0,
              "ticks": ""
             }
            },
            "type": "parcoords"
           }
          ],
          "pie": [
           {
            "automargin": true,
            "type": "pie"
           }
          ],
          "scatter": [
           {
            "fillpattern": {
             "fillmode": "overlay",
             "size": 10,
             "solidity": 0.2
            },
            "type": "scatter"
           }
          ],
          "scatter3d": [
           {
            "line": {
             "colorbar": {
              "outlinewidth": 0,
              "ticks": ""
             }
            },
            "marker": {
             "colorbar": {
              "outlinewidth": 0,
              "ticks": ""
             }
            },
            "type": "scatter3d"
           }
          ],
          "scattercarpet": [
           {
            "marker": {
             "colorbar": {
              "outlinewidth": 0,
              "ticks": ""
             }
            },
            "type": "scattercarpet"
           }
          ],
          "scattergeo": [
           {
            "marker": {
             "colorbar": {
              "outlinewidth": 0,
              "ticks": ""
             }
            },
            "type": "scattergeo"
           }
          ],
          "scattergl": [
           {
            "marker": {
             "colorbar": {
              "outlinewidth": 0,
              "ticks": ""
             }
            },
            "type": "scattergl"
           }
          ],
          "scattermapbox": [
           {
            "marker": {
             "colorbar": {
              "outlinewidth": 0,
              "ticks": ""
             }
            },
            "type": "scattermapbox"
           }
          ],
          "scatterpolar": [
           {
            "marker": {
             "colorbar": {
              "outlinewidth": 0,
              "ticks": ""
             }
            },
            "type": "scatterpolar"
           }
          ],
          "scatterpolargl": [
           {
            "marker": {
             "colorbar": {
              "outlinewidth": 0,
              "ticks": ""
             }
            },
            "type": "scatterpolargl"
           }
          ],
          "scatterternary": [
           {
            "marker": {
             "colorbar": {
              "outlinewidth": 0,
              "ticks": ""
             }
            },
            "type": "scatterternary"
           }
          ],
          "surface": [
           {
            "colorbar": {
             "outlinewidth": 0,
             "ticks": ""
            },
            "colorscale": [
             [
              0,
              "#0d0887"
             ],
             [
              0.1111111111111111,
              "#46039f"
             ],
             [
              0.2222222222222222,
              "#7201a8"
             ],
             [
              0.3333333333333333,
              "#9c179e"
             ],
             [
              0.4444444444444444,
              "#bd3786"
             ],
             [
              0.5555555555555556,
              "#d8576b"
             ],
             [
              0.6666666666666666,
              "#ed7953"
             ],
             [
              0.7777777777777778,
              "#fb9f3a"
             ],
             [
              0.8888888888888888,
              "#fdca26"
             ],
             [
              1,
              "#f0f921"
             ]
            ],
            "type": "surface"
           }
          ],
          "table": [
           {
            "cells": {
             "fill": {
              "color": "#EBF0F8"
             },
             "line": {
              "color": "white"
             }
            },
            "header": {
             "fill": {
              "color": "#C8D4E3"
             },
             "line": {
              "color": "white"
             }
            },
            "type": "table"
           }
          ]
         },
         "layout": {
          "annotationdefaults": {
           "arrowcolor": "#2a3f5f",
           "arrowhead": 0,
           "arrowwidth": 1
          },
          "autotypenumbers": "strict",
          "coloraxis": {
           "colorbar": {
            "outlinewidth": 0,
            "ticks": ""
           }
          },
          "colorscale": {
           "diverging": [
            [
             0,
             "#8e0152"
            ],
            [
             0.1,
             "#c51b7d"
            ],
            [
             0.2,
             "#de77ae"
            ],
            [
             0.3,
             "#f1b6da"
            ],
            [
             0.4,
             "#fde0ef"
            ],
            [
             0.5,
             "#f7f7f7"
            ],
            [
             0.6,
             "#e6f5d0"
            ],
            [
             0.7,
             "#b8e186"
            ],
            [
             0.8,
             "#7fbc41"
            ],
            [
             0.9,
             "#4d9221"
            ],
            [
             1,
             "#276419"
            ]
           ],
           "sequential": [
            [
             0,
             "#0d0887"
            ],
            [
             0.1111111111111111,
             "#46039f"
            ],
            [
             0.2222222222222222,
             "#7201a8"
            ],
            [
             0.3333333333333333,
             "#9c179e"
            ],
            [
             0.4444444444444444,
             "#bd3786"
            ],
            [
             0.5555555555555556,
             "#d8576b"
            ],
            [
             0.6666666666666666,
             "#ed7953"
            ],
            [
             0.7777777777777778,
             "#fb9f3a"
            ],
            [
             0.8888888888888888,
             "#fdca26"
            ],
            [
             1,
             "#f0f921"
            ]
           ],
           "sequentialminus": [
            [
             0,
             "#0d0887"
            ],
            [
             0.1111111111111111,
             "#46039f"
            ],
            [
             0.2222222222222222,
             "#7201a8"
            ],
            [
             0.3333333333333333,
             "#9c179e"
            ],
            [
             0.4444444444444444,
             "#bd3786"
            ],
            [
             0.5555555555555556,
             "#d8576b"
            ],
            [
             0.6666666666666666,
             "#ed7953"
            ],
            [
             0.7777777777777778,
             "#fb9f3a"
            ],
            [
             0.8888888888888888,
             "#fdca26"
            ],
            [
             1,
             "#f0f921"
            ]
           ]
          },
          "colorway": [
           "#636efa",
           "#EF553B",
           "#00cc96",
           "#ab63fa",
           "#FFA15A",
           "#19d3f3",
           "#FF6692",
           "#B6E880",
           "#FF97FF",
           "#FECB52"
          ],
          "font": {
           "color": "#2a3f5f"
          },
          "geo": {
           "bgcolor": "white",
           "lakecolor": "white",
           "landcolor": "#E5ECF6",
           "showlakes": true,
           "showland": true,
           "subunitcolor": "white"
          },
          "hoverlabel": {
           "align": "left"
          },
          "hovermode": "closest",
          "mapbox": {
           "style": "light"
          },
          "paper_bgcolor": "white",
          "plot_bgcolor": "#E5ECF6",
          "polar": {
           "angularaxis": {
            "gridcolor": "white",
            "linecolor": "white",
            "ticks": ""
           },
           "bgcolor": "#E5ECF6",
           "radialaxis": {
            "gridcolor": "white",
            "linecolor": "white",
            "ticks": ""
           }
          },
          "scene": {
           "xaxis": {
            "backgroundcolor": "#E5ECF6",
            "gridcolor": "white",
            "gridwidth": 2,
            "linecolor": "white",
            "showbackground": true,
            "ticks": "",
            "zerolinecolor": "white"
           },
           "yaxis": {
            "backgroundcolor": "#E5ECF6",
            "gridcolor": "white",
            "gridwidth": 2,
            "linecolor": "white",
            "showbackground": true,
            "ticks": "",
            "zerolinecolor": "white"
           },
           "zaxis": {
            "backgroundcolor": "#E5ECF6",
            "gridcolor": "white",
            "gridwidth": 2,
            "linecolor": "white",
            "showbackground": true,
            "ticks": "",
            "zerolinecolor": "white"
           }
          },
          "shapedefaults": {
           "line": {
            "color": "#2a3f5f"
           }
          },
          "ternary": {
           "aaxis": {
            "gridcolor": "white",
            "linecolor": "white",
            "ticks": ""
           },
           "baxis": {
            "gridcolor": "white",
            "linecolor": "white",
            "ticks": ""
           },
           "bgcolor": "#E5ECF6",
           "caxis": {
            "gridcolor": "white",
            "linecolor": "white",
            "ticks": ""
           }
          },
          "title": {
           "x": 0.05
          },
          "xaxis": {
           "automargin": true,
           "gridcolor": "white",
           "linecolor": "white",
           "ticks": "",
           "title": {
            "standoff": 15
           },
           "zerolinecolor": "white",
           "zerolinewidth": 2
          },
          "yaxis": {
           "automargin": true,
           "gridcolor": "white",
           "linecolor": "white",
           "ticks": "",
           "title": {
            "standoff": 15
           },
           "zerolinecolor": "white",
           "zerolinewidth": 2
          }
         }
        },
        "title": {
         "text": "Iris Dataset Animation: Sepal Dimensions vs. Petal Length"
        },
        "updatemenus": [
         {
          "buttons": [
           {
            "args": [
             null,
             {
              "frame": {
               "duration": 500,
               "redraw": false
              },
              "fromcurrent": true,
              "mode": "immediate",
              "transition": {
               "duration": 500,
               "easing": "linear"
              }
             }
            ],
            "label": "&#9654;",
            "method": "animate"
           },
           {
            "args": [
             [
              null
             ],
             {
              "frame": {
               "duration": 0,
               "redraw": false
              },
              "fromcurrent": true,
              "mode": "immediate",
              "transition": {
               "duration": 0,
               "easing": "linear"
              }
             }
            ],
            "label": "&#9724;",
            "method": "animate"
           }
          ],
          "direction": "left",
          "pad": {
           "r": 10,
           "t": 70
          },
          "showactive": false,
          "type": "buttons",
          "x": 0.1,
          "xanchor": "right",
          "y": 0,
          "yanchor": "top"
         }
        ],
        "xaxis": {
         "anchor": "y",
         "domain": [
          0,
          1
         ],
         "range": [
          4,
          8
         ],
         "title": {
          "text": "Sepal Length"
         }
        },
        "yaxis": {
         "anchor": "x",
         "domain": [
          0,
          1
         ],
         "range": [
          1.5,
          4.5
         ],
         "title": {
          "text": "Sepal Width"
         }
        }
       }
      },
      "text/html": [
       "<div>                            <div id=\"8de3b016-5e4b-4b03-80e8-736e9d5da15c\" class=\"plotly-graph-div\" style=\"height:525px; width:100%;\"></div>            <script type=\"text/javascript\">                require([\"plotly\"], function(Plotly) {                    window.PLOTLYENV=window.PLOTLYENV || {};                                    if (document.getElementById(\"8de3b016-5e4b-4b03-80e8-736e9d5da15c\")) {                    Plotly.newPlot(                        \"8de3b016-5e4b-4b03-80e8-736e9d5da15c\",                        [{\"hovertemplate\":\"species=setosa\\u003cbr\\u003epetal_length=1.4\\u003cbr\\u003eSepal Length=%{x}\\u003cbr\\u003eSepal Width=%{y}\\u003cextra\\u003e\\u003c\\u002fextra\\u003e\",\"legendgroup\":\"setosa\",\"marker\":{\"color\":\"#636efa\",\"symbol\":\"circle\"},\"mode\":\"markers\",\"name\":\"setosa\",\"orientation\":\"v\",\"showlegend\":true,\"x\":[5.1,4.9,5.0,4.6,4.4,4.8,5.1,5.2,5.5,4.9,4.8,4.6,5.0],\"xaxis\":\"x\",\"y\":[3.5,3.0,3.6,3.4,2.9,3.0,3.5,3.4,4.2,3.6,3.0,3.2,3.3],\"yaxis\":\"y\",\"type\":\"scatter\"}],                        {\"template\":{\"data\":{\"histogram2dcontour\":[{\"type\":\"histogram2dcontour\",\"colorbar\":{\"outlinewidth\":0,\"ticks\":\"\"},\"colorscale\":[[0.0,\"#0d0887\"],[0.1111111111111111,\"#46039f\"],[0.2222222222222222,\"#7201a8\"],[0.3333333333333333,\"#9c179e\"],[0.4444444444444444,\"#bd3786\"],[0.5555555555555556,\"#d8576b\"],[0.6666666666666666,\"#ed7953\"],[0.7777777777777778,\"#fb9f3a\"],[0.8888888888888888,\"#fdca26\"],[1.0,\"#f0f921\"]]}],\"choropleth\":[{\"type\":\"choropleth\",\"colorbar\":{\"outlinewidth\":0,\"ticks\":\"\"}}],\"histogram2d\":[{\"type\":\"histogram2d\",\"colorbar\":{\"outlinewidth\":0,\"ticks\":\"\"},\"colorscale\":[[0.0,\"#0d0887\"],[0.1111111111111111,\"#46039f\"],[0.2222222222222222,\"#7201a8\"],[0.3333333333333333,\"#9c179e\"],[0.4444444444444444,\"#bd3786\"],[0.5555555555555556,\"#d8576b\"],[0.6666666666666666,\"#ed7953\"],[0.7777777777777778,\"#fb9f3a\"],[0.8888888888888888,\"#fdca26\"],[1.0,\"#f0f921\"]]}],\"heatmap\":[{\"type\":\"heatmap\",\"colorbar\":{\"outlinewidth\":0,\"ticks\":\"\"},\"colorscale\":[[0.0,\"#0d0887\"],[0.1111111111111111,\"#46039f\"],[0.2222222222222222,\"#7201a8\"],[0.3333333333333333,\"#9c179e\"],[0.4444444444444444,\"#bd3786\"],[0.5555555555555556,\"#d8576b\"],[0.6666666666666666,\"#ed7953\"],[0.7777777777777778,\"#fb9f3a\"],[0.8888888888888888,\"#fdca26\"],[1.0,\"#f0f921\"]]}],\"heatmapgl\":[{\"type\":\"heatmapgl\",\"colorbar\":{\"outlinewidth\":0,\"ticks\":\"\"},\"colorscale\":[[0.0,\"#0d0887\"],[0.1111111111111111,\"#46039f\"],[0.2222222222222222,\"#7201a8\"],[0.3333333333333333,\"#9c179e\"],[0.4444444444444444,\"#bd3786\"],[0.5555555555555556,\"#d8576b\"],[0.6666666666666666,\"#ed7953\"],[0.7777777777777778,\"#fb9f3a\"],[0.8888888888888888,\"#fdca26\"],[1.0,\"#f0f921\"]]}],\"contourcarpet\":[{\"type\":\"contourcarpet\",\"colorbar\":{\"outlinewidth\":0,\"ticks\":\"\"}}],\"contour\":[{\"type\":\"contour\",\"colorbar\":{\"outlinewidth\":0,\"ticks\":\"\"},\"colorscale\":[[0.0,\"#0d0887\"],[0.1111111111111111,\"#46039f\"],[0.2222222222222222,\"#7201a8\"],[0.3333333333333333,\"#9c179e\"],[0.4444444444444444,\"#bd3786\"],[0.5555555555555556,\"#d8576b\"],[0.6666666666666666,\"#ed7953\"],[0.7777777777777778,\"#fb9f3a\"],[0.8888888888888888,\"#fdca26\"],[1.0,\"#f0f921\"]]}],\"surface\":[{\"type\":\"surface\",\"colorbar\":{\"outlinewidth\":0,\"ticks\":\"\"},\"colorscale\":[[0.0,\"#0d0887\"],[0.1111111111111111,\"#46039f\"],[0.2222222222222222,\"#7201a8\"],[0.3333333333333333,\"#9c179e\"],[0.4444444444444444,\"#bd3786\"],[0.5555555555555556,\"#d8576b\"],[0.6666666666666666,\"#ed7953\"],[0.7777777777777778,\"#fb9f3a\"],[0.8888888888888888,\"#fdca26\"],[1.0,\"#f0f921\"]]}],\"mesh3d\":[{\"type\":\"mesh3d\",\"colorbar\":{\"outlinewidth\":0,\"ticks\":\"\"}}],\"scatter\":[{\"fillpattern\":{\"fillmode\":\"overlay\",\"size\":10,\"solidity\":0.2},\"type\":\"scatter\"}],\"parcoords\":[{\"type\":\"parcoords\",\"line\":{\"colorbar\":{\"outlinewidth\":0,\"ticks\":\"\"}}}],\"scatterpolargl\":[{\"type\":\"scatterpolargl\",\"marker\":{\"colorbar\":{\"outlinewidth\":0,\"ticks\":\"\"}}}],\"bar\":[{\"error_x\":{\"color\":\"#2a3f5f\"},\"error_y\":{\"color\":\"#2a3f5f\"},\"marker\":{\"line\":{\"color\":\"#E5ECF6\",\"width\":0.5},\"pattern\":{\"fillmode\":\"overlay\",\"size\":10,\"solidity\":0.2}},\"type\":\"bar\"}],\"scattergeo\":[{\"type\":\"scattergeo\",\"marker\":{\"colorbar\":{\"outlinewidth\":0,\"ticks\":\"\"}}}],\"scatterpolar\":[{\"type\":\"scatterpolar\",\"marker\":{\"colorbar\":{\"outlinewidth\":0,\"ticks\":\"\"}}}],\"histogram\":[{\"marker\":{\"pattern\":{\"fillmode\":\"overlay\",\"size\":10,\"solidity\":0.2}},\"type\":\"histogram\"}],\"scattergl\":[{\"type\":\"scattergl\",\"marker\":{\"colorbar\":{\"outlinewidth\":0,\"ticks\":\"\"}}}],\"scatter3d\":[{\"type\":\"scatter3d\",\"line\":{\"colorbar\":{\"outlinewidth\":0,\"ticks\":\"\"}},\"marker\":{\"colorbar\":{\"outlinewidth\":0,\"ticks\":\"\"}}}],\"scattermapbox\":[{\"type\":\"scattermapbox\",\"marker\":{\"colorbar\":{\"outlinewidth\":0,\"ticks\":\"\"}}}],\"scatterternary\":[{\"type\":\"scatterternary\",\"marker\":{\"colorbar\":{\"outlinewidth\":0,\"ticks\":\"\"}}}],\"scattercarpet\":[{\"type\":\"scattercarpet\",\"marker\":{\"colorbar\":{\"outlinewidth\":0,\"ticks\":\"\"}}}],\"carpet\":[{\"aaxis\":{\"endlinecolor\":\"#2a3f5f\",\"gridcolor\":\"white\",\"linecolor\":\"white\",\"minorgridcolor\":\"white\",\"startlinecolor\":\"#2a3f5f\"},\"baxis\":{\"endlinecolor\":\"#2a3f5f\",\"gridcolor\":\"white\",\"linecolor\":\"white\",\"minorgridcolor\":\"white\",\"startlinecolor\":\"#2a3f5f\"},\"type\":\"carpet\"}],\"table\":[{\"cells\":{\"fill\":{\"color\":\"#EBF0F8\"},\"line\":{\"color\":\"white\"}},\"header\":{\"fill\":{\"color\":\"#C8D4E3\"},\"line\":{\"color\":\"white\"}},\"type\":\"table\"}],\"barpolar\":[{\"marker\":{\"line\":{\"color\":\"#E5ECF6\",\"width\":0.5},\"pattern\":{\"fillmode\":\"overlay\",\"size\":10,\"solidity\":0.2}},\"type\":\"barpolar\"}],\"pie\":[{\"automargin\":true,\"type\":\"pie\"}]},\"layout\":{\"autotypenumbers\":\"strict\",\"colorway\":[\"#636efa\",\"#EF553B\",\"#00cc96\",\"#ab63fa\",\"#FFA15A\",\"#19d3f3\",\"#FF6692\",\"#B6E880\",\"#FF97FF\",\"#FECB52\"],\"font\":{\"color\":\"#2a3f5f\"},\"hovermode\":\"closest\",\"hoverlabel\":{\"align\":\"left\"},\"paper_bgcolor\":\"white\",\"plot_bgcolor\":\"#E5ECF6\",\"polar\":{\"bgcolor\":\"#E5ECF6\",\"angularaxis\":{\"gridcolor\":\"white\",\"linecolor\":\"white\",\"ticks\":\"\"},\"radialaxis\":{\"gridcolor\":\"white\",\"linecolor\":\"white\",\"ticks\":\"\"}},\"ternary\":{\"bgcolor\":\"#E5ECF6\",\"aaxis\":{\"gridcolor\":\"white\",\"linecolor\":\"white\",\"ticks\":\"\"},\"baxis\":{\"gridcolor\":\"white\",\"linecolor\":\"white\",\"ticks\":\"\"},\"caxis\":{\"gridcolor\":\"white\",\"linecolor\":\"white\",\"ticks\":\"\"}},\"coloraxis\":{\"colorbar\":{\"outlinewidth\":0,\"ticks\":\"\"}},\"colorscale\":{\"sequential\":[[0.0,\"#0d0887\"],[0.1111111111111111,\"#46039f\"],[0.2222222222222222,\"#7201a8\"],[0.3333333333333333,\"#9c179e\"],[0.4444444444444444,\"#bd3786\"],[0.5555555555555556,\"#d8576b\"],[0.6666666666666666,\"#ed7953\"],[0.7777777777777778,\"#fb9f3a\"],[0.8888888888888888,\"#fdca26\"],[1.0,\"#f0f921\"]],\"sequentialminus\":[[0.0,\"#0d0887\"],[0.1111111111111111,\"#46039f\"],[0.2222222222222222,\"#7201a8\"],[0.3333333333333333,\"#9c179e\"],[0.4444444444444444,\"#bd3786\"],[0.5555555555555556,\"#d8576b\"],[0.6666666666666666,\"#ed7953\"],[0.7777777777777778,\"#fb9f3a\"],[0.8888888888888888,\"#fdca26\"],[1.0,\"#f0f921\"]],\"diverging\":[[0,\"#8e0152\"],[0.1,\"#c51b7d\"],[0.2,\"#de77ae\"],[0.3,\"#f1b6da\"],[0.4,\"#fde0ef\"],[0.5,\"#f7f7f7\"],[0.6,\"#e6f5d0\"],[0.7,\"#b8e186\"],[0.8,\"#7fbc41\"],[0.9,\"#4d9221\"],[1,\"#276419\"]]},\"xaxis\":{\"gridcolor\":\"white\",\"linecolor\":\"white\",\"ticks\":\"\",\"title\":{\"standoff\":15},\"zerolinecolor\":\"white\",\"automargin\":true,\"zerolinewidth\":2},\"yaxis\":{\"gridcolor\":\"white\",\"linecolor\":\"white\",\"ticks\":\"\",\"title\":{\"standoff\":15},\"zerolinecolor\":\"white\",\"automargin\":true,\"zerolinewidth\":2},\"scene\":{\"xaxis\":{\"backgroundcolor\":\"#E5ECF6\",\"gridcolor\":\"white\",\"linecolor\":\"white\",\"showbackground\":true,\"ticks\":\"\",\"zerolinecolor\":\"white\",\"gridwidth\":2},\"yaxis\":{\"backgroundcolor\":\"#E5ECF6\",\"gridcolor\":\"white\",\"linecolor\":\"white\",\"showbackground\":true,\"ticks\":\"\",\"zerolinecolor\":\"white\",\"gridwidth\":2},\"zaxis\":{\"backgroundcolor\":\"#E5ECF6\",\"gridcolor\":\"white\",\"linecolor\":\"white\",\"showbackground\":true,\"ticks\":\"\",\"zerolinecolor\":\"white\",\"gridwidth\":2}},\"shapedefaults\":{\"line\":{\"color\":\"#2a3f5f\"}},\"annotationdefaults\":{\"arrowcolor\":\"#2a3f5f\",\"arrowhead\":0,\"arrowwidth\":1},\"geo\":{\"bgcolor\":\"white\",\"landcolor\":\"#E5ECF6\",\"subunitcolor\":\"white\",\"showland\":true,\"showlakes\":true,\"lakecolor\":\"white\"},\"title\":{\"x\":0.05},\"mapbox\":{\"style\":\"light\"}}},\"xaxis\":{\"anchor\":\"y\",\"domain\":[0.0,1.0],\"title\":{\"text\":\"Sepal Length\"},\"range\":[4,8]},\"yaxis\":{\"anchor\":\"x\",\"domain\":[0.0,1.0],\"title\":{\"text\":\"Sepal Width\"},\"range\":[1.5,4.5]},\"legend\":{\"title\":{\"text\":\"species\"},\"tracegroupgap\":0},\"title\":{\"text\":\"Iris Dataset Animation: Sepal Dimensions vs. Petal Length\"},\"updatemenus\":[{\"buttons\":[{\"args\":[null,{\"frame\":{\"duration\":500,\"redraw\":false},\"mode\":\"immediate\",\"fromcurrent\":true,\"transition\":{\"duration\":500,\"easing\":\"linear\"}}],\"label\":\"&#9654;\",\"method\":\"animate\"},{\"args\":[[null],{\"frame\":{\"duration\":0,\"redraw\":false},\"mode\":\"immediate\",\"fromcurrent\":true,\"transition\":{\"duration\":0,\"easing\":\"linear\"}}],\"label\":\"&#9724;\",\"method\":\"animate\"}],\"direction\":\"left\",\"pad\":{\"r\":10,\"t\":70},\"showactive\":false,\"type\":\"buttons\",\"x\":0.1,\"xanchor\":\"right\",\"y\":0,\"yanchor\":\"top\"}],\"sliders\":[{\"active\":0,\"currentvalue\":{\"prefix\":\"petal_length=\"},\"len\":0.9,\"pad\":{\"b\":10,\"t\":60},\"steps\":[{\"args\":[[\"1.4\"],{\"frame\":{\"duration\":0,\"redraw\":false},\"mode\":\"immediate\",\"fromcurrent\":true,\"transition\":{\"duration\":0,\"easing\":\"linear\"}}],\"label\":\"1.4\",\"method\":\"animate\"},{\"args\":[[\"1.3\"],{\"frame\":{\"duration\":0,\"redraw\":false},\"mode\":\"immediate\",\"fromcurrent\":true,\"transition\":{\"duration\":0,\"easing\":\"linear\"}}],\"label\":\"1.3\",\"method\":\"animate\"},{\"args\":[[\"1.5\"],{\"frame\":{\"duration\":0,\"redraw\":false},\"mode\":\"immediate\",\"fromcurrent\":true,\"transition\":{\"duration\":0,\"easing\":\"linear\"}}],\"label\":\"1.5\",\"method\":\"animate\"},{\"args\":[[\"1.7\"],{\"frame\":{\"duration\":0,\"redraw\":false},\"mode\":\"immediate\",\"fromcurrent\":true,\"transition\":{\"duration\":0,\"easing\":\"linear\"}}],\"label\":\"1.7\",\"method\":\"animate\"},{\"args\":[[\"1.6\"],{\"frame\":{\"duration\":0,\"redraw\":false},\"mode\":\"immediate\",\"fromcurrent\":true,\"transition\":{\"duration\":0,\"easing\":\"linear\"}}],\"label\":\"1.6\",\"method\":\"animate\"},{\"args\":[[\"1.1\"],{\"frame\":{\"duration\":0,\"redraw\":false},\"mode\":\"immediate\",\"fromcurrent\":true,\"transition\":{\"duration\":0,\"easing\":\"linear\"}}],\"label\":\"1.1\",\"method\":\"animate\"},{\"args\":[[\"1.2\"],{\"frame\":{\"duration\":0,\"redraw\":false},\"mode\":\"immediate\",\"fromcurrent\":true,\"transition\":{\"duration\":0,\"easing\":\"linear\"}}],\"label\":\"1.2\",\"method\":\"animate\"},{\"args\":[[\"1.0\"],{\"frame\":{\"duration\":0,\"redraw\":false},\"mode\":\"immediate\",\"fromcurrent\":true,\"transition\":{\"duration\":0,\"easing\":\"linear\"}}],\"label\":\"1.0\",\"method\":\"animate\"},{\"args\":[[\"1.9\"],{\"frame\":{\"duration\":0,\"redraw\":false},\"mode\":\"immediate\",\"fromcurrent\":true,\"transition\":{\"duration\":0,\"easing\":\"linear\"}}],\"label\":\"1.9\",\"method\":\"animate\"},{\"args\":[[\"4.7\"],{\"frame\":{\"duration\":0,\"redraw\":false},\"mode\":\"immediate\",\"fromcurrent\":true,\"transition\":{\"duration\":0,\"easing\":\"linear\"}}],\"label\":\"4.7\",\"method\":\"animate\"},{\"args\":[[\"4.5\"],{\"frame\":{\"duration\":0,\"redraw\":false},\"mode\":\"immediate\",\"fromcurrent\":true,\"transition\":{\"duration\":0,\"easing\":\"linear\"}}],\"label\":\"4.5\",\"method\":\"animate\"},{\"args\":[[\"4.9\"],{\"frame\":{\"duration\":0,\"redraw\":false},\"mode\":\"immediate\",\"fromcurrent\":true,\"transition\":{\"duration\":0,\"easing\":\"linear\"}}],\"label\":\"4.9\",\"method\":\"animate\"},{\"args\":[[\"4.0\"],{\"frame\":{\"duration\":0,\"redraw\":false},\"mode\":\"immediate\",\"fromcurrent\":true,\"transition\":{\"duration\":0,\"easing\":\"linear\"}}],\"label\":\"4.0\",\"method\":\"animate\"},{\"args\":[[\"4.6\"],{\"frame\":{\"duration\":0,\"redraw\":false},\"mode\":\"immediate\",\"fromcurrent\":true,\"transition\":{\"duration\":0,\"easing\":\"linear\"}}],\"label\":\"4.6\",\"method\":\"animate\"},{\"args\":[[\"3.3\"],{\"frame\":{\"duration\":0,\"redraw\":false},\"mode\":\"immediate\",\"fromcurrent\":true,\"transition\":{\"duration\":0,\"easing\":\"linear\"}}],\"label\":\"3.3\",\"method\":\"animate\"},{\"args\":[[\"3.9\"],{\"frame\":{\"duration\":0,\"redraw\":false},\"mode\":\"immediate\",\"fromcurrent\":true,\"transition\":{\"duration\":0,\"easing\":\"linear\"}}],\"label\":\"3.9\",\"method\":\"animate\"},{\"args\":[[\"3.5\"],{\"frame\":{\"duration\":0,\"redraw\":false},\"mode\":\"immediate\",\"fromcurrent\":true,\"transition\":{\"duration\":0,\"easing\":\"linear\"}}],\"label\":\"3.5\",\"method\":\"animate\"},{\"args\":[[\"4.2\"],{\"frame\":{\"duration\":0,\"redraw\":false},\"mode\":\"immediate\",\"fromcurrent\":true,\"transition\":{\"duration\":0,\"easing\":\"linear\"}}],\"label\":\"4.2\",\"method\":\"animate\"},{\"args\":[[\"3.6\"],{\"frame\":{\"duration\":0,\"redraw\":false},\"mode\":\"immediate\",\"fromcurrent\":true,\"transition\":{\"duration\":0,\"easing\":\"linear\"}}],\"label\":\"3.6\",\"method\":\"animate\"},{\"args\":[[\"4.4\"],{\"frame\":{\"duration\":0,\"redraw\":false},\"mode\":\"immediate\",\"fromcurrent\":true,\"transition\":{\"duration\":0,\"easing\":\"linear\"}}],\"label\":\"4.4\",\"method\":\"animate\"},{\"args\":[[\"4.1\"],{\"frame\":{\"duration\":0,\"redraw\":false},\"mode\":\"immediate\",\"fromcurrent\":true,\"transition\":{\"duration\":0,\"easing\":\"linear\"}}],\"label\":\"4.1\",\"method\":\"animate\"},{\"args\":[[\"4.8\"],{\"frame\":{\"duration\":0,\"redraw\":false},\"mode\":\"immediate\",\"fromcurrent\":true,\"transition\":{\"duration\":0,\"easing\":\"linear\"}}],\"label\":\"4.8\",\"method\":\"animate\"},{\"args\":[[\"4.3\"],{\"frame\":{\"duration\":0,\"redraw\":false},\"mode\":\"immediate\",\"fromcurrent\":true,\"transition\":{\"duration\":0,\"easing\":\"linear\"}}],\"label\":\"4.3\",\"method\":\"animate\"},{\"args\":[[\"5.0\"],{\"frame\":{\"duration\":0,\"redraw\":false},\"mode\":\"immediate\",\"fromcurrent\":true,\"transition\":{\"duration\":0,\"easing\":\"linear\"}}],\"label\":\"5.0\",\"method\":\"animate\"},{\"args\":[[\"3.8\"],{\"frame\":{\"duration\":0,\"redraw\":false},\"mode\":\"immediate\",\"fromcurrent\":true,\"transition\":{\"duration\":0,\"easing\":\"linear\"}}],\"label\":\"3.8\",\"method\":\"animate\"},{\"args\":[[\"3.7\"],{\"frame\":{\"duration\":0,\"redraw\":false},\"mode\":\"immediate\",\"fromcurrent\":true,\"transition\":{\"duration\":0,\"easing\":\"linear\"}}],\"label\":\"3.7\",\"method\":\"animate\"},{\"args\":[[\"5.1\"],{\"frame\":{\"duration\":0,\"redraw\":false},\"mode\":\"immediate\",\"fromcurrent\":true,\"transition\":{\"duration\":0,\"easing\":\"linear\"}}],\"label\":\"5.1\",\"method\":\"animate\"},{\"args\":[[\"3.0\"],{\"frame\":{\"duration\":0,\"redraw\":false},\"mode\":\"immediate\",\"fromcurrent\":true,\"transition\":{\"duration\":0,\"easing\":\"linear\"}}],\"label\":\"3.0\",\"method\":\"animate\"},{\"args\":[[\"6.0\"],{\"frame\":{\"duration\":0,\"redraw\":false},\"mode\":\"immediate\",\"fromcurrent\":true,\"transition\":{\"duration\":0,\"easing\":\"linear\"}}],\"label\":\"6.0\",\"method\":\"animate\"},{\"args\":[[\"5.9\"],{\"frame\":{\"duration\":0,\"redraw\":false},\"mode\":\"immediate\",\"fromcurrent\":true,\"transition\":{\"duration\":0,\"easing\":\"linear\"}}],\"label\":\"5.9\",\"method\":\"animate\"},{\"args\":[[\"5.6\"],{\"frame\":{\"duration\":0,\"redraw\":false},\"mode\":\"immediate\",\"fromcurrent\":true,\"transition\":{\"duration\":0,\"easing\":\"linear\"}}],\"label\":\"5.6\",\"method\":\"animate\"},{\"args\":[[\"5.8\"],{\"frame\":{\"duration\":0,\"redraw\":false},\"mode\":\"immediate\",\"fromcurrent\":true,\"transition\":{\"duration\":0,\"easing\":\"linear\"}}],\"label\":\"5.8\",\"method\":\"animate\"},{\"args\":[[\"6.6\"],{\"frame\":{\"duration\":0,\"redraw\":false},\"mode\":\"immediate\",\"fromcurrent\":true,\"transition\":{\"duration\":0,\"easing\":\"linear\"}}],\"label\":\"6.6\",\"method\":\"animate\"},{\"args\":[[\"6.3\"],{\"frame\":{\"duration\":0,\"redraw\":false},\"mode\":\"immediate\",\"fromcurrent\":true,\"transition\":{\"duration\":0,\"easing\":\"linear\"}}],\"label\":\"6.3\",\"method\":\"animate\"},{\"args\":[[\"6.1\"],{\"frame\":{\"duration\":0,\"redraw\":false},\"mode\":\"immediate\",\"fromcurrent\":true,\"transition\":{\"duration\":0,\"easing\":\"linear\"}}],\"label\":\"6.1\",\"method\":\"animate\"},{\"args\":[[\"5.3\"],{\"frame\":{\"duration\":0,\"redraw\":false},\"mode\":\"immediate\",\"fromcurrent\":true,\"transition\":{\"duration\":0,\"easing\":\"linear\"}}],\"label\":\"5.3\",\"method\":\"animate\"},{\"args\":[[\"5.5\"],{\"frame\":{\"duration\":0,\"redraw\":false},\"mode\":\"immediate\",\"fromcurrent\":true,\"transition\":{\"duration\":0,\"easing\":\"linear\"}}],\"label\":\"5.5\",\"method\":\"animate\"},{\"args\":[[\"6.7\"],{\"frame\":{\"duration\":0,\"redraw\":false},\"mode\":\"immediate\",\"fromcurrent\":true,\"transition\":{\"duration\":0,\"easing\":\"linear\"}}],\"label\":\"6.7\",\"method\":\"animate\"},{\"args\":[[\"6.9\"],{\"frame\":{\"duration\":0,\"redraw\":false},\"mode\":\"immediate\",\"fromcurrent\":true,\"transition\":{\"duration\":0,\"easing\":\"linear\"}}],\"label\":\"6.9\",\"method\":\"animate\"},{\"args\":[[\"5.7\"],{\"frame\":{\"duration\":0,\"redraw\":false},\"mode\":\"immediate\",\"fromcurrent\":true,\"transition\":{\"duration\":0,\"easing\":\"linear\"}}],\"label\":\"5.7\",\"method\":\"animate\"},{\"args\":[[\"6.4\"],{\"frame\":{\"duration\":0,\"redraw\":false},\"mode\":\"immediate\",\"fromcurrent\":true,\"transition\":{\"duration\":0,\"easing\":\"linear\"}}],\"label\":\"6.4\",\"method\":\"animate\"},{\"args\":[[\"5.4\"],{\"frame\":{\"duration\":0,\"redraw\":false},\"mode\":\"immediate\",\"fromcurrent\":true,\"transition\":{\"duration\":0,\"easing\":\"linear\"}}],\"label\":\"5.4\",\"method\":\"animate\"},{\"args\":[[\"5.2\"],{\"frame\":{\"duration\":0,\"redraw\":false},\"mode\":\"immediate\",\"fromcurrent\":true,\"transition\":{\"duration\":0,\"easing\":\"linear\"}}],\"label\":\"5.2\",\"method\":\"animate\"}],\"x\":0.1,\"xanchor\":\"left\",\"y\":0,\"yanchor\":\"top\"}]},                        {\"responsive\": true}                    ).then(function(){\n",
       "                            Plotly.addFrames('8de3b016-5e4b-4b03-80e8-736e9d5da15c', [{\"data\":[{\"hovertemplate\":\"species=setosa\\u003cbr\\u003epetal_length=1.4\\u003cbr\\u003eSepal Length=%{x}\\u003cbr\\u003eSepal Width=%{y}\\u003cextra\\u003e\\u003c\\u002fextra\\u003e\",\"legendgroup\":\"setosa\",\"marker\":{\"color\":\"#636efa\",\"symbol\":\"circle\"},\"mode\":\"markers\",\"name\":\"setosa\",\"orientation\":\"v\",\"showlegend\":true,\"x\":[5.1,4.9,5.0,4.6,4.4,4.8,5.1,5.2,5.5,4.9,4.8,4.6,5.0],\"xaxis\":\"x\",\"y\":[3.5,3.0,3.6,3.4,2.9,3.0,3.5,3.4,4.2,3.6,3.0,3.2,3.3],\"yaxis\":\"y\",\"type\":\"scatter\"}],\"name\":\"1.4\"},{\"data\":[{\"hovertemplate\":\"species=setosa\\u003cbr\\u003epetal_length=1.3\\u003cbr\\u003eSepal Length=%{x}\\u003cbr\\u003eSepal Width=%{y}\\u003cextra\\u003e\\u003c\\u002fextra\\u003e\",\"legendgroup\":\"setosa\",\"marker\":{\"color\":\"#636efa\",\"symbol\":\"circle\"},\"mode\":\"markers\",\"name\":\"setosa\",\"orientation\":\"v\",\"showlegend\":true,\"x\":[4.7,5.4,5.5,4.4,5.0,4.5,4.4],\"xaxis\":\"x\",\"y\":[3.2,3.9,3.5,3.0,3.5,2.3,3.2],\"yaxis\":\"y\",\"type\":\"scatter\"}],\"name\":\"1.3\"},{\"data\":[{\"hovertemplate\":\"species=setosa\\u003cbr\\u003epetal_length=1.5\\u003cbr\\u003eSepal Length=%{x}\\u003cbr\\u003eSepal Width=%{y}\\u003cextra\\u003e\\u003c\\u002fextra\\u003e\",\"legendgroup\":\"setosa\",\"marker\":{\"color\":\"#636efa\",\"symbol\":\"circle\"},\"mode\":\"markers\",\"name\":\"setosa\",\"orientation\":\"v\",\"showlegend\":true,\"x\":[4.6,5.0,4.9,5.4,5.7,5.1,5.1,5.2,5.4,5.2,4.9,5.1,5.3],\"xaxis\":\"x\",\"y\":[3.1,3.4,3.1,3.7,4.4,3.8,3.7,3.5,3.4,4.1,3.1,3.4,3.7],\"yaxis\":\"y\",\"type\":\"scatter\"}],\"name\":\"1.5\"},{\"data\":[{\"hovertemplate\":\"species=setosa\\u003cbr\\u003epetal_length=1.7\\u003cbr\\u003eSepal Length=%{x}\\u003cbr\\u003eSepal Width=%{y}\\u003cextra\\u003e\\u003c\\u002fextra\\u003e\",\"legendgroup\":\"setosa\",\"marker\":{\"color\":\"#636efa\",\"symbol\":\"circle\"},\"mode\":\"markers\",\"name\":\"setosa\",\"orientation\":\"v\",\"showlegend\":true,\"x\":[5.4,5.7,5.4,5.1],\"xaxis\":\"x\",\"y\":[3.9,3.8,3.4,3.3],\"yaxis\":\"y\",\"type\":\"scatter\"}],\"name\":\"1.7\"},{\"data\":[{\"hovertemplate\":\"species=setosa\\u003cbr\\u003epetal_length=1.6\\u003cbr\\u003eSepal Length=%{x}\\u003cbr\\u003eSepal Width=%{y}\\u003cextra\\u003e\\u003c\\u002fextra\\u003e\",\"legendgroup\":\"setosa\",\"marker\":{\"color\":\"#636efa\",\"symbol\":\"circle\"},\"mode\":\"markers\",\"name\":\"setosa\",\"orientation\":\"v\",\"showlegend\":true,\"x\":[4.8,5.0,5.0,4.7,4.8,5.0,5.1],\"xaxis\":\"x\",\"y\":[3.4,3.0,3.4,3.2,3.1,3.5,3.8],\"yaxis\":\"y\",\"type\":\"scatter\"}],\"name\":\"1.6\"},{\"data\":[{\"hovertemplate\":\"species=setosa\\u003cbr\\u003epetal_length=1.1\\u003cbr\\u003eSepal Length=%{x}\\u003cbr\\u003eSepal Width=%{y}\\u003cextra\\u003e\\u003c\\u002fextra\\u003e\",\"legendgroup\":\"setosa\",\"marker\":{\"color\":\"#636efa\",\"symbol\":\"circle\"},\"mode\":\"markers\",\"name\":\"setosa\",\"orientation\":\"v\",\"showlegend\":true,\"x\":[4.3],\"xaxis\":\"x\",\"y\":[3.0],\"yaxis\":\"y\",\"type\":\"scatter\"}],\"name\":\"1.1\"},{\"data\":[{\"hovertemplate\":\"species=setosa\\u003cbr\\u003epetal_length=1.2\\u003cbr\\u003eSepal Length=%{x}\\u003cbr\\u003eSepal Width=%{y}\\u003cextra\\u003e\\u003c\\u002fextra\\u003e\",\"legendgroup\":\"setosa\",\"marker\":{\"color\":\"#636efa\",\"symbol\":\"circle\"},\"mode\":\"markers\",\"name\":\"setosa\",\"orientation\":\"v\",\"showlegend\":true,\"x\":[5.8,5.0],\"xaxis\":\"x\",\"y\":[4.0,3.2],\"yaxis\":\"y\",\"type\":\"scatter\"}],\"name\":\"1.2\"},{\"data\":[{\"hovertemplate\":\"species=setosa\\u003cbr\\u003epetal_length=1.0\\u003cbr\\u003eSepal Length=%{x}\\u003cbr\\u003eSepal Width=%{y}\\u003cextra\\u003e\\u003c\\u002fextra\\u003e\",\"legendgroup\":\"setosa\",\"marker\":{\"color\":\"#636efa\",\"symbol\":\"circle\"},\"mode\":\"markers\",\"name\":\"setosa\",\"orientation\":\"v\",\"showlegend\":true,\"x\":[4.6],\"xaxis\":\"x\",\"y\":[3.6],\"yaxis\":\"y\",\"type\":\"scatter\"}],\"name\":\"1.0\"},{\"data\":[{\"hovertemplate\":\"species=setosa\\u003cbr\\u003epetal_length=1.9\\u003cbr\\u003eSepal Length=%{x}\\u003cbr\\u003eSepal Width=%{y}\\u003cextra\\u003e\\u003c\\u002fextra\\u003e\",\"legendgroup\":\"setosa\",\"marker\":{\"color\":\"#636efa\",\"symbol\":\"circle\"},\"mode\":\"markers\",\"name\":\"setosa\",\"orientation\":\"v\",\"showlegend\":true,\"x\":[4.8,5.1],\"xaxis\":\"x\",\"y\":[3.4,3.8],\"yaxis\":\"y\",\"type\":\"scatter\"}],\"name\":\"1.9\"},{\"data\":[{\"hovertemplate\":\"species=versicolor\\u003cbr\\u003epetal_length=4.7\\u003cbr\\u003eSepal Length=%{x}\\u003cbr\\u003eSepal Width=%{y}\\u003cextra\\u003e\\u003c\\u002fextra\\u003e\",\"legendgroup\":\"versicolor\",\"marker\":{\"color\":\"#EF553B\",\"symbol\":\"circle\"},\"mode\":\"markers\",\"name\":\"versicolor\",\"orientation\":\"v\",\"showlegend\":true,\"x\":[7.0,6.3,6.1,6.1,6.7],\"xaxis\":\"x\",\"y\":[3.2,3.3,2.9,2.8,3.1],\"yaxis\":\"y\",\"type\":\"scatter\"}],\"name\":\"4.7\"},{\"data\":[{\"hovertemplate\":\"species=versicolor\\u003cbr\\u003epetal_length=4.5\\u003cbr\\u003eSepal Length=%{x}\\u003cbr\\u003eSepal Width=%{y}\\u003cextra\\u003e\\u003c\\u002fextra\\u003e\",\"legendgroup\":\"versicolor\",\"marker\":{\"color\":\"#EF553B\",\"symbol\":\"circle\"},\"mode\":\"markers\",\"name\":\"versicolor\",\"orientation\":\"v\",\"showlegend\":true,\"x\":[6.4,5.7,5.6,6.2,6.0,5.4,6.0],\"xaxis\":\"x\",\"y\":[3.2,2.8,3.0,2.2,2.9,3.0,3.4],\"yaxis\":\"y\",\"type\":\"scatter\"},{\"hovertemplate\":\"species=virginica\\u003cbr\\u003epetal_length=4.5\\u003cbr\\u003eSepal Length=%{x}\\u003cbr\\u003eSepal Width=%{y}\\u003cextra\\u003e\\u003c\\u002fextra\\u003e\",\"legendgroup\":\"virginica\",\"marker\":{\"color\":\"#00cc96\",\"symbol\":\"circle\"},\"mode\":\"markers\",\"name\":\"virginica\",\"orientation\":\"v\",\"showlegend\":true,\"x\":[4.9],\"xaxis\":\"x\",\"y\":[2.5],\"yaxis\":\"y\",\"type\":\"scatter\"}],\"name\":\"4.5\"},{\"data\":[{\"hovertemplate\":\"species=versicolor\\u003cbr\\u003epetal_length=4.9\\u003cbr\\u003eSepal Length=%{x}\\u003cbr\\u003eSepal Width=%{y}\\u003cextra\\u003e\\u003c\\u002fextra\\u003e\",\"legendgroup\":\"versicolor\",\"marker\":{\"color\":\"#EF553B\",\"symbol\":\"circle\"},\"mode\":\"markers\",\"name\":\"versicolor\",\"orientation\":\"v\",\"showlegend\":true,\"x\":[6.9,6.3],\"xaxis\":\"x\",\"y\":[3.1,2.5],\"yaxis\":\"y\",\"type\":\"scatter\"},{\"hovertemplate\":\"species=virginica\\u003cbr\\u003epetal_length=4.9\\u003cbr\\u003eSepal Length=%{x}\\u003cbr\\u003eSepal Width=%{y}\\u003cextra\\u003e\\u003c\\u002fextra\\u003e\",\"legendgroup\":\"virginica\",\"marker\":{\"color\":\"#00cc96\",\"symbol\":\"circle\"},\"mode\":\"markers\",\"name\":\"virginica\",\"orientation\":\"v\",\"showlegend\":true,\"x\":[5.6,6.3,6.1],\"xaxis\":\"x\",\"y\":[2.8,2.7,3.0],\"yaxis\":\"y\",\"type\":\"scatter\"}],\"name\":\"4.9\"},{\"data\":[{\"hovertemplate\":\"species=versicolor\\u003cbr\\u003epetal_length=4.0\\u003cbr\\u003eSepal Length=%{x}\\u003cbr\\u003eSepal Width=%{y}\\u003cextra\\u003e\\u003c\\u002fextra\\u003e\",\"legendgroup\":\"versicolor\",\"marker\":{\"color\":\"#EF553B\",\"symbol\":\"circle\"},\"mode\":\"markers\",\"name\":\"versicolor\",\"orientation\":\"v\",\"showlegend\":true,\"x\":[5.5,6.0,6.1,5.5,5.8],\"xaxis\":\"x\",\"y\":[2.3,2.2,2.8,2.5,2.6],\"yaxis\":\"y\",\"type\":\"scatter\"}],\"name\":\"4.0\"},{\"data\":[{\"hovertemplate\":\"species=versicolor\\u003cbr\\u003epetal_length=4.6\\u003cbr\\u003eSepal Length=%{x}\\u003cbr\\u003eSepal Width=%{y}\\u003cextra\\u003e\\u003c\\u002fextra\\u003e\",\"legendgroup\":\"versicolor\",\"marker\":{\"color\":\"#EF553B\",\"symbol\":\"circle\"},\"mode\":\"markers\",\"name\":\"versicolor\",\"orientation\":\"v\",\"showlegend\":true,\"x\":[6.5,6.6,6.1],\"xaxis\":\"x\",\"y\":[2.8,2.9,3.0],\"yaxis\":\"y\",\"type\":\"scatter\"}],\"name\":\"4.6\"},{\"data\":[{\"hovertemplate\":\"species=versicolor\\u003cbr\\u003epetal_length=3.3\\u003cbr\\u003eSepal Length=%{x}\\u003cbr\\u003eSepal Width=%{y}\\u003cextra\\u003e\\u003c\\u002fextra\\u003e\",\"legendgroup\":\"versicolor\",\"marker\":{\"color\":\"#EF553B\",\"symbol\":\"circle\"},\"mode\":\"markers\",\"name\":\"versicolor\",\"orientation\":\"v\",\"showlegend\":true,\"x\":[4.9,5.0],\"xaxis\":\"x\",\"y\":[2.4,2.3],\"yaxis\":\"y\",\"type\":\"scatter\"}],\"name\":\"3.3\"},{\"data\":[{\"hovertemplate\":\"species=versicolor\\u003cbr\\u003epetal_length=3.9\\u003cbr\\u003eSepal Length=%{x}\\u003cbr\\u003eSepal Width=%{y}\\u003cextra\\u003e\\u003c\\u002fextra\\u003e\",\"legendgroup\":\"versicolor\",\"marker\":{\"color\":\"#EF553B\",\"symbol\":\"circle\"},\"mode\":\"markers\",\"name\":\"versicolor\",\"orientation\":\"v\",\"showlegend\":true,\"x\":[5.2,5.6,5.8],\"xaxis\":\"x\",\"y\":[2.7,2.5,2.7],\"yaxis\":\"y\",\"type\":\"scatter\"}],\"name\":\"3.9\"},{\"data\":[{\"hovertemplate\":\"species=versicolor\\u003cbr\\u003epetal_length=3.5\\u003cbr\\u003eSepal Length=%{x}\\u003cbr\\u003eSepal Width=%{y}\\u003cextra\\u003e\\u003c\\u002fextra\\u003e\",\"legendgroup\":\"versicolor\",\"marker\":{\"color\":\"#EF553B\",\"symbol\":\"circle\"},\"mode\":\"markers\",\"name\":\"versicolor\",\"orientation\":\"v\",\"showlegend\":true,\"x\":[5.0,5.7],\"xaxis\":\"x\",\"y\":[2.0,2.6],\"yaxis\":\"y\",\"type\":\"scatter\"}],\"name\":\"3.5\"},{\"data\":[{\"hovertemplate\":\"species=versicolor\\u003cbr\\u003epetal_length=4.2\\u003cbr\\u003eSepal Length=%{x}\\u003cbr\\u003eSepal Width=%{y}\\u003cextra\\u003e\\u003c\\u002fextra\\u003e\",\"legendgroup\":\"versicolor\",\"marker\":{\"color\":\"#EF553B\",\"symbol\":\"circle\"},\"mode\":\"markers\",\"name\":\"versicolor\",\"orientation\":\"v\",\"showlegend\":true,\"x\":[5.9,5.6,5.7,5.7],\"xaxis\":\"x\",\"y\":[3.0,2.7,3.0,2.9],\"yaxis\":\"y\",\"type\":\"scatter\"}],\"name\":\"4.2\"},{\"data\":[{\"hovertemplate\":\"species=versicolor\\u003cbr\\u003epetal_length=3.6\\u003cbr\\u003eSepal Length=%{x}\\u003cbr\\u003eSepal Width=%{y}\\u003cextra\\u003e\\u003c\\u002fextra\\u003e\",\"legendgroup\":\"versicolor\",\"marker\":{\"color\":\"#EF553B\",\"symbol\":\"circle\"},\"mode\":\"markers\",\"name\":\"versicolor\",\"orientation\":\"v\",\"showlegend\":true,\"x\":[5.6],\"xaxis\":\"x\",\"y\":[2.9],\"yaxis\":\"y\",\"type\":\"scatter\"}],\"name\":\"3.6\"},{\"data\":[{\"hovertemplate\":\"species=versicolor\\u003cbr\\u003epetal_length=4.4\\u003cbr\\u003eSepal Length=%{x}\\u003cbr\\u003eSepal Width=%{y}\\u003cextra\\u003e\\u003c\\u002fextra\\u003e\",\"legendgroup\":\"versicolor\",\"marker\":{\"color\":\"#EF553B\",\"symbol\":\"circle\"},\"mode\":\"markers\",\"name\":\"versicolor\",\"orientation\":\"v\",\"showlegend\":true,\"x\":[6.7,6.6,6.3,5.5],\"xaxis\":\"x\",\"y\":[3.1,3.0,2.3,2.6],\"yaxis\":\"y\",\"type\":\"scatter\"}],\"name\":\"4.4\"},{\"data\":[{\"hovertemplate\":\"species=versicolor\\u003cbr\\u003epetal_length=4.1\\u003cbr\\u003eSepal Length=%{x}\\u003cbr\\u003eSepal Width=%{y}\\u003cextra\\u003e\\u003c\\u002fextra\\u003e\",\"legendgroup\":\"versicolor\",\"marker\":{\"color\":\"#EF553B\",\"symbol\":\"circle\"},\"mode\":\"markers\",\"name\":\"versicolor\",\"orientation\":\"v\",\"showlegend\":true,\"x\":[5.8,5.6,5.7],\"xaxis\":\"x\",\"y\":[2.7,3.0,2.8],\"yaxis\":\"y\",\"type\":\"scatter\"}],\"name\":\"4.1\"},{\"data\":[{\"hovertemplate\":\"species=versicolor\\u003cbr\\u003epetal_length=4.8\\u003cbr\\u003eSepal Length=%{x}\\u003cbr\\u003eSepal Width=%{y}\\u003cextra\\u003e\\u003c\\u002fextra\\u003e\",\"legendgroup\":\"versicolor\",\"marker\":{\"color\":\"#EF553B\",\"symbol\":\"circle\"},\"mode\":\"markers\",\"name\":\"versicolor\",\"orientation\":\"v\",\"showlegend\":true,\"x\":[5.9,6.8],\"xaxis\":\"x\",\"y\":[3.2,2.8],\"yaxis\":\"y\",\"type\":\"scatter\"},{\"hovertemplate\":\"species=virginica\\u003cbr\\u003epetal_length=4.8\\u003cbr\\u003eSepal Length=%{x}\\u003cbr\\u003eSepal Width=%{y}\\u003cextra\\u003e\\u003c\\u002fextra\\u003e\",\"legendgroup\":\"virginica\",\"marker\":{\"color\":\"#00cc96\",\"symbol\":\"circle\"},\"mode\":\"markers\",\"name\":\"virginica\",\"orientation\":\"v\",\"showlegend\":true,\"x\":[6.2,6.0],\"xaxis\":\"x\",\"y\":[2.8,3.0],\"yaxis\":\"y\",\"type\":\"scatter\"}],\"name\":\"4.8\"},{\"data\":[{\"hovertemplate\":\"species=versicolor\\u003cbr\\u003epetal_length=4.3\\u003cbr\\u003eSepal Length=%{x}\\u003cbr\\u003eSepal Width=%{y}\\u003cextra\\u003e\\u003c\\u002fextra\\u003e\",\"legendgroup\":\"versicolor\",\"marker\":{\"color\":\"#EF553B\",\"symbol\":\"circle\"},\"mode\":\"markers\",\"name\":\"versicolor\",\"orientation\":\"v\",\"showlegend\":true,\"x\":[6.4,6.2],\"xaxis\":\"x\",\"y\":[2.9,2.9],\"yaxis\":\"y\",\"type\":\"scatter\"}],\"name\":\"4.3\"},{\"data\":[{\"hovertemplate\":\"species=versicolor\\u003cbr\\u003epetal_length=5.0\\u003cbr\\u003eSepal Length=%{x}\\u003cbr\\u003eSepal Width=%{y}\\u003cextra\\u003e\\u003c\\u002fextra\\u003e\",\"legendgroup\":\"versicolor\",\"marker\":{\"color\":\"#EF553B\",\"symbol\":\"circle\"},\"mode\":\"markers\",\"name\":\"versicolor\",\"orientation\":\"v\",\"showlegend\":true,\"x\":[6.7],\"xaxis\":\"x\",\"y\":[3.0],\"yaxis\":\"y\",\"type\":\"scatter\"},{\"hovertemplate\":\"species=virginica\\u003cbr\\u003epetal_length=5.0\\u003cbr\\u003eSepal Length=%{x}\\u003cbr\\u003eSepal Width=%{y}\\u003cextra\\u003e\\u003c\\u002fextra\\u003e\",\"legendgroup\":\"virginica\",\"marker\":{\"color\":\"#00cc96\",\"symbol\":\"circle\"},\"mode\":\"markers\",\"name\":\"virginica\",\"orientation\":\"v\",\"showlegend\":true,\"x\":[5.7,6.0,6.3],\"xaxis\":\"x\",\"y\":[2.5,2.2,2.5],\"yaxis\":\"y\",\"type\":\"scatter\"}],\"name\":\"5.0\"},{\"data\":[{\"hovertemplate\":\"species=versicolor\\u003cbr\\u003epetal_length=3.8\\u003cbr\\u003eSepal Length=%{x}\\u003cbr\\u003eSepal Width=%{y}\\u003cextra\\u003e\\u003c\\u002fextra\\u003e\",\"legendgroup\":\"versicolor\",\"marker\":{\"color\":\"#EF553B\",\"symbol\":\"circle\"},\"mode\":\"markers\",\"name\":\"versicolor\",\"orientation\":\"v\",\"showlegend\":true,\"x\":[5.5],\"xaxis\":\"x\",\"y\":[2.4],\"yaxis\":\"y\",\"type\":\"scatter\"}],\"name\":\"3.8\"},{\"data\":[{\"hovertemplate\":\"species=versicolor\\u003cbr\\u003epetal_length=3.7\\u003cbr\\u003eSepal Length=%{x}\\u003cbr\\u003eSepal Width=%{y}\\u003cextra\\u003e\\u003c\\u002fextra\\u003e\",\"legendgroup\":\"versicolor\",\"marker\":{\"color\":\"#EF553B\",\"symbol\":\"circle\"},\"mode\":\"markers\",\"name\":\"versicolor\",\"orientation\":\"v\",\"showlegend\":true,\"x\":[5.5],\"xaxis\":\"x\",\"y\":[2.4],\"yaxis\":\"y\",\"type\":\"scatter\"}],\"name\":\"3.7\"},{\"data\":[{\"hovertemplate\":\"species=versicolor\\u003cbr\\u003epetal_length=5.1\\u003cbr\\u003eSepal Length=%{x}\\u003cbr\\u003eSepal Width=%{y}\\u003cextra\\u003e\\u003c\\u002fextra\\u003e\",\"legendgroup\":\"versicolor\",\"marker\":{\"color\":\"#EF553B\",\"symbol\":\"circle\"},\"mode\":\"markers\",\"name\":\"versicolor\",\"orientation\":\"v\",\"showlegend\":true,\"x\":[6.0],\"xaxis\":\"x\",\"y\":[2.7],\"yaxis\":\"y\",\"type\":\"scatter\"},{\"hovertemplate\":\"species=virginica\\u003cbr\\u003epetal_length=5.1\\u003cbr\\u003eSepal Length=%{x}\\u003cbr\\u003eSepal Width=%{y}\\u003cextra\\u003e\\u003c\\u002fextra\\u003e\",\"legendgroup\":\"virginica\",\"marker\":{\"color\":\"#00cc96\",\"symbol\":\"circle\"},\"mode\":\"markers\",\"name\":\"virginica\",\"orientation\":\"v\",\"showlegend\":true,\"x\":[5.8,6.5,5.8,6.3,6.9,5.8,5.9],\"xaxis\":\"x\",\"y\":[2.7,3.2,2.8,2.8,3.1,2.7,3.0],\"yaxis\":\"y\",\"type\":\"scatter\"}],\"name\":\"5.1\"},{\"data\":[{\"hovertemplate\":\"species=versicolor\\u003cbr\\u003epetal_length=3.0\\u003cbr\\u003eSepal Length=%{x}\\u003cbr\\u003eSepal Width=%{y}\\u003cextra\\u003e\\u003c\\u002fextra\\u003e\",\"legendgroup\":\"versicolor\",\"marker\":{\"color\":\"#EF553B\",\"symbol\":\"circle\"},\"mode\":\"markers\",\"name\":\"versicolor\",\"orientation\":\"v\",\"showlegend\":true,\"x\":[5.1],\"xaxis\":\"x\",\"y\":[2.5],\"yaxis\":\"y\",\"type\":\"scatter\"}],\"name\":\"3.0\"},{\"data\":[{\"hovertemplate\":\"species=virginica\\u003cbr\\u003epetal_length=6.0\\u003cbr\\u003eSepal Length=%{x}\\u003cbr\\u003eSepal Width=%{y}\\u003cextra\\u003e\\u003c\\u002fextra\\u003e\",\"legendgroup\":\"virginica\",\"marker\":{\"color\":\"#00cc96\",\"symbol\":\"circle\"},\"mode\":\"markers\",\"name\":\"virginica\",\"orientation\":\"v\",\"showlegend\":true,\"x\":[6.3,7.2],\"xaxis\":\"x\",\"y\":[3.3,3.2],\"yaxis\":\"y\",\"type\":\"scatter\"}],\"name\":\"6.0\"},{\"data\":[{\"hovertemplate\":\"species=virginica\\u003cbr\\u003epetal_length=5.9\\u003cbr\\u003eSepal Length=%{x}\\u003cbr\\u003eSepal Width=%{y}\\u003cextra\\u003e\\u003c\\u002fextra\\u003e\",\"legendgroup\":\"virginica\",\"marker\":{\"color\":\"#00cc96\",\"symbol\":\"circle\"},\"mode\":\"markers\",\"name\":\"virginica\",\"orientation\":\"v\",\"showlegend\":true,\"x\":[7.1,6.8],\"xaxis\":\"x\",\"y\":[3.0,3.2],\"yaxis\":\"y\",\"type\":\"scatter\"}],\"name\":\"5.9\"},{\"data\":[{\"hovertemplate\":\"species=virginica\\u003cbr\\u003epetal_length=5.6\\u003cbr\\u003eSepal Length=%{x}\\u003cbr\\u003eSepal Width=%{y}\\u003cextra\\u003e\\u003c\\u002fextra\\u003e\",\"legendgroup\":\"virginica\",\"marker\":{\"color\":\"#00cc96\",\"symbol\":\"circle\"},\"mode\":\"markers\",\"name\":\"virginica\",\"orientation\":\"v\",\"showlegend\":true,\"x\":[6.3,6.4,6.4,6.1,6.3,6.7],\"xaxis\":\"x\",\"y\":[2.9,2.8,2.8,2.6,3.4,3.1],\"yaxis\":\"y\",\"type\":\"scatter\"}],\"name\":\"5.6\"},{\"data\":[{\"hovertemplate\":\"species=virginica\\u003cbr\\u003epetal_length=5.8\\u003cbr\\u003eSepal Length=%{x}\\u003cbr\\u003eSepal Width=%{y}\\u003cextra\\u003e\\u003c\\u002fextra\\u003e\",\"legendgroup\":\"virginica\",\"marker\":{\"color\":\"#00cc96\",\"symbol\":\"circle\"},\"mode\":\"markers\",\"name\":\"virginica\",\"orientation\":\"v\",\"showlegend\":true,\"x\":[6.5,6.7,7.2],\"xaxis\":\"x\",\"y\":[3.0,2.5,3.0],\"yaxis\":\"y\",\"type\":\"scatter\"}],\"name\":\"5.8\"},{\"data\":[{\"hovertemplate\":\"species=virginica\\u003cbr\\u003epetal_length=6.6\\u003cbr\\u003eSepal Length=%{x}\\u003cbr\\u003eSepal Width=%{y}\\u003cextra\\u003e\\u003c\\u002fextra\\u003e\",\"legendgroup\":\"virginica\",\"marker\":{\"color\":\"#00cc96\",\"symbol\":\"circle\"},\"mode\":\"markers\",\"name\":\"virginica\",\"orientation\":\"v\",\"showlegend\":true,\"x\":[7.6],\"xaxis\":\"x\",\"y\":[3.0],\"yaxis\":\"y\",\"type\":\"scatter\"}],\"name\":\"6.6\"},{\"data\":[{\"hovertemplate\":\"species=virginica\\u003cbr\\u003epetal_length=6.3\\u003cbr\\u003eSepal Length=%{x}\\u003cbr\\u003eSepal Width=%{y}\\u003cextra\\u003e\\u003c\\u002fextra\\u003e\",\"legendgroup\":\"virginica\",\"marker\":{\"color\":\"#00cc96\",\"symbol\":\"circle\"},\"mode\":\"markers\",\"name\":\"virginica\",\"orientation\":\"v\",\"showlegend\":true,\"x\":[7.3],\"xaxis\":\"x\",\"y\":[2.9],\"yaxis\":\"y\",\"type\":\"scatter\"}],\"name\":\"6.3\"},{\"data\":[{\"hovertemplate\":\"species=virginica\\u003cbr\\u003epetal_length=6.1\\u003cbr\\u003eSepal Length=%{x}\\u003cbr\\u003eSepal Width=%{y}\\u003cextra\\u003e\\u003c\\u002fextra\\u003e\",\"legendgroup\":\"virginica\",\"marker\":{\"color\":\"#00cc96\",\"symbol\":\"circle\"},\"mode\":\"markers\",\"name\":\"virginica\",\"orientation\":\"v\",\"showlegend\":true,\"x\":[7.2,7.4,7.7],\"xaxis\":\"x\",\"y\":[3.6,2.8,3.0],\"yaxis\":\"y\",\"type\":\"scatter\"}],\"name\":\"6.1\"},{\"data\":[{\"hovertemplate\":\"species=virginica\\u003cbr\\u003epetal_length=5.3\\u003cbr\\u003eSepal Length=%{x}\\u003cbr\\u003eSepal Width=%{y}\\u003cextra\\u003e\\u003c\\u002fextra\\u003e\",\"legendgroup\":\"virginica\",\"marker\":{\"color\":\"#00cc96\",\"symbol\":\"circle\"},\"mode\":\"markers\",\"name\":\"virginica\",\"orientation\":\"v\",\"showlegend\":true,\"x\":[6.4,6.4],\"xaxis\":\"x\",\"y\":[2.7,3.2],\"yaxis\":\"y\",\"type\":\"scatter\"}],\"name\":\"5.3\"},{\"data\":[{\"hovertemplate\":\"species=virginica\\u003cbr\\u003epetal_length=5.5\\u003cbr\\u003eSepal Length=%{x}\\u003cbr\\u003eSepal Width=%{y}\\u003cextra\\u003e\\u003c\\u002fextra\\u003e\",\"legendgroup\":\"virginica\",\"marker\":{\"color\":\"#00cc96\",\"symbol\":\"circle\"},\"mode\":\"markers\",\"name\":\"virginica\",\"orientation\":\"v\",\"showlegend\":true,\"x\":[6.8,6.5,6.4],\"xaxis\":\"x\",\"y\":[3.0,3.0,3.1],\"yaxis\":\"y\",\"type\":\"scatter\"}],\"name\":\"5.5\"},{\"data\":[{\"hovertemplate\":\"species=virginica\\u003cbr\\u003epetal_length=6.7\\u003cbr\\u003eSepal Length=%{x}\\u003cbr\\u003eSepal Width=%{y}\\u003cextra\\u003e\\u003c\\u002fextra\\u003e\",\"legendgroup\":\"virginica\",\"marker\":{\"color\":\"#00cc96\",\"symbol\":\"circle\"},\"mode\":\"markers\",\"name\":\"virginica\",\"orientation\":\"v\",\"showlegend\":true,\"x\":[7.7,7.7],\"xaxis\":\"x\",\"y\":[3.8,2.8],\"yaxis\":\"y\",\"type\":\"scatter\"}],\"name\":\"6.7\"},{\"data\":[{\"hovertemplate\":\"species=virginica\\u003cbr\\u003epetal_length=6.9\\u003cbr\\u003eSepal Length=%{x}\\u003cbr\\u003eSepal Width=%{y}\\u003cextra\\u003e\\u003c\\u002fextra\\u003e\",\"legendgroup\":\"virginica\",\"marker\":{\"color\":\"#00cc96\",\"symbol\":\"circle\"},\"mode\":\"markers\",\"name\":\"virginica\",\"orientation\":\"v\",\"showlegend\":true,\"x\":[7.7],\"xaxis\":\"x\",\"y\":[2.6],\"yaxis\":\"y\",\"type\":\"scatter\"}],\"name\":\"6.9\"},{\"data\":[{\"hovertemplate\":\"species=virginica\\u003cbr\\u003epetal_length=5.7\\u003cbr\\u003eSepal Length=%{x}\\u003cbr\\u003eSepal Width=%{y}\\u003cextra\\u003e\\u003c\\u002fextra\\u003e\",\"legendgroup\":\"virginica\",\"marker\":{\"color\":\"#00cc96\",\"symbol\":\"circle\"},\"mode\":\"markers\",\"name\":\"virginica\",\"orientation\":\"v\",\"showlegend\":true,\"x\":[6.9,6.7,6.7],\"xaxis\":\"x\",\"y\":[3.2,3.3,3.3],\"yaxis\":\"y\",\"type\":\"scatter\"}],\"name\":\"5.7\"},{\"data\":[{\"hovertemplate\":\"species=virginica\\u003cbr\\u003epetal_length=6.4\\u003cbr\\u003eSepal Length=%{x}\\u003cbr\\u003eSepal Width=%{y}\\u003cextra\\u003e\\u003c\\u002fextra\\u003e\",\"legendgroup\":\"virginica\",\"marker\":{\"color\":\"#00cc96\",\"symbol\":\"circle\"},\"mode\":\"markers\",\"name\":\"virginica\",\"orientation\":\"v\",\"showlegend\":true,\"x\":[7.9],\"xaxis\":\"x\",\"y\":[3.8],\"yaxis\":\"y\",\"type\":\"scatter\"}],\"name\":\"6.4\"},{\"data\":[{\"hovertemplate\":\"species=virginica\\u003cbr\\u003epetal_length=5.4\\u003cbr\\u003eSepal Length=%{x}\\u003cbr\\u003eSepal Width=%{y}\\u003cextra\\u003e\\u003c\\u002fextra\\u003e\",\"legendgroup\":\"virginica\",\"marker\":{\"color\":\"#00cc96\",\"symbol\":\"circle\"},\"mode\":\"markers\",\"name\":\"virginica\",\"orientation\":\"v\",\"showlegend\":true,\"x\":[6.9,6.2],\"xaxis\":\"x\",\"y\":[3.1,3.4],\"yaxis\":\"y\",\"type\":\"scatter\"}],\"name\":\"5.4\"},{\"data\":[{\"hovertemplate\":\"species=virginica\\u003cbr\\u003epetal_length=5.2\\u003cbr\\u003eSepal Length=%{x}\\u003cbr\\u003eSepal Width=%{y}\\u003cextra\\u003e\\u003c\\u002fextra\\u003e\",\"legendgroup\":\"virginica\",\"marker\":{\"color\":\"#00cc96\",\"symbol\":\"circle\"},\"mode\":\"markers\",\"name\":\"virginica\",\"orientation\":\"v\",\"showlegend\":true,\"x\":[6.7,6.5],\"xaxis\":\"x\",\"y\":[3.0,3.0],\"yaxis\":\"y\",\"type\":\"scatter\"}],\"name\":\"5.2\"}]);\n",
       "                        }).then(function(){\n",
       "                            \n",
       "var gd = document.getElementById('8de3b016-5e4b-4b03-80e8-736e9d5da15c');\n",
       "var x = new MutationObserver(function (mutations, observer) {{\n",
       "        var display = window.getComputedStyle(gd).display;\n",
       "        if (!display || display === 'none') {{\n",
       "            console.log([gd, 'removed!']);\n",
       "            Plotly.purge(gd);\n",
       "            observer.disconnect();\n",
       "        }}\n",
       "}});\n",
       "\n",
       "// Listen for the removal of the full notebook cells\n",
       "var notebookContainer = gd.closest('#notebook-container');\n",
       "if (notebookContainer) {{\n",
       "    x.observe(notebookContainer, {childList: true});\n",
       "}}\n",
       "\n",
       "// Listen for the clearing of the current output cell\n",
       "var outputEl = gd.closest('.output');\n",
       "if (outputEl) {{\n",
       "    x.observe(outputEl, {childList: true});\n",
       "}}\n",
       "\n",
       "                        })                };                });            </script>        </div>"
      ]
     },
     "metadata": {},
     "output_type": "display_data"
    }
   ],
   "source": [
    "import pandas as pd\n",
    "import plotly.express as px\n",
    "import seaborn as sns\n",
    "\n",
    "# Load the iris dataset\n",
    "iris = sns.load_dataset('iris')\n",
    "\n",
    "# Create an animated scatter plot\n",
    "fig = px.scatter(\n",
    "    iris,\n",
    "    x=\"sepal_length\",\n",
    "    y=\"sepal_width\",\n",
    "    color=\"species\",\n",
    "    animation_frame=\"petal_length\",  # Using petal_length as the animation frame\n",
    "    range_x=[4, 8],\n",
    "    range_y=[1.5, 4.5],\n",
    "    title=\"Iris Dataset Animation: Sepal Dimensions vs. Petal Length\",\n",
    "    labels={\"sepal_length\": \"Sepal Length\", \"sepal_width\": \"Sepal Width\"},\n",
    ")\n",
    "\n",
    "# Show the plot\n",
    "fig.show()\n"
   ]
  },
  {
   "cell_type": "markdown",
   "id": "bab43e8d",
   "metadata": {},
   "source": [
    "Question 8"
   ]
  },
  {
   "cell_type": "code",
   "execution_count": 8,
   "id": "2128df22",
   "metadata": {},
   "outputs": [
    {
     "data": {
      "application/vnd.plotly.v1+json": {
       "config": {
        "plotlyServerURL": "https://plot.ly"
       },
       "data": [
        {
         "hovertemplate": "<b>%{hovertext}</b><br><br>sex=Female<br>year=2000<br>percent_change=%{x}<br>rank=%{y}<br>percent=%{marker.size}<extra></extra>",
         "hovertext": [
          "A"
         ],
         "ids": [
          "A"
         ],
         "legendgroup": "Female",
         "marker": {
          "color": "#636efa",
          "size": [
           24.68760628386012
          ],
          "sizemode": "area",
          "sizeref": 0.039909619401957676,
          "symbol": "circle"
         },
         "mode": "markers",
         "name": "Female",
         "orientation": "v",
         "showlegend": true,
         "type": "scatter",
         "x": [
          -0.0012545988115263752
         ],
         "xaxis": "x",
         "y": [
          23
         ],
         "yaxis": "y"
        },
        {
         "hovertemplate": "<b>%{hovertext}</b><br><br>sex=Male<br>year=2000<br>percent_change=%{x}<br>rank=%{y}<br>percent=%{marker.size}<extra></extra>",
         "hovertext": [
          "B",
          "C",
          "D"
         ],
         "ids": [
          "B",
          "C",
          "D"
         ],
         "legendgroup": "Male",
         "marker": {
          "color": "#EF553B",
          "size": [
           98.34231408948429,
           54.14479738275658,
           66.89882547142287
          ],
          "sizemode": "area",
          "sizeref": 0.039909619401957676,
          "symbol": "circle"
         },
         "mode": "markers",
         "name": "Male",
         "orientation": "v",
         "showlegend": true,
         "type": "scatter",
         "x": [
          -0.003605061393479582,
          -0.004656114788847816,
          -0.001432466733064107
         ],
         "xaxis": "x",
         "y": [
          15,
          28,
          77
         ],
         "yaxis": "y"
        }
       ],
       "frames": [
        {
         "data": [
          {
           "hovertemplate": "<b>%{hovertext}</b><br><br>sex=Female<br>year=2000<br>percent_change=%{x}<br>rank=%{y}<br>percent=%{marker.size}<extra></extra>",
           "hovertext": [
            "A"
           ],
           "ids": [
            "A"
           ],
           "legendgroup": "Female",
           "marker": {
            "color": "#636efa",
            "size": [
             24.68760628386012
            ],
            "sizemode": "area",
            "sizeref": 0.039909619401957676,
            "symbol": "circle"
           },
           "mode": "markers",
           "name": "Female",
           "orientation": "v",
           "showlegend": true,
           "type": "scatter",
           "x": [
            -0.0012545988115263752
           ],
           "xaxis": "x",
           "y": [
            23
           ],
           "yaxis": "y"
          },
          {
           "hovertemplate": "<b>%{hovertext}</b><br><br>sex=Male<br>year=2000<br>percent_change=%{x}<br>rank=%{y}<br>percent=%{marker.size}<extra></extra>",
           "hovertext": [
            "B",
            "C",
            "D"
           ],
           "ids": [
            "B",
            "C",
            "D"
           ],
           "legendgroup": "Male",
           "marker": {
            "color": "#EF553B",
            "size": [
             98.34231408948429,
             54.14479738275658,
             66.89882547142287
            ],
            "sizemode": "area",
            "sizeref": 0.039909619401957676,
            "symbol": "circle"
           },
           "mode": "markers",
           "name": "Male",
           "orientation": "v",
           "showlegend": true,
           "type": "scatter",
           "x": [
            -0.003605061393479582,
            -0.004656114788847816,
            -0.001432466733064107
           ],
           "xaxis": "x",
           "y": [
            15,
            28,
            77
           ],
           "yaxis": "y"
          }
         ],
         "name": "2000"
        },
        {
         "data": [
          {
           "hovertemplate": "<b>%{hovertext}</b><br><br>sex=Female<br>year=2001<br>percent_change=%{x}<br>rank=%{y}<br>percent=%{marker.size}<extra></extra>",
           "hovertext": [
            "A",
            "B",
            "D"
           ],
           "ids": [
            "A",
            "B",
            "D"
           ],
           "legendgroup": "Female",
           "marker": {
            "color": "#636efa",
            "size": [
             69.63042728397883,
             39.88244424445531,
             58.06866214364547
            ],
            "sizemode": "area",
            "sizeref": 0.039909619401957676,
            "symbol": "circle"
           },
           "mode": "markers",
           "name": "Female",
           "orientation": "v",
           "showlegend": true,
           "type": "scatter",
           "x": [
            0.0045071430640991625,
            -0.0020785535146478186,
            -0.0021906549031261925
           ],
           "xaxis": "x",
           "y": [
            62,
            90,
            3
           ],
           "yaxis": "y"
          },
          {
           "hovertemplate": "<b>%{hovertext}</b><br><br>sex=Male<br>year=2001<br>percent_change=%{x}<br>rank=%{y}<br>percent=%{marker.size}<extra></extra>",
           "hovertext": [
            "C"
           ],
           "ids": [
            "C"
           ],
           "legendgroup": "Male",
           "marker": {
            "color": "#EF553B",
            "size": [
             69.57843993450822
            ],
            "sizemode": "area",
            "sizeref": 0.039909619401957676,
            "symbol": "circle"
           },
           "mode": "markers",
           "name": "Male",
           "orientation": "v",
           "showlegend": true,
           "type": "scatter",
           "x": [
            0.004093204020787822
           ],
           "xaxis": "x",
           "y": [
            66
           ],
           "yaxis": "y"
          }
         ],
         "name": "2001"
        },
        {
         "data": [
          {
           "hovertemplate": "<b>%{hovertext}</b><br><br>sex=Female<br>year=2002<br>percent_change=%{x}<br>rank=%{y}<br>percent=%{marker.size}<extra></extra>",
           "hovertext": [
            "A",
            "C",
            "D"
           ],
           "ids": [
            "A",
            "C",
            "D"
           ],
           "legendgroup": "Female",
           "marker": {
            "color": "#636efa",
            "size": [
             71.2270589924442,
             22.855002179729965,
             37.22827665617431
            ],
            "sizemode": "area",
            "sizeref": 0.039909619401957676,
            "symbol": "circle"
           },
           "mode": "markers",
           "name": "Female",
           "orientation": "v",
           "showlegend": true,
           "type": "scatter",
           "x": [
            0.0023199394181140512,
            -0.0024122001839998308,
            0.00042696083158248483
           ],
           "xaxis": "x",
           "y": [
            88,
            42,
            70
           ],
           "yaxis": "y"
          },
          {
           "hovertemplate": "<b>%{hovertext}</b><br><br>sex=Male<br>year=2002<br>percent_change=%{x}<br>rank=%{y}<br>percent=%{marker.size}<extra></extra>",
           "hovertext": [
            "B"
           ],
           "ids": [
            "B"
           ],
           "legendgroup": "Male",
           "marker": {
            "color": "#EF553B",
            "size": [
             81.6431873219384
            ],
            "sizemode": "area",
            "sizeref": 0.039909619401957676,
            "symbol": "circle"
           },
           "mode": "markers",
           "name": "Male",
           "orientation": "v",
           "showlegend": true,
           "type": "scatter",
           "x": [
            -0.0013363815670630829
           ],
           "xaxis": "x",
           "y": [
            42
           ],
           "yaxis": "y"
          }
         ],
         "name": "2002"
        },
        {
         "data": [
          {
           "hovertemplate": "<b>%{hovertext}</b><br><br>sex=Female<br>year=2003<br>percent_change=%{x}<br>rank=%{y}<br>percent=%{marker.size}<extra></extra>",
           "hovertext": [
            "A",
            "B"
           ],
           "ids": [
            "A",
            "B"
           ],
           "legendgroup": "Female",
           "marker": {
            "color": "#636efa",
            "size": [
             14.808692995339989,
             79.83451249845511
            ],
            "sizemode": "area",
            "sizeref": 0.039909619401957676,
            "symbol": "circle"
           },
           "mode": "markers",
           "name": "Female",
           "orientation": "v",
           "showlegend": true,
           "type": "scatter",
           "x": [
            0.0009865848419703662,
            -0.00043930015782964096
           ],
           "xaxis": "x",
           "y": [
            37,
            77
           ],
           "yaxis": "y"
          },
          {
           "hovertemplate": "<b>%{hovertext}</b><br><br>sex=Male<br>year=2003<br>percent_change=%{x}<br>rank=%{y}<br>percent=%{marker.size}<extra></extra>",
           "hovertext": [
            "C",
            "D"
           ],
           "ids": [
            "C",
            "D"
           ],
           "legendgroup": "Male",
           "marker": {
            "color": "#EF553B",
            "size": [
             17.49549270959362,
             94.01334424577784
            ],
            "sizemode": "area",
            "sizeref": 0.039909619401957676,
            "symbol": "circle"
           },
           "mode": "markers",
           "name": "Male",
           "orientation": "v",
           "showlegend": true,
           "type": "scatter",
           "x": [
            0.0016252228435398195,
            -0.0035907577502523737
           ],
           "xaxis": "x",
           "y": [
            45,
            72
           ],
           "yaxis": "y"
          }
         ],
         "name": "2003"
        },
        {
         "data": [
          {
           "hovertemplate": "<b>%{hovertext}</b><br><br>sex=Female<br>year=2004<br>percent_change=%{x}<br>rank=%{y}<br>percent=%{marker.size}<extra></extra>",
           "hovertext": [
            "A",
            "D"
           ],
           "ids": [
            "A",
            "D"
           ],
           "legendgroup": "Female",
           "marker": {
            "color": "#636efa",
            "size": [
             99.77404850489418,
             97.36638367553174
            ],
            "sizemode": "area",
            "sizeref": 0.039909619401957676,
            "symbol": "circle"
           },
           "mode": "markers",
           "name": "Female",
           "orientation": "v",
           "showlegend": true,
           "type": "scatter",
           "x": [
            -0.0034398135955756347,
            0.003021969807540396
           ],
           "xaxis": "x",
           "y": [
            99,
            27
           ],
           "yaxis": "y"
          },
          {
           "hovertemplate": "<b>%{hovertext}</b><br><br>sex=Male<br>year=2004<br>percent_change=%{x}<br>rank=%{y}<br>percent=%{marker.size}<extra></extra>",
           "hovertext": [
            "B",
            "C"
           ],
           "ids": [
            "B",
            "C"
           ],
           "legendgroup": "Male",
           "marker": {
            "color": "#EF553B",
            "size": [
             15.071754396542946,
             98.21683433294356
            ],
            "sizemode": "area",
            "sizeref": 0.039909619401957676,
            "symbol": "circle"
           },
           "mode": "markers",
           "name": "Male",
           "orientation": "v",
           "showlegend": true,
           "type": "scatter",
           "x": [
            0.0028517596139301356,
            -0.0018828892391058905
           ],
           "xaxis": "x",
           "y": [
            51,
            62
           ],
           "yaxis": "y"
          }
         ],
         "name": "2004"
        },
        {
         "data": [
          {
           "hovertemplate": "<b>%{hovertext}</b><br><br>sex=Female<br>year=2005<br>percent_change=%{x}<br>rank=%{y}<br>percent=%{marker.size}<extra></extra>",
           "hovertext": [
            "B",
            "D"
           ],
           "ids": [
            "B",
            "D"
           ],
           "legendgroup": "Female",
           "marker": {
            "color": "#636efa",
            "size": [
             50.81987767407187,
             28.39209747374657
            ],
            "sizemode": "area",
            "sizeref": 0.039909619401957676,
            "symbol": "circle"
           },
           "mode": "markers",
           "name": "Female",
           "orientation": "v",
           "showlegend": true,
           "type": "scatter",
           "x": [
            -0.0030032621784164028,
            -0.004254493563202292
           ],
           "xaxis": "x",
           "y": [
            63,
            9
           ],
           "yaxis": "y"
          },
          {
           "hovertemplate": "<b>%{hovertext}</b><br><br>sex=Male<br>year=2005<br>percent_change=%{x}<br>rank=%{y}<br>percent=%{marker.size}<extra></extra>",
           "hovertext": [
            "A",
            "C"
           ],
           "ids": [
            "A",
            "C"
           ],
           "legendgroup": "Male",
           "marker": {
            "color": "#EF553B",
            "size": [
             26.6781014275285,
             51.66358912710143
            ],
            "sizemode": "area",
            "sizeref": 0.039909619401957676,
            "symbol": "circle"
           },
           "mode": "markers",
           "name": "Male",
           "orientation": "v",
           "showlegend": true,
           "type": "scatter",
           "x": [
            -0.0034400547966379736,
            0.00020068021177810803
           ],
           "xaxis": "x",
           "y": [
            44,
            57
           ],
           "yaxis": "y"
          }
         ],
         "name": "2005"
        },
        {
         "data": [
          {
           "hovertemplate": "<b>%{hovertext}</b><br><br>sex=Female<br>year=2006<br>percent_change=%{x}<br>rank=%{y}<br>percent=%{marker.size}<extra></extra>",
           "hovertext": [
            "C",
            "D"
           ],
           "ids": [
            "C",
            "D"
           ],
           "legendgroup": "Female",
           "marker": {
            "color": "#636efa",
            "size": [
             26.0829174830409,
             30.536386034439346
            ],
            "sizemode": "area",
            "sizeref": 0.039909619401957676,
            "symbol": "circle"
           },
           "mode": "markers",
           "name": "Female",
           "orientation": "v",
           "showlegend": true,
           "type": "scatter",
           "x": [
            0.0004671027934327965,
            0.004868869366005173
           ],
           "xaxis": "x",
           "y": [
            6,
            62
           ],
           "yaxis": "y"
          },
          {
           "hovertemplate": "<b>%{hovertext}</b><br><br>sex=Male<br>year=2006<br>percent_change=%{x}<br>rank=%{y}<br>percent=%{marker.size}<extra></extra>",
           "hovertext": [
            "A",
            "B"
           ],
           "ids": [
            "A",
            "B"
           ],
           "legendgroup": "Male",
           "marker": {
            "color": "#EF553B",
            "size": [
             97.66149558326529,
             69.58128067908818
            ],
            "sizemode": "area",
            "sizeref": 0.039909619401957676,
            "symbol": "circle"
           },
           "mode": "markers",
           "name": "Male",
           "orientation": "v",
           "showlegend": true,
           "type": "scatter",
           "x": [
            -0.004419163878318005,
            0.00014234438413611612
           ],
           "xaxis": "x",
           "y": [
            86,
            96
           ],
           "yaxis": "y"
          }
         ],
         "name": "2006"
        },
        {
         "data": [
          {
           "hovertemplate": "<b>%{hovertext}</b><br><br>sex=Female<br>year=2007<br>percent_change=%{x}<br>rank=%{y}<br>percent=%{marker.size}<extra></extra>",
           "hovertext": [
            "A",
            "B",
            "D"
           ],
           "ids": [
            "A",
            "B",
            "D"
           ],
           "legendgroup": "Female",
           "marker": {
            "color": "#636efa",
            "size": [
             41.10370133182313,
             85.83588048137199,
             48.56137535862266
            ],
            "sizemode": "area",
            "sizeref": 0.039909619401957676,
            "symbol": "circle"
           },
           "mode": "markers",
           "name": "Female",
           "orientation": "v",
           "showlegend": true,
           "type": "scatter",
           "x": [
            0.0036617614577493527,
            0.0009241456886204249,
            0.002722447692966574
           ],
           "xaxis": "x",
           "y": [
            91,
            52,
            37
           ],
           "yaxis": "y"
          },
          {
           "hovertemplate": "<b>%{hovertext}</b><br><br>sex=Male<br>year=2007<br>percent_change=%{x}<br>rank=%{y}<br>percent=%{marker.size}<extra></extra>",
           "hovertext": [
            "C"
           ],
           "ids": [
            "C"
           ],
           "legendgroup": "Male",
           "marker": {
            "color": "#EF553B",
            "size": [
             99.62536997579244
            ],
            "sizemode": "area",
            "sizeref": 0.039909619401957676,
            "symbol": "circle"
           },
           "mode": "markers",
           "name": "Male",
           "orientation": "v",
           "showlegend": true,
           "type": "scatter",
           "x": [
            -0.00315145544474473
           ],
           "xaxis": "x",
           "y": [
            28
           ],
           "yaxis": "y"
          }
         ],
         "name": "2007"
        },
        {
         "data": [
          {
           "hovertemplate": "<b>%{hovertext}</b><br><br>sex=Female<br>year=2008<br>percent_change=%{x}<br>rank=%{y}<br>percent=%{marker.size}<extra></extra>",
           "hovertext": [
            "A",
            "C",
            "D"
           ],
           "ids": [
            "A",
            "C",
            "D"
           ],
           "legendgroup": "Female",
           "marker": {
            "color": "#636efa",
            "size": [
             3.3050732900548385,
             96.54193512887936,
             44.84241429862473
            ],
            "sizemode": "area",
            "sizeref": 0.039909619401957676,
            "symbol": "circle"
           },
           "mode": "markers",
           "name": "Female",
           "orientation": "v",
           "showlegend": true,
           "type": "scatter",
           "x": [
            0.001011150117432088,
            0.004695846277645586,
            -0.003012843184658276
           ],
           "xaxis": "x",
           "y": [
            35,
            28,
            97
           ],
           "yaxis": "y"
          },
          {
           "hovertemplate": "<b>%{hovertext}</b><br><br>sex=Male<br>year=2008<br>percent_change=%{x}<br>rank=%{y}<br>percent=%{marker.size}<extra></extra>",
           "hovertext": [
            "B"
           ],
           "ids": [
            "B"
           ],
           "legendgroup": "Male",
           "marker": {
            "color": "#EF553B",
            "size": [
             32.595890520188476
            ],
            "sizemode": "area",
            "sizeref": 0.039909619401957676,
            "symbol": "circle"
           },
           "mode": "markers",
           "name": "Male",
           "orientation": "v",
           "showlegend": true,
           "type": "scatter",
           "x": [
            -0.004535495872800023
           ],
           "xaxis": "x",
           "y": [
            96
           ],
           "yaxis": "y"
          }
         ],
         "name": "2008"
        },
        {
         "data": [
          {
           "hovertemplate": "<b>%{hovertext}</b><br><br>sex=Female<br>year=2009<br>percent_change=%{x}<br>rank=%{y}<br>percent=%{marker.size}<extra></extra>",
           "hovertext": [
            "B"
           ],
           "ids": [
            "B"
           ],
           "legendgroup": "Female",
           "marker": {
            "color": "#636efa",
            "size": [
             22.02410475655483
            ],
            "sizemode": "area",
            "sizeref": 0.039909619401957676,
            "symbol": "circle"
           },
           "mode": "markers",
           "name": "Female",
           "orientation": "v",
           "showlegend": true,
           "type": "scatter",
           "x": [
            0.001075448519014384
           ],
           "xaxis": "x",
           "y": [
            4
           ],
           "yaxis": "y"
          },
          {
           "hovertemplate": "<b>%{hovertext}</b><br><br>sex=Male<br>year=2009<br>percent_change=%{x}<br>rank=%{y}<br>percent=%{marker.size}<extra></extra>",
           "hovertext": [
            "A",
            "C",
            "D"
           ],
           "ids": [
            "A",
            "C",
            "D"
           ],
           "legendgroup": "Male",
           "marker": {
            "color": "#EF553B",
            "size": [
             34.5071248026683,
             55.82934536070976,
             99.44574626108206
            ],
            "sizemode": "area",
            "sizeref": 0.039909619401957676,
            "symbol": "circle"
           },
           "mode": "markers",
           "name": "Male",
           "orientation": "v",
           "showlegend": true,
           "type": "scatter",
           "x": [
            0.002080725777960455,
            0.002751328233611146,
            -0.004944778828763976
           ],
           "xaxis": "x",
           "y": [
            65,
            44,
            51
           ],
           "yaxis": "y"
          }
         ],
         "name": "2009"
        },
        {
         "data": [
          {
           "hovertemplate": "<b>%{hovertext}</b><br><br>sex=Female<br>year=2010<br>percent_change=%{x}<br>rank=%{y}<br>percent=%{marker.size}<extra></extra>",
           "hovertext": [
            "B",
            "D"
           ],
           "ids": [
            "B",
            "D"
           ],
           "legendgroup": "Female",
           "marker": {
            "color": "#636efa",
            "size": [
             71.11495324380178,
             17.592525267734537
            ],
            "sizemode": "area",
            "sizeref": 0.039909619401957676,
            "symbol": "circle"
           },
           "mode": "markers",
           "name": "Female",
           "orientation": "v",
           "showlegend": true,
           "type": "scatter",
           "x": [
            -0.003294758763127085,
            0.0031546142845483424
           ],
           "xaxis": "x",
           "y": [
            94,
            44
           ],
           "yaxis": "y"
          },
          {
           "hovertemplate": "<b>%{hovertext}</b><br><br>sex=Male<br>year=2010<br>percent_change=%{x}<br>rank=%{y}<br>percent=%{marker.size}<extra></extra>",
           "hovertext": [
            "A",
            "C"
           ],
           "ids": [
            "A",
            "C"
           ],
           "legendgroup": "Male",
           "marker": {
            "color": "#EF553B",
            "size": [
             63.435134470136376,
             88.26363431893397
            ],
            "sizemode": "area",
            "sizeref": 0.039909619401957676,
            "symbol": "circle"
           },
           "mode": "markers",
           "name": "Male",
           "orientation": "v",
           "showlegend": true,
           "type": "scatter",
           "x": [
            -0.004794155057041976,
            0.004394989415641892
           ],
           "xaxis": "x",
           "y": [
            99,
            84
           ],
           "yaxis": "y"
          }
         ],
         "name": "2010"
        },
        {
         "data": [
          {
           "hovertemplate": "<b>%{hovertext}</b><br><br>sex=Female<br>year=2011<br>percent_change=%{x}<br>rank=%{y}<br>percent=%{marker.size}<extra></extra>",
           "hovertext": [
            "A",
            "B"
           ],
           "ids": [
            "A",
            "B"
           ],
           "legendgroup": "Female",
           "marker": {
            "color": "#636efa",
            "size": [
             68.07054515547668,
             80.95010461397155
            ],
            "sizemode": "area",
            "sizeref": 0.039909619401957676,
            "symbol": "circle"
           },
           "mode": "markers",
           "name": "Female",
           "orientation": "v",
           "showlegend": true,
           "type": "scatter",
           "x": [
            0.004699098521619943,
            -0.004349484070147205
           ],
           "xaxis": "x",
           "y": [
            47,
            23
           ],
           "yaxis": "y"
          },
          {
           "hovertemplate": "<b>%{hovertext}</b><br><br>sex=Male<br>year=2011<br>percent_change=%{x}<br>rank=%{y}<br>percent=%{marker.size}<extra></extra>",
           "hovertext": [
            "C",
            "D"
           ],
           "ids": [
            "C",
            "D"
           ],
           "legendgroup": "Male",
           "marker": {
            "color": "#EF553B",
            "size": [
             18.870710834137938,
             1.8075363615520867
            ],
            "sizemode": "area",
            "sizeref": 0.039909619401957676,
            "symbol": "circle"
           },
           "mode": "markers",
           "name": "Male",
           "orientation": "v",
           "showlegend": true,
           "type": "scatter",
           "x": [
            0.003948273504276488,
            0.002068573438476171
           ],
           "xaxis": "x",
           "y": [
            30,
            24
           ],
           "yaxis": "y"
          }
         ],
         "name": "2011"
        },
        {
         "data": [
          {
           "hovertemplate": "<b>%{hovertext}</b><br><br>sex=Female<br>year=2012<br>percent_change=%{x}<br>rank=%{y}<br>percent=%{marker.size}<extra></extra>",
           "hovertext": [
            "C",
            "D"
           ],
           "ids": [
            "C",
            "D"
           ],
           "legendgroup": "Female",
           "marker": {
            "color": "#636efa",
            "size": [
             27.887135259218187,
             49.38937151834346
            ],
            "sizemode": "area",
            "sizeref": 0.039909619401957676,
            "symbol": "circle"
           },
           "mode": "markers",
           "name": "Female",
           "orientation": "v",
           "showlegend": true,
           "type": "scatter",
           "x": [
            0.0009789997881108512,
            0.002290071680409873
           ],
           "xaxis": "x",
           "y": [
            62,
            79
           ],
           "yaxis": "y"
          },
          {
           "hovertemplate": "<b>%{hovertext}</b><br><br>sex=Male<br>year=2012<br>percent_change=%{x}<br>rank=%{y}<br>percent=%{marker.size}<extra></extra>",
           "hovertext": [
            "A",
            "B"
           ],
           "ids": [
            "A",
            "B"
           ],
           "legendgroup": "Male",
           "marker": {
            "color": "#EF553B",
            "size": [
             53.09345833171364,
             34.866598729172935
            ],
            "sizemode": "area",
            "sizeref": 0.039909619401957676,
            "symbol": "circle"
           },
           "mode": "markers",
           "name": "Male",
           "orientation": "v",
           "showlegend": true,
           "type": "scatter",
           "x": [
            0.003324426408004218,
            0.004488855372533333
           ],
           "xaxis": "x",
           "y": [
            78,
            15
           ],
           "yaxis": "y"
          }
         ],
         "name": "2012"
        },
        {
         "data": [
          {
           "hovertemplate": "<b>%{hovertext}</b><br><br>sex=Female<br>year=2013<br>percent_change=%{x}<br>rank=%{y}<br>percent=%{marker.size}<extra></extra>",
           "hovertext": [
            "A",
            "B"
           ],
           "ids": [
            "A",
            "B"
           ],
           "legendgroup": "Female",
           "marker": {
            "color": "#636efa",
            "size": [
             44.77831645730917,
             9.617655109142076
            ],
            "sizemode": "area",
            "sizeref": 0.039909619401957676,
            "symbol": "circle"
           },
           "mode": "markers",
           "name": "Female",
           "orientation": "v",
           "showlegend": true,
           "type": "scatter",
           "x": [
            -0.0028766088932172386,
            0.0046563203307455935
           ],
           "xaxis": "x",
           "y": [
            3,
            43
           ],
           "yaxis": "y"
          },
          {
           "hovertemplate": "<b>%{hovertext}</b><br><br>sex=Male<br>year=2013<br>percent_change=%{x}<br>rank=%{y}<br>percent=%{marker.size}<extra></extra>",
           "hovertext": [
            "C",
            "D"
           ],
           "ids": [
            "C",
            "D"
           ],
           "legendgroup": "Male",
           "marker": {
            "color": "#EF553B",
            "size": [
             70.03578299727712,
             17.882270922132882
            ],
            "sizemode": "area",
            "sizeref": 0.039909619401957676,
            "symbol": "circle"
           },
           "mode": "markers",
           "name": "Male",
           "orientation": "v",
           "showlegend": true,
           "type": "scatter",
           "x": [
            0.004218742350231169,
            0.0027127034668594577
           ],
           "xaxis": "x",
           "y": [
            75,
            59
           ],
           "yaxis": "y"
          }
         ],
         "name": "2013"
        },
        {
         "data": [
          {
           "hovertemplate": "<b>%{hovertext}</b><br><br>sex=Male<br>year=2014<br>percent_change=%{x}<br>rank=%{y}<br>percent=%{marker.size}<extra></extra>",
           "hovertext": [
            "A",
            "B",
            "C",
            "D"
           ],
           "ids": [
            "A",
            "B",
            "C",
            "D"
           ],
           "legendgroup": "Male",
           "marker": {
            "color": "#EF553B",
            "size": [
             55.28930890713279,
             94.0523264489604,
             84.66611422383059,
             36.64687845828599
            ],
            "sizemode": "area",
            "sizeref": 0.039909619401957676,
            "symbol": "circle"
           },
           "mode": "markers",
           "name": "Male",
           "orientation": "v",
           "showlegend": true,
           "type": "scatter",
           "x": [
            -0.003181750327928994,
            0.003083973481164611,
            -0.004115074979480805,
            -0.004259553482659097
           ],
           "xaxis": "x",
           "y": [
            1,
            29,
            92,
            32
           ],
           "yaxis": "y"
          }
         ],
         "name": "2014"
        },
        {
         "data": [
          {
           "hovertemplate": "<b>%{hovertext}</b><br><br>sex=Female<br>year=2015<br>percent_change=%{x}<br>rank=%{y}<br>percent=%{marker.size}<extra></extra>",
           "hovertext": [
            "A",
            "B",
            "C",
            "D"
           ],
           "ids": [
            "A",
            "B",
            "C",
            "D"
           ],
           "legendgroup": "Female",
           "marker": {
            "color": "#636efa",
            "size": [
             59.26967238793935,
             39.75720210875223,
             85.63242918780925,
             74.41705230565623
            ],
            "sizemode": "area",
            "sizeref": 0.039909619401957676,
            "symbol": "circle"
           },
           "mode": "markers",
           "name": "Female",
           "orientation": "v",
           "showlegend": true,
           "type": "scatter",
           "x": [
            -0.003165954901465662,
            -0.0019538623082662934,
            -0.0030401713758085483,
            -0.001415342714557274
           ],
           "xaxis": "x",
           "y": [
            5,
            36,
            89,
            96
           ],
           "yaxis": "y"
          }
         ],
         "name": "2015"
        },
        {
         "data": [
          {
           "hovertemplate": "<b>%{hovertext}</b><br><br>sex=Female<br>year=2016<br>percent_change=%{x}<br>rank=%{y}<br>percent=%{marker.size}<extra></extra>",
           "hovertext": [
            "D"
           ],
           "ids": [
            "D"
           ],
           "legendgroup": "Female",
           "marker": {
            "color": "#636efa",
            "size": [
             72.09399242521293
            ],
            "sizemode": "area",
            "sizeref": 0.039909619401957676,
            "symbol": "circle"
           },
           "mode": "markers",
           "name": "Female",
           "orientation": "v",
           "showlegend": true,
           "type": "scatter",
           "x": [
            -0.0038413094047487027
           ],
           "xaxis": "x",
           "y": [
            88
           ],
           "yaxis": "y"
          },
          {
           "hovertemplate": "<b>%{hovertext}</b><br><br>sex=Male<br>year=2016<br>percent_change=%{x}<br>rank=%{y}<br>percent=%{marker.size}<extra></extra>",
           "hovertext": [
            "A",
            "B",
            "C"
           ],
           "ids": [
            "A",
            "B",
            "C"
           ],
           "legendgroup": "Male",
           "marker": {
            "color": "#EF553B",
            "size": [
             8.085332633271525,
             51.77513505274801,
             40.45081271221901
            ],
            "sizemode": "area",
            "sizeref": 0.039909619401957676,
            "symbol": "circle"
           },
           "mode": "markers",
           "name": "Male",
           "orientation": "v",
           "showlegend": true,
           "type": "scatter",
           "x": [
            -0.0019575775704046227,
            -0.004023278859936161,
            -0.0045477271108946195
           ],
           "xaxis": "x",
           "y": [
            90,
            13,
            62
           ],
           "yaxis": "y"
          }
         ],
         "name": "2016"
        },
        {
         "data": [
          {
           "hovertemplate": "<b>%{hovertext}</b><br><br>sex=Female<br>year=2017<br>percent_change=%{x}<br>rank=%{y}<br>percent=%{marker.size}<extra></extra>",
           "hovertext": [
            "A",
            "B",
            "C",
            "D"
           ],
           "ids": [
            "A",
            "B",
            "C",
            "D"
           ],
           "legendgroup": "Female",
           "marker": {
            "color": "#636efa",
            "size": [
             36.96544560614045,
             83.7710105907328,
             88.77700987609597,
             30.80607918523892
            ],
            "sizemode": "area",
            "sizeref": 0.039909619401957676,
            "symbol": "circle"
           },
           "mode": "markers",
           "name": "Female",
           "orientation": "v",
           "showlegend": true,
           "type": "scatter",
           "x": [
            0.0002475643163223785,
            0.0018423302651215693,
            -0.0017466966923673564,
            0.003631034258755936
           ],
           "xaxis": "x",
           "y": [
            14,
            32,
            97,
            52
           ],
           "yaxis": "y"
          }
         ],
         "name": "2017"
        },
        {
         "data": [
          {
           "hovertemplate": "<b>%{hovertext}</b><br><br>sex=Female<br>year=2018<br>percent_change=%{x}<br>rank=%{y}<br>percent=%{marker.size}<extra></extra>",
           "hovertext": [
            "C"
           ],
           "ids": [
            "C"
           ],
           "legendgroup": "Female",
           "marker": {
            "color": "#636efa",
            "size": [
             85.09284487675127
            ],
            "sizemode": "area",
            "sizeref": 0.039909619401957676,
            "symbol": "circle"
           },
           "mode": "markers",
           "name": "Female",
           "orientation": "v",
           "showlegend": true,
           "type": "scatter",
           "x": [
            -0.0011132271031051798
           ],
           "xaxis": "x",
           "y": [
            1
           ],
           "yaxis": "y"
          },
          {
           "hovertemplate": "<b>%{hovertext}</b><br><br>sex=Male<br>year=2018<br>percent_change=%{x}<br>rank=%{y}<br>percent=%{marker.size}<extra></extra>",
           "hovertext": [
            "A",
            "B",
            "D"
           ],
           "ids": [
            "A",
            "B",
            "D"
           ],
           "legendgroup": "Male",
           "marker": {
            "color": "#EF553B",
            "size": [
             24.215993827742587,
             67.56901170392807,
             54.25402305548993
            ],
            "sizemode": "area",
            "sizeref": 0.039909619401957676,
            "symbol": "circle"
           },
           "mode": "markers",
           "name": "Male",
           "orientation": "v",
           "showlegend": true,
           "type": "scatter",
           "x": [
            -0.0006805498135788422,
            -0.0005984750626039873,
            0.001232981268275579
           ],
           "xaxis": "x",
           "y": [
            27,
            71,
            62
           ],
           "yaxis": "y"
          }
         ],
         "name": "2018"
        },
        {
         "data": [
          {
           "hovertemplate": "<b>%{hovertext}</b><br><br>sex=Female<br>year=2019<br>percent_change=%{x}<br>rank=%{y}<br>percent=%{marker.size}<extra></extra>",
           "hovertext": [
            "D"
           ],
           "ids": [
            "D"
           ],
           "legendgroup": "Female",
           "marker": {
            "color": "#636efa",
            "size": [
             50.881407683876
            ],
            "sizemode": "area",
            "sizeref": 0.039909619401957676,
            "symbol": "circle"
           },
           "mode": "markers",
           "name": "Female",
           "orientation": "v",
           "showlegend": true,
           "type": "scatter",
           "x": [
            -0.0016910197514735082
           ],
           "xaxis": "x",
           "y": [
            58
           ],
           "yaxis": "y"
          },
          {
           "hovertemplate": "<b>%{hovertext}</b><br><br>sex=Male<br>year=2019<br>percent_change=%{x}<br>rank=%{y}<br>percent=%{marker.size}<extra></extra>",
           "hovertext": [
            "A",
            "B",
            "C"
           ],
           "ids": [
            "A",
            "B",
            "C"
           ],
           "legendgroup": "Male",
           "marker": {
            "color": "#EF553B",
            "size": [
             80.31397563798959,
             73.5216119240772,
             93.56349942209475
            ],
            "sizemode": "area",
            "sizeref": 0.039909619401957676,
            "symbol": "circle"
           },
           "mode": "markers",
           "name": "Male",
           "orientation": "v",
           "showlegend": true,
           "type": "scatter",
           "x": [
            -0.002087708598019581,
            -0.003779617651552212,
            -0.002286509682261041
           ],
           "xaxis": "x",
           "y": [
            9,
            59,
            27
           ],
           "yaxis": "y"
          }
         ],
         "name": "2019"
        },
        {
         "data": [
          {
           "hovertemplate": "<b>%{hovertext}</b><br><br>sex=Female<br>year=2020<br>percent_change=%{x}<br>rank=%{y}<br>percent=%{marker.size}<extra></extra>",
           "hovertext": [
            "A",
            "B",
            "C"
           ],
           "ids": [
            "A",
            "B",
            "C"
           ],
           "legendgroup": "Female",
           "marker": {
            "color": "#636efa",
            "size": [
             47.03006344460384,
             20.907162073771367,
             78.53406511139436
            ],
            "sizemode": "area",
            "sizeref": 0.039909619401957676,
            "symbol": "circle"
           },
           "mode": "markers",
           "name": "Female",
           "orientation": "v",
           "showlegend": true,
           "type": "scatter",
           "x": [
            0.0011185289472237948,
            -4.823089888729773e-05,
            0.0032873750915192934
           ],
           "xaxis": "x",
           "y": [
            79,
            86,
            62
           ],
           "yaxis": "y"
          },
          {
           "hovertemplate": "<b>%{hovertext}</b><br><br>sex=Male<br>year=2020<br>percent_change=%{x}<br>rank=%{y}<br>percent=%{marker.size}<extra></extra>",
           "hovertext": [
            "D"
           ],
           "ids": [
            "D"
           ],
           "legendgroup": "Male",
           "marker": {
            "color": "#EF553B",
            "size": [
             63.63326181858954
            ],
            "sizemode": "area",
            "sizeref": 0.039909619401957676,
            "symbol": "circle"
           },
           "mode": "markers",
           "name": "Male",
           "orientation": "v",
           "showlegend": true,
           "type": "scatter",
           "x": [
            -0.004364416497139764
           ],
           "xaxis": "x",
           "y": [
            52
           ],
           "yaxis": "y"
          }
         ],
         "name": "2020"
        }
       ],
       "layout": {
        "legend": {
         "itemsizing": "constant",
         "title": {
          "text": "sex"
         },
         "tracegroupgap": 0
        },
        "margin": {
         "t": 60
        },
        "sliders": [
         {
          "active": 0,
          "currentvalue": {
           "prefix": "year="
          },
          "len": 0.9,
          "pad": {
           "b": 10,
           "t": 60
          },
          "steps": [
           {
            "args": [
             [
              "2000"
             ],
             {
              "frame": {
               "duration": 0,
               "redraw": false
              },
              "fromcurrent": true,
              "mode": "immediate",
              "transition": {
               "duration": 0,
               "easing": "linear"
              }
             }
            ],
            "label": "2000",
            "method": "animate"
           },
           {
            "args": [
             [
              "2001"
             ],
             {
              "frame": {
               "duration": 0,
               "redraw": false
              },
              "fromcurrent": true,
              "mode": "immediate",
              "transition": {
               "duration": 0,
               "easing": "linear"
              }
             }
            ],
            "label": "2001",
            "method": "animate"
           },
           {
            "args": [
             [
              "2002"
             ],
             {
              "frame": {
               "duration": 0,
               "redraw": false
              },
              "fromcurrent": true,
              "mode": "immediate",
              "transition": {
               "duration": 0,
               "easing": "linear"
              }
             }
            ],
            "label": "2002",
            "method": "animate"
           },
           {
            "args": [
             [
              "2003"
             ],
             {
              "frame": {
               "duration": 0,
               "redraw": false
              },
              "fromcurrent": true,
              "mode": "immediate",
              "transition": {
               "duration": 0,
               "easing": "linear"
              }
             }
            ],
            "label": "2003",
            "method": "animate"
           },
           {
            "args": [
             [
              "2004"
             ],
             {
              "frame": {
               "duration": 0,
               "redraw": false
              },
              "fromcurrent": true,
              "mode": "immediate",
              "transition": {
               "duration": 0,
               "easing": "linear"
              }
             }
            ],
            "label": "2004",
            "method": "animate"
           },
           {
            "args": [
             [
              "2005"
             ],
             {
              "frame": {
               "duration": 0,
               "redraw": false
              },
              "fromcurrent": true,
              "mode": "immediate",
              "transition": {
               "duration": 0,
               "easing": "linear"
              }
             }
            ],
            "label": "2005",
            "method": "animate"
           },
           {
            "args": [
             [
              "2006"
             ],
             {
              "frame": {
               "duration": 0,
               "redraw": false
              },
              "fromcurrent": true,
              "mode": "immediate",
              "transition": {
               "duration": 0,
               "easing": "linear"
              }
             }
            ],
            "label": "2006",
            "method": "animate"
           },
           {
            "args": [
             [
              "2007"
             ],
             {
              "frame": {
               "duration": 0,
               "redraw": false
              },
              "fromcurrent": true,
              "mode": "immediate",
              "transition": {
               "duration": 0,
               "easing": "linear"
              }
             }
            ],
            "label": "2007",
            "method": "animate"
           },
           {
            "args": [
             [
              "2008"
             ],
             {
              "frame": {
               "duration": 0,
               "redraw": false
              },
              "fromcurrent": true,
              "mode": "immediate",
              "transition": {
               "duration": 0,
               "easing": "linear"
              }
             }
            ],
            "label": "2008",
            "method": "animate"
           },
           {
            "args": [
             [
              "2009"
             ],
             {
              "frame": {
               "duration": 0,
               "redraw": false
              },
              "fromcurrent": true,
              "mode": "immediate",
              "transition": {
               "duration": 0,
               "easing": "linear"
              }
             }
            ],
            "label": "2009",
            "method": "animate"
           },
           {
            "args": [
             [
              "2010"
             ],
             {
              "frame": {
               "duration": 0,
               "redraw": false
              },
              "fromcurrent": true,
              "mode": "immediate",
              "transition": {
               "duration": 0,
               "easing": "linear"
              }
             }
            ],
            "label": "2010",
            "method": "animate"
           },
           {
            "args": [
             [
              "2011"
             ],
             {
              "frame": {
               "duration": 0,
               "redraw": false
              },
              "fromcurrent": true,
              "mode": "immediate",
              "transition": {
               "duration": 0,
               "easing": "linear"
              }
             }
            ],
            "label": "2011",
            "method": "animate"
           },
           {
            "args": [
             [
              "2012"
             ],
             {
              "frame": {
               "duration": 0,
               "redraw": false
              },
              "fromcurrent": true,
              "mode": "immediate",
              "transition": {
               "duration": 0,
               "easing": "linear"
              }
             }
            ],
            "label": "2012",
            "method": "animate"
           },
           {
            "args": [
             [
              "2013"
             ],
             {
              "frame": {
               "duration": 0,
               "redraw": false
              },
              "fromcurrent": true,
              "mode": "immediate",
              "transition": {
               "duration": 0,
               "easing": "linear"
              }
             }
            ],
            "label": "2013",
            "method": "animate"
           },
           {
            "args": [
             [
              "2014"
             ],
             {
              "frame": {
               "duration": 0,
               "redraw": false
              },
              "fromcurrent": true,
              "mode": "immediate",
              "transition": {
               "duration": 0,
               "easing": "linear"
              }
             }
            ],
            "label": "2014",
            "method": "animate"
           },
           {
            "args": [
             [
              "2015"
             ],
             {
              "frame": {
               "duration": 0,
               "redraw": false
              },
              "fromcurrent": true,
              "mode": "immediate",
              "transition": {
               "duration": 0,
               "easing": "linear"
              }
             }
            ],
            "label": "2015",
            "method": "animate"
           },
           {
            "args": [
             [
              "2016"
             ],
             {
              "frame": {
               "duration": 0,
               "redraw": false
              },
              "fromcurrent": true,
              "mode": "immediate",
              "transition": {
               "duration": 0,
               "easing": "linear"
              }
             }
            ],
            "label": "2016",
            "method": "animate"
           },
           {
            "args": [
             [
              "2017"
             ],
             {
              "frame": {
               "duration": 0,
               "redraw": false
              },
              "fromcurrent": true,
              "mode": "immediate",
              "transition": {
               "duration": 0,
               "easing": "linear"
              }
             }
            ],
            "label": "2017",
            "method": "animate"
           },
           {
            "args": [
             [
              "2018"
             ],
             {
              "frame": {
               "duration": 0,
               "redraw": false
              },
              "fromcurrent": true,
              "mode": "immediate",
              "transition": {
               "duration": 0,
               "easing": "linear"
              }
             }
            ],
            "label": "2018",
            "method": "animate"
           },
           {
            "args": [
             [
              "2019"
             ],
             {
              "frame": {
               "duration": 0,
               "redraw": false
              },
              "fromcurrent": true,
              "mode": "immediate",
              "transition": {
               "duration": 0,
               "easing": "linear"
              }
             }
            ],
            "label": "2019",
            "method": "animate"
           },
           {
            "args": [
             [
              "2020"
             ],
             {
              "frame": {
               "duration": 0,
               "redraw": false
              },
              "fromcurrent": true,
              "mode": "immediate",
              "transition": {
               "duration": 0,
               "easing": "linear"
              }
             }
            ],
            "label": "2020",
            "method": "animate"
           }
          ],
          "x": 0.1,
          "xanchor": "left",
          "y": 0,
          "yanchor": "top"
         }
        ],
        "template": {
         "data": {
          "bar": [
           {
            "error_x": {
             "color": "#2a3f5f"
            },
            "error_y": {
             "color": "#2a3f5f"
            },
            "marker": {
             "line": {
              "color": "#E5ECF6",
              "width": 0.5
             },
             "pattern": {
              "fillmode": "overlay",
              "size": 10,
              "solidity": 0.2
             }
            },
            "type": "bar"
           }
          ],
          "barpolar": [
           {
            "marker": {
             "line": {
              "color": "#E5ECF6",
              "width": 0.5
             },
             "pattern": {
              "fillmode": "overlay",
              "size": 10,
              "solidity": 0.2
             }
            },
            "type": "barpolar"
           }
          ],
          "carpet": [
           {
            "aaxis": {
             "endlinecolor": "#2a3f5f",
             "gridcolor": "white",
             "linecolor": "white",
             "minorgridcolor": "white",
             "startlinecolor": "#2a3f5f"
            },
            "baxis": {
             "endlinecolor": "#2a3f5f",
             "gridcolor": "white",
             "linecolor": "white",
             "minorgridcolor": "white",
             "startlinecolor": "#2a3f5f"
            },
            "type": "carpet"
           }
          ],
          "choropleth": [
           {
            "colorbar": {
             "outlinewidth": 0,
             "ticks": ""
            },
            "type": "choropleth"
           }
          ],
          "contour": [
           {
            "colorbar": {
             "outlinewidth": 0,
             "ticks": ""
            },
            "colorscale": [
             [
              0,
              "#0d0887"
             ],
             [
              0.1111111111111111,
              "#46039f"
             ],
             [
              0.2222222222222222,
              "#7201a8"
             ],
             [
              0.3333333333333333,
              "#9c179e"
             ],
             [
              0.4444444444444444,
              "#bd3786"
             ],
             [
              0.5555555555555556,
              "#d8576b"
             ],
             [
              0.6666666666666666,
              "#ed7953"
             ],
             [
              0.7777777777777778,
              "#fb9f3a"
             ],
             [
              0.8888888888888888,
              "#fdca26"
             ],
             [
              1,
              "#f0f921"
             ]
            ],
            "type": "contour"
           }
          ],
          "contourcarpet": [
           {
            "colorbar": {
             "outlinewidth": 0,
             "ticks": ""
            },
            "type": "contourcarpet"
           }
          ],
          "heatmap": [
           {
            "colorbar": {
             "outlinewidth": 0,
             "ticks": ""
            },
            "colorscale": [
             [
              0,
              "#0d0887"
             ],
             [
              0.1111111111111111,
              "#46039f"
             ],
             [
              0.2222222222222222,
              "#7201a8"
             ],
             [
              0.3333333333333333,
              "#9c179e"
             ],
             [
              0.4444444444444444,
              "#bd3786"
             ],
             [
              0.5555555555555556,
              "#d8576b"
             ],
             [
              0.6666666666666666,
              "#ed7953"
             ],
             [
              0.7777777777777778,
              "#fb9f3a"
             ],
             [
              0.8888888888888888,
              "#fdca26"
             ],
             [
              1,
              "#f0f921"
             ]
            ],
            "type": "heatmap"
           }
          ],
          "heatmapgl": [
           {
            "colorbar": {
             "outlinewidth": 0,
             "ticks": ""
            },
            "colorscale": [
             [
              0,
              "#0d0887"
             ],
             [
              0.1111111111111111,
              "#46039f"
             ],
             [
              0.2222222222222222,
              "#7201a8"
             ],
             [
              0.3333333333333333,
              "#9c179e"
             ],
             [
              0.4444444444444444,
              "#bd3786"
             ],
             [
              0.5555555555555556,
              "#d8576b"
             ],
             [
              0.6666666666666666,
              "#ed7953"
             ],
             [
              0.7777777777777778,
              "#fb9f3a"
             ],
             [
              0.8888888888888888,
              "#fdca26"
             ],
             [
              1,
              "#f0f921"
             ]
            ],
            "type": "heatmapgl"
           }
          ],
          "histogram": [
           {
            "marker": {
             "pattern": {
              "fillmode": "overlay",
              "size": 10,
              "solidity": 0.2
             }
            },
            "type": "histogram"
           }
          ],
          "histogram2d": [
           {
            "colorbar": {
             "outlinewidth": 0,
             "ticks": ""
            },
            "colorscale": [
             [
              0,
              "#0d0887"
             ],
             [
              0.1111111111111111,
              "#46039f"
             ],
             [
              0.2222222222222222,
              "#7201a8"
             ],
             [
              0.3333333333333333,
              "#9c179e"
             ],
             [
              0.4444444444444444,
              "#bd3786"
             ],
             [
              0.5555555555555556,
              "#d8576b"
             ],
             [
              0.6666666666666666,
              "#ed7953"
             ],
             [
              0.7777777777777778,
              "#fb9f3a"
             ],
             [
              0.8888888888888888,
              "#fdca26"
             ],
             [
              1,
              "#f0f921"
             ]
            ],
            "type": "histogram2d"
           }
          ],
          "histogram2dcontour": [
           {
            "colorbar": {
             "outlinewidth": 0,
             "ticks": ""
            },
            "colorscale": [
             [
              0,
              "#0d0887"
             ],
             [
              0.1111111111111111,
              "#46039f"
             ],
             [
              0.2222222222222222,
              "#7201a8"
             ],
             [
              0.3333333333333333,
              "#9c179e"
             ],
             [
              0.4444444444444444,
              "#bd3786"
             ],
             [
              0.5555555555555556,
              "#d8576b"
             ],
             [
              0.6666666666666666,
              "#ed7953"
             ],
             [
              0.7777777777777778,
              "#fb9f3a"
             ],
             [
              0.8888888888888888,
              "#fdca26"
             ],
             [
              1,
              "#f0f921"
             ]
            ],
            "type": "histogram2dcontour"
           }
          ],
          "mesh3d": [
           {
            "colorbar": {
             "outlinewidth": 0,
             "ticks": ""
            },
            "type": "mesh3d"
           }
          ],
          "parcoords": [
           {
            "line": {
             "colorbar": {
              "outlinewidth": 0,
              "ticks": ""
             }
            },
            "type": "parcoords"
           }
          ],
          "pie": [
           {
            "automargin": true,
            "type": "pie"
           }
          ],
          "scatter": [
           {
            "fillpattern": {
             "fillmode": "overlay",
             "size": 10,
             "solidity": 0.2
            },
            "type": "scatter"
           }
          ],
          "scatter3d": [
           {
            "line": {
             "colorbar": {
              "outlinewidth": 0,
              "ticks": ""
             }
            },
            "marker": {
             "colorbar": {
              "outlinewidth": 0,
              "ticks": ""
             }
            },
            "type": "scatter3d"
           }
          ],
          "scattercarpet": [
           {
            "marker": {
             "colorbar": {
              "outlinewidth": 0,
              "ticks": ""
             }
            },
            "type": "scattercarpet"
           }
          ],
          "scattergeo": [
           {
            "marker": {
             "colorbar": {
              "outlinewidth": 0,
              "ticks": ""
             }
            },
            "type": "scattergeo"
           }
          ],
          "scattergl": [
           {
            "marker": {
             "colorbar": {
              "outlinewidth": 0,
              "ticks": ""
             }
            },
            "type": "scattergl"
           }
          ],
          "scattermapbox": [
           {
            "marker": {
             "colorbar": {
              "outlinewidth": 0,
              "ticks": ""
             }
            },
            "type": "scattermapbox"
           }
          ],
          "scatterpolar": [
           {
            "marker": {
             "colorbar": {
              "outlinewidth": 0,
              "ticks": ""
             }
            },
            "type": "scatterpolar"
           }
          ],
          "scatterpolargl": [
           {
            "marker": {
             "colorbar": {
              "outlinewidth": 0,
              "ticks": ""
             }
            },
            "type": "scatterpolargl"
           }
          ],
          "scatterternary": [
           {
            "marker": {
             "colorbar": {
              "outlinewidth": 0,
              "ticks": ""
             }
            },
            "type": "scatterternary"
           }
          ],
          "surface": [
           {
            "colorbar": {
             "outlinewidth": 0,
             "ticks": ""
            },
            "colorscale": [
             [
              0,
              "#0d0887"
             ],
             [
              0.1111111111111111,
              "#46039f"
             ],
             [
              0.2222222222222222,
              "#7201a8"
             ],
             [
              0.3333333333333333,
              "#9c179e"
             ],
             [
              0.4444444444444444,
              "#bd3786"
             ],
             [
              0.5555555555555556,
              "#d8576b"
             ],
             [
              0.6666666666666666,
              "#ed7953"
             ],
             [
              0.7777777777777778,
              "#fb9f3a"
             ],
             [
              0.8888888888888888,
              "#fdca26"
             ],
             [
              1,
              "#f0f921"
             ]
            ],
            "type": "surface"
           }
          ],
          "table": [
           {
            "cells": {
             "fill": {
              "color": "#EBF0F8"
             },
             "line": {
              "color": "white"
             }
            },
            "header": {
             "fill": {
              "color": "#C8D4E3"
             },
             "line": {
              "color": "white"
             }
            },
            "type": "table"
           }
          ]
         },
         "layout": {
          "annotationdefaults": {
           "arrowcolor": "#2a3f5f",
           "arrowhead": 0,
           "arrowwidth": 1
          },
          "autotypenumbers": "strict",
          "coloraxis": {
           "colorbar": {
            "outlinewidth": 0,
            "ticks": ""
           }
          },
          "colorscale": {
           "diverging": [
            [
             0,
             "#8e0152"
            ],
            [
             0.1,
             "#c51b7d"
            ],
            [
             0.2,
             "#de77ae"
            ],
            [
             0.3,
             "#f1b6da"
            ],
            [
             0.4,
             "#fde0ef"
            ],
            [
             0.5,
             "#f7f7f7"
            ],
            [
             0.6,
             "#e6f5d0"
            ],
            [
             0.7,
             "#b8e186"
            ],
            [
             0.8,
             "#7fbc41"
            ],
            [
             0.9,
             "#4d9221"
            ],
            [
             1,
             "#276419"
            ]
           ],
           "sequential": [
            [
             0,
             "#0d0887"
            ],
            [
             0.1111111111111111,
             "#46039f"
            ],
            [
             0.2222222222222222,
             "#7201a8"
            ],
            [
             0.3333333333333333,
             "#9c179e"
            ],
            [
             0.4444444444444444,
             "#bd3786"
            ],
            [
             0.5555555555555556,
             "#d8576b"
            ],
            [
             0.6666666666666666,
             "#ed7953"
            ],
            [
             0.7777777777777778,
             "#fb9f3a"
            ],
            [
             0.8888888888888888,
             "#fdca26"
            ],
            [
             1,
             "#f0f921"
            ]
           ],
           "sequentialminus": [
            [
             0,
             "#0d0887"
            ],
            [
             0.1111111111111111,
             "#46039f"
            ],
            [
             0.2222222222222222,
             "#7201a8"
            ],
            [
             0.3333333333333333,
             "#9c179e"
            ],
            [
             0.4444444444444444,
             "#bd3786"
            ],
            [
             0.5555555555555556,
             "#d8576b"
            ],
            [
             0.6666666666666666,
             "#ed7953"
            ],
            [
             0.7777777777777778,
             "#fb9f3a"
            ],
            [
             0.8888888888888888,
             "#fdca26"
            ],
            [
             1,
             "#f0f921"
            ]
           ]
          },
          "colorway": [
           "#636efa",
           "#EF553B",
           "#00cc96",
           "#ab63fa",
           "#FFA15A",
           "#19d3f3",
           "#FF6692",
           "#B6E880",
           "#FF97FF",
           "#FECB52"
          ],
          "font": {
           "color": "#2a3f5f"
          },
          "geo": {
           "bgcolor": "white",
           "lakecolor": "white",
           "landcolor": "#E5ECF6",
           "showlakes": true,
           "showland": true,
           "subunitcolor": "white"
          },
          "hoverlabel": {
           "align": "left"
          },
          "hovermode": "closest",
          "mapbox": {
           "style": "light"
          },
          "paper_bgcolor": "white",
          "plot_bgcolor": "#E5ECF6",
          "polar": {
           "angularaxis": {
            "gridcolor": "white",
            "linecolor": "white",
            "ticks": ""
           },
           "bgcolor": "#E5ECF6",
           "radialaxis": {
            "gridcolor": "white",
            "linecolor": "white",
            "ticks": ""
           }
          },
          "scene": {
           "xaxis": {
            "backgroundcolor": "#E5ECF6",
            "gridcolor": "white",
            "gridwidth": 2,
            "linecolor": "white",
            "showbackground": true,
            "ticks": "",
            "zerolinecolor": "white"
           },
           "yaxis": {
            "backgroundcolor": "#E5ECF6",
            "gridcolor": "white",
            "gridwidth": 2,
            "linecolor": "white",
            "showbackground": true,
            "ticks": "",
            "zerolinecolor": "white"
           },
           "zaxis": {
            "backgroundcolor": "#E5ECF6",
            "gridcolor": "white",
            "gridwidth": 2,
            "linecolor": "white",
            "showbackground": true,
            "ticks": "",
            "zerolinecolor": "white"
           }
          },
          "shapedefaults": {
           "line": {
            "color": "#2a3f5f"
           }
          },
          "ternary": {
           "aaxis": {
            "gridcolor": "white",
            "linecolor": "white",
            "ticks": ""
           },
           "baxis": {
            "gridcolor": "white",
            "linecolor": "white",
            "ticks": ""
           },
           "bgcolor": "#E5ECF6",
           "caxis": {
            "gridcolor": "white",
            "linecolor": "white",
            "ticks": ""
           }
          },
          "title": {
           "x": 0.05
          },
          "xaxis": {
           "automargin": true,
           "gridcolor": "white",
           "linecolor": "white",
           "ticks": "",
           "title": {
            "standoff": 15
           },
           "zerolinecolor": "white",
           "zerolinewidth": 2
          },
          "yaxis": {
           "automargin": true,
           "gridcolor": "white",
           "linecolor": "white",
           "ticks": "",
           "title": {
            "standoff": 15
           },
           "zerolinecolor": "white",
           "zerolinewidth": 2
          }
         }
        },
        "updatemenus": [
         {
          "buttons": [
           {
            "args": [
             null,
             {
              "frame": {
               "duration": 500,
               "redraw": false
              },
              "fromcurrent": true,
              "mode": "immediate",
              "transition": {
               "duration": 500,
               "easing": "linear"
              }
             }
            ],
            "label": "&#9654;",
            "method": "animate"
           },
           {
            "args": [
             [
              null
             ],
             {
              "frame": {
               "duration": 0,
               "redraw": false
              },
              "fromcurrent": true,
              "mode": "immediate",
              "transition": {
               "duration": 0,
               "easing": "linear"
              }
             }
            ],
            "label": "&#9724;",
            "method": "animate"
           }
          ],
          "direction": "left",
          "pad": {
           "r": 10,
           "t": 70
          },
          "showactive": false,
          "type": "buttons",
          "x": 0.1,
          "xanchor": "right",
          "y": 0,
          "yanchor": "top"
         }
        ],
        "xaxis": {
         "anchor": "y",
         "domain": [
          0,
          1
         ],
         "range": [
          -0.005,
          0.005
         ],
         "title": {
          "text": "percent_change"
         }
        },
        "yaxis": {
         "anchor": "x",
         "domain": [
          0,
          1
         ],
         "title": {
          "text": "rank"
         }
        }
       }
      },
      "text/html": [
       "<div>                            <div id=\"5b67d38e-ab2a-4e34-b1d6-28bed604155b\" class=\"plotly-graph-div\" style=\"height:525px; width:100%;\"></div>            <script type=\"text/javascript\">                require([\"plotly\"], function(Plotly) {                    window.PLOTLYENV=window.PLOTLYENV || {};                                    if (document.getElementById(\"5b67d38e-ab2a-4e34-b1d6-28bed604155b\")) {                    Plotly.newPlot(                        \"5b67d38e-ab2a-4e34-b1d6-28bed604155b\",                        [{\"hovertemplate\":\"\\u003cb\\u003e%{hovertext}\\u003c\\u002fb\\u003e\\u003cbr\\u003e\\u003cbr\\u003esex=Female\\u003cbr\\u003eyear=2000\\u003cbr\\u003epercent_change=%{x}\\u003cbr\\u003erank=%{y}\\u003cbr\\u003epercent=%{marker.size}\\u003cextra\\u003e\\u003c\\u002fextra\\u003e\",\"hovertext\":[\"A\"],\"ids\":[\"A\"],\"legendgroup\":\"Female\",\"marker\":{\"color\":\"#636efa\",\"size\":[24.68760628386012],\"sizemode\":\"area\",\"sizeref\":0.039909619401957676,\"symbol\":\"circle\"},\"mode\":\"markers\",\"name\":\"Female\",\"orientation\":\"v\",\"showlegend\":true,\"x\":[-0.0012545988115263752],\"xaxis\":\"x\",\"y\":[23],\"yaxis\":\"y\",\"type\":\"scatter\"},{\"hovertemplate\":\"\\u003cb\\u003e%{hovertext}\\u003c\\u002fb\\u003e\\u003cbr\\u003e\\u003cbr\\u003esex=Male\\u003cbr\\u003eyear=2000\\u003cbr\\u003epercent_change=%{x}\\u003cbr\\u003erank=%{y}\\u003cbr\\u003epercent=%{marker.size}\\u003cextra\\u003e\\u003c\\u002fextra\\u003e\",\"hovertext\":[\"B\",\"C\",\"D\"],\"ids\":[\"B\",\"C\",\"D\"],\"legendgroup\":\"Male\",\"marker\":{\"color\":\"#EF553B\",\"size\":[98.34231408948429,54.14479738275658,66.89882547142287],\"sizemode\":\"area\",\"sizeref\":0.039909619401957676,\"symbol\":\"circle\"},\"mode\":\"markers\",\"name\":\"Male\",\"orientation\":\"v\",\"showlegend\":true,\"x\":[-0.003605061393479582,-0.004656114788847816,-0.001432466733064107],\"xaxis\":\"x\",\"y\":[15,28,77],\"yaxis\":\"y\",\"type\":\"scatter\"}],                        {\"template\":{\"data\":{\"histogram2dcontour\":[{\"type\":\"histogram2dcontour\",\"colorbar\":{\"outlinewidth\":0,\"ticks\":\"\"},\"colorscale\":[[0.0,\"#0d0887\"],[0.1111111111111111,\"#46039f\"],[0.2222222222222222,\"#7201a8\"],[0.3333333333333333,\"#9c179e\"],[0.4444444444444444,\"#bd3786\"],[0.5555555555555556,\"#d8576b\"],[0.6666666666666666,\"#ed7953\"],[0.7777777777777778,\"#fb9f3a\"],[0.8888888888888888,\"#fdca26\"],[1.0,\"#f0f921\"]]}],\"choropleth\":[{\"type\":\"choropleth\",\"colorbar\":{\"outlinewidth\":0,\"ticks\":\"\"}}],\"histogram2d\":[{\"type\":\"histogram2d\",\"colorbar\":{\"outlinewidth\":0,\"ticks\":\"\"},\"colorscale\":[[0.0,\"#0d0887\"],[0.1111111111111111,\"#46039f\"],[0.2222222222222222,\"#7201a8\"],[0.3333333333333333,\"#9c179e\"],[0.4444444444444444,\"#bd3786\"],[0.5555555555555556,\"#d8576b\"],[0.6666666666666666,\"#ed7953\"],[0.7777777777777778,\"#fb9f3a\"],[0.8888888888888888,\"#fdca26\"],[1.0,\"#f0f921\"]]}],\"heatmap\":[{\"type\":\"heatmap\",\"colorbar\":{\"outlinewidth\":0,\"ticks\":\"\"},\"colorscale\":[[0.0,\"#0d0887\"],[0.1111111111111111,\"#46039f\"],[0.2222222222222222,\"#7201a8\"],[0.3333333333333333,\"#9c179e\"],[0.4444444444444444,\"#bd3786\"],[0.5555555555555556,\"#d8576b\"],[0.6666666666666666,\"#ed7953\"],[0.7777777777777778,\"#fb9f3a\"],[0.8888888888888888,\"#fdca26\"],[1.0,\"#f0f921\"]]}],\"heatmapgl\":[{\"type\":\"heatmapgl\",\"colorbar\":{\"outlinewidth\":0,\"ticks\":\"\"},\"colorscale\":[[0.0,\"#0d0887\"],[0.1111111111111111,\"#46039f\"],[0.2222222222222222,\"#7201a8\"],[0.3333333333333333,\"#9c179e\"],[0.4444444444444444,\"#bd3786\"],[0.5555555555555556,\"#d8576b\"],[0.6666666666666666,\"#ed7953\"],[0.7777777777777778,\"#fb9f3a\"],[0.8888888888888888,\"#fdca26\"],[1.0,\"#f0f921\"]]}],\"contourcarpet\":[{\"type\":\"contourcarpet\",\"colorbar\":{\"outlinewidth\":0,\"ticks\":\"\"}}],\"contour\":[{\"type\":\"contour\",\"colorbar\":{\"outlinewidth\":0,\"ticks\":\"\"},\"colorscale\":[[0.0,\"#0d0887\"],[0.1111111111111111,\"#46039f\"],[0.2222222222222222,\"#7201a8\"],[0.3333333333333333,\"#9c179e\"],[0.4444444444444444,\"#bd3786\"],[0.5555555555555556,\"#d8576b\"],[0.6666666666666666,\"#ed7953\"],[0.7777777777777778,\"#fb9f3a\"],[0.8888888888888888,\"#fdca26\"],[1.0,\"#f0f921\"]]}],\"surface\":[{\"type\":\"surface\",\"colorbar\":{\"outlinewidth\":0,\"ticks\":\"\"},\"colorscale\":[[0.0,\"#0d0887\"],[0.1111111111111111,\"#46039f\"],[0.2222222222222222,\"#7201a8\"],[0.3333333333333333,\"#9c179e\"],[0.4444444444444444,\"#bd3786\"],[0.5555555555555556,\"#d8576b\"],[0.6666666666666666,\"#ed7953\"],[0.7777777777777778,\"#fb9f3a\"],[0.8888888888888888,\"#fdca26\"],[1.0,\"#f0f921\"]]}],\"mesh3d\":[{\"type\":\"mesh3d\",\"colorbar\":{\"outlinewidth\":0,\"ticks\":\"\"}}],\"scatter\":[{\"fillpattern\":{\"fillmode\":\"overlay\",\"size\":10,\"solidity\":0.2},\"type\":\"scatter\"}],\"parcoords\":[{\"type\":\"parcoords\",\"line\":{\"colorbar\":{\"outlinewidth\":0,\"ticks\":\"\"}}}],\"scatterpolargl\":[{\"type\":\"scatterpolargl\",\"marker\":{\"colorbar\":{\"outlinewidth\":0,\"ticks\":\"\"}}}],\"bar\":[{\"error_x\":{\"color\":\"#2a3f5f\"},\"error_y\":{\"color\":\"#2a3f5f\"},\"marker\":{\"line\":{\"color\":\"#E5ECF6\",\"width\":0.5},\"pattern\":{\"fillmode\":\"overlay\",\"size\":10,\"solidity\":0.2}},\"type\":\"bar\"}],\"scattergeo\":[{\"type\":\"scattergeo\",\"marker\":{\"colorbar\":{\"outlinewidth\":0,\"ticks\":\"\"}}}],\"scatterpolar\":[{\"type\":\"scatterpolar\",\"marker\":{\"colorbar\":{\"outlinewidth\":0,\"ticks\":\"\"}}}],\"histogram\":[{\"marker\":{\"pattern\":{\"fillmode\":\"overlay\",\"size\":10,\"solidity\":0.2}},\"type\":\"histogram\"}],\"scattergl\":[{\"type\":\"scattergl\",\"marker\":{\"colorbar\":{\"outlinewidth\":0,\"ticks\":\"\"}}}],\"scatter3d\":[{\"type\":\"scatter3d\",\"line\":{\"colorbar\":{\"outlinewidth\":0,\"ticks\":\"\"}},\"marker\":{\"colorbar\":{\"outlinewidth\":0,\"ticks\":\"\"}}}],\"scattermapbox\":[{\"type\":\"scattermapbox\",\"marker\":{\"colorbar\":{\"outlinewidth\":0,\"ticks\":\"\"}}}],\"scatterternary\":[{\"type\":\"scatterternary\",\"marker\":{\"colorbar\":{\"outlinewidth\":0,\"ticks\":\"\"}}}],\"scattercarpet\":[{\"type\":\"scattercarpet\",\"marker\":{\"colorbar\":{\"outlinewidth\":0,\"ticks\":\"\"}}}],\"carpet\":[{\"aaxis\":{\"endlinecolor\":\"#2a3f5f\",\"gridcolor\":\"white\",\"linecolor\":\"white\",\"minorgridcolor\":\"white\",\"startlinecolor\":\"#2a3f5f\"},\"baxis\":{\"endlinecolor\":\"#2a3f5f\",\"gridcolor\":\"white\",\"linecolor\":\"white\",\"minorgridcolor\":\"white\",\"startlinecolor\":\"#2a3f5f\"},\"type\":\"carpet\"}],\"table\":[{\"cells\":{\"fill\":{\"color\":\"#EBF0F8\"},\"line\":{\"color\":\"white\"}},\"header\":{\"fill\":{\"color\":\"#C8D4E3\"},\"line\":{\"color\":\"white\"}},\"type\":\"table\"}],\"barpolar\":[{\"marker\":{\"line\":{\"color\":\"#E5ECF6\",\"width\":0.5},\"pattern\":{\"fillmode\":\"overlay\",\"size\":10,\"solidity\":0.2}},\"type\":\"barpolar\"}],\"pie\":[{\"automargin\":true,\"type\":\"pie\"}]},\"layout\":{\"autotypenumbers\":\"strict\",\"colorway\":[\"#636efa\",\"#EF553B\",\"#00cc96\",\"#ab63fa\",\"#FFA15A\",\"#19d3f3\",\"#FF6692\",\"#B6E880\",\"#FF97FF\",\"#FECB52\"],\"font\":{\"color\":\"#2a3f5f\"},\"hovermode\":\"closest\",\"hoverlabel\":{\"align\":\"left\"},\"paper_bgcolor\":\"white\",\"plot_bgcolor\":\"#E5ECF6\",\"polar\":{\"bgcolor\":\"#E5ECF6\",\"angularaxis\":{\"gridcolor\":\"white\",\"linecolor\":\"white\",\"ticks\":\"\"},\"radialaxis\":{\"gridcolor\":\"white\",\"linecolor\":\"white\",\"ticks\":\"\"}},\"ternary\":{\"bgcolor\":\"#E5ECF6\",\"aaxis\":{\"gridcolor\":\"white\",\"linecolor\":\"white\",\"ticks\":\"\"},\"baxis\":{\"gridcolor\":\"white\",\"linecolor\":\"white\",\"ticks\":\"\"},\"caxis\":{\"gridcolor\":\"white\",\"linecolor\":\"white\",\"ticks\":\"\"}},\"coloraxis\":{\"colorbar\":{\"outlinewidth\":0,\"ticks\":\"\"}},\"colorscale\":{\"sequential\":[[0.0,\"#0d0887\"],[0.1111111111111111,\"#46039f\"],[0.2222222222222222,\"#7201a8\"],[0.3333333333333333,\"#9c179e\"],[0.4444444444444444,\"#bd3786\"],[0.5555555555555556,\"#d8576b\"],[0.6666666666666666,\"#ed7953\"],[0.7777777777777778,\"#fb9f3a\"],[0.8888888888888888,\"#fdca26\"],[1.0,\"#f0f921\"]],\"sequentialminus\":[[0.0,\"#0d0887\"],[0.1111111111111111,\"#46039f\"],[0.2222222222222222,\"#7201a8\"],[0.3333333333333333,\"#9c179e\"],[0.4444444444444444,\"#bd3786\"],[0.5555555555555556,\"#d8576b\"],[0.6666666666666666,\"#ed7953\"],[0.7777777777777778,\"#fb9f3a\"],[0.8888888888888888,\"#fdca26\"],[1.0,\"#f0f921\"]],\"diverging\":[[0,\"#8e0152\"],[0.1,\"#c51b7d\"],[0.2,\"#de77ae\"],[0.3,\"#f1b6da\"],[0.4,\"#fde0ef\"],[0.5,\"#f7f7f7\"],[0.6,\"#e6f5d0\"],[0.7,\"#b8e186\"],[0.8,\"#7fbc41\"],[0.9,\"#4d9221\"],[1,\"#276419\"]]},\"xaxis\":{\"gridcolor\":\"white\",\"linecolor\":\"white\",\"ticks\":\"\",\"title\":{\"standoff\":15},\"zerolinecolor\":\"white\",\"automargin\":true,\"zerolinewidth\":2},\"yaxis\":{\"gridcolor\":\"white\",\"linecolor\":\"white\",\"ticks\":\"\",\"title\":{\"standoff\":15},\"zerolinecolor\":\"white\",\"automargin\":true,\"zerolinewidth\":2},\"scene\":{\"xaxis\":{\"backgroundcolor\":\"#E5ECF6\",\"gridcolor\":\"white\",\"linecolor\":\"white\",\"showbackground\":true,\"ticks\":\"\",\"zerolinecolor\":\"white\",\"gridwidth\":2},\"yaxis\":{\"backgroundcolor\":\"#E5ECF6\",\"gridcolor\":\"white\",\"linecolor\":\"white\",\"showbackground\":true,\"ticks\":\"\",\"zerolinecolor\":\"white\",\"gridwidth\":2},\"zaxis\":{\"backgroundcolor\":\"#E5ECF6\",\"gridcolor\":\"white\",\"linecolor\":\"white\",\"showbackground\":true,\"ticks\":\"\",\"zerolinecolor\":\"white\",\"gridwidth\":2}},\"shapedefaults\":{\"line\":{\"color\":\"#2a3f5f\"}},\"annotationdefaults\":{\"arrowcolor\":\"#2a3f5f\",\"arrowhead\":0,\"arrowwidth\":1},\"geo\":{\"bgcolor\":\"white\",\"landcolor\":\"#E5ECF6\",\"subunitcolor\":\"white\",\"showland\":true,\"showlakes\":true,\"lakecolor\":\"white\"},\"title\":{\"x\":0.05},\"mapbox\":{\"style\":\"light\"}}},\"xaxis\":{\"anchor\":\"y\",\"domain\":[0.0,1.0],\"title\":{\"text\":\"percent_change\"},\"range\":[-0.005,0.005]},\"yaxis\":{\"anchor\":\"x\",\"domain\":[0.0,1.0],\"title\":{\"text\":\"rank\"}},\"legend\":{\"title\":{\"text\":\"sex\"},\"tracegroupgap\":0,\"itemsizing\":\"constant\"},\"margin\":{\"t\":60},\"updatemenus\":[{\"buttons\":[{\"args\":[null,{\"frame\":{\"duration\":500,\"redraw\":false},\"mode\":\"immediate\",\"fromcurrent\":true,\"transition\":{\"duration\":500,\"easing\":\"linear\"}}],\"label\":\"&#9654;\",\"method\":\"animate\"},{\"args\":[[null],{\"frame\":{\"duration\":0,\"redraw\":false},\"mode\":\"immediate\",\"fromcurrent\":true,\"transition\":{\"duration\":0,\"easing\":\"linear\"}}],\"label\":\"&#9724;\",\"method\":\"animate\"}],\"direction\":\"left\",\"pad\":{\"r\":10,\"t\":70},\"showactive\":false,\"type\":\"buttons\",\"x\":0.1,\"xanchor\":\"right\",\"y\":0,\"yanchor\":\"top\"}],\"sliders\":[{\"active\":0,\"currentvalue\":{\"prefix\":\"year=\"},\"len\":0.9,\"pad\":{\"b\":10,\"t\":60},\"steps\":[{\"args\":[[\"2000\"],{\"frame\":{\"duration\":0,\"redraw\":false},\"mode\":\"immediate\",\"fromcurrent\":true,\"transition\":{\"duration\":0,\"easing\":\"linear\"}}],\"label\":\"2000\",\"method\":\"animate\"},{\"args\":[[\"2001\"],{\"frame\":{\"duration\":0,\"redraw\":false},\"mode\":\"immediate\",\"fromcurrent\":true,\"transition\":{\"duration\":0,\"easing\":\"linear\"}}],\"label\":\"2001\",\"method\":\"animate\"},{\"args\":[[\"2002\"],{\"frame\":{\"duration\":0,\"redraw\":false},\"mode\":\"immediate\",\"fromcurrent\":true,\"transition\":{\"duration\":0,\"easing\":\"linear\"}}],\"label\":\"2002\",\"method\":\"animate\"},{\"args\":[[\"2003\"],{\"frame\":{\"duration\":0,\"redraw\":false},\"mode\":\"immediate\",\"fromcurrent\":true,\"transition\":{\"duration\":0,\"easing\":\"linear\"}}],\"label\":\"2003\",\"method\":\"animate\"},{\"args\":[[\"2004\"],{\"frame\":{\"duration\":0,\"redraw\":false},\"mode\":\"immediate\",\"fromcurrent\":true,\"transition\":{\"duration\":0,\"easing\":\"linear\"}}],\"label\":\"2004\",\"method\":\"animate\"},{\"args\":[[\"2005\"],{\"frame\":{\"duration\":0,\"redraw\":false},\"mode\":\"immediate\",\"fromcurrent\":true,\"transition\":{\"duration\":0,\"easing\":\"linear\"}}],\"label\":\"2005\",\"method\":\"animate\"},{\"args\":[[\"2006\"],{\"frame\":{\"duration\":0,\"redraw\":false},\"mode\":\"immediate\",\"fromcurrent\":true,\"transition\":{\"duration\":0,\"easing\":\"linear\"}}],\"label\":\"2006\",\"method\":\"animate\"},{\"args\":[[\"2007\"],{\"frame\":{\"duration\":0,\"redraw\":false},\"mode\":\"immediate\",\"fromcurrent\":true,\"transition\":{\"duration\":0,\"easing\":\"linear\"}}],\"label\":\"2007\",\"method\":\"animate\"},{\"args\":[[\"2008\"],{\"frame\":{\"duration\":0,\"redraw\":false},\"mode\":\"immediate\",\"fromcurrent\":true,\"transition\":{\"duration\":0,\"easing\":\"linear\"}}],\"label\":\"2008\",\"method\":\"animate\"},{\"args\":[[\"2009\"],{\"frame\":{\"duration\":0,\"redraw\":false},\"mode\":\"immediate\",\"fromcurrent\":true,\"transition\":{\"duration\":0,\"easing\":\"linear\"}}],\"label\":\"2009\",\"method\":\"animate\"},{\"args\":[[\"2010\"],{\"frame\":{\"duration\":0,\"redraw\":false},\"mode\":\"immediate\",\"fromcurrent\":true,\"transition\":{\"duration\":0,\"easing\":\"linear\"}}],\"label\":\"2010\",\"method\":\"animate\"},{\"args\":[[\"2011\"],{\"frame\":{\"duration\":0,\"redraw\":false},\"mode\":\"immediate\",\"fromcurrent\":true,\"transition\":{\"duration\":0,\"easing\":\"linear\"}}],\"label\":\"2011\",\"method\":\"animate\"},{\"args\":[[\"2012\"],{\"frame\":{\"duration\":0,\"redraw\":false},\"mode\":\"immediate\",\"fromcurrent\":true,\"transition\":{\"duration\":0,\"easing\":\"linear\"}}],\"label\":\"2012\",\"method\":\"animate\"},{\"args\":[[\"2013\"],{\"frame\":{\"duration\":0,\"redraw\":false},\"mode\":\"immediate\",\"fromcurrent\":true,\"transition\":{\"duration\":0,\"easing\":\"linear\"}}],\"label\":\"2013\",\"method\":\"animate\"},{\"args\":[[\"2014\"],{\"frame\":{\"duration\":0,\"redraw\":false},\"mode\":\"immediate\",\"fromcurrent\":true,\"transition\":{\"duration\":0,\"easing\":\"linear\"}}],\"label\":\"2014\",\"method\":\"animate\"},{\"args\":[[\"2015\"],{\"frame\":{\"duration\":0,\"redraw\":false},\"mode\":\"immediate\",\"fromcurrent\":true,\"transition\":{\"duration\":0,\"easing\":\"linear\"}}],\"label\":\"2015\",\"method\":\"animate\"},{\"args\":[[\"2016\"],{\"frame\":{\"duration\":0,\"redraw\":false},\"mode\":\"immediate\",\"fromcurrent\":true,\"transition\":{\"duration\":0,\"easing\":\"linear\"}}],\"label\":\"2016\",\"method\":\"animate\"},{\"args\":[[\"2017\"],{\"frame\":{\"duration\":0,\"redraw\":false},\"mode\":\"immediate\",\"fromcurrent\":true,\"transition\":{\"duration\":0,\"easing\":\"linear\"}}],\"label\":\"2017\",\"method\":\"animate\"},{\"args\":[[\"2018\"],{\"frame\":{\"duration\":0,\"redraw\":false},\"mode\":\"immediate\",\"fromcurrent\":true,\"transition\":{\"duration\":0,\"easing\":\"linear\"}}],\"label\":\"2018\",\"method\":\"animate\"},{\"args\":[[\"2019\"],{\"frame\":{\"duration\":0,\"redraw\":false},\"mode\":\"immediate\",\"fromcurrent\":true,\"transition\":{\"duration\":0,\"easing\":\"linear\"}}],\"label\":\"2019\",\"method\":\"animate\"},{\"args\":[[\"2020\"],{\"frame\":{\"duration\":0,\"redraw\":false},\"mode\":\"immediate\",\"fromcurrent\":true,\"transition\":{\"duration\":0,\"easing\":\"linear\"}}],\"label\":\"2020\",\"method\":\"animate\"}],\"x\":0.1,\"xanchor\":\"left\",\"y\":0,\"yanchor\":\"top\"}]},                        {\"responsive\": true}                    ).then(function(){\n",
       "                            Plotly.addFrames('5b67d38e-ab2a-4e34-b1d6-28bed604155b', [{\"data\":[{\"hovertemplate\":\"\\u003cb\\u003e%{hovertext}\\u003c\\u002fb\\u003e\\u003cbr\\u003e\\u003cbr\\u003esex=Female\\u003cbr\\u003eyear=2000\\u003cbr\\u003epercent_change=%{x}\\u003cbr\\u003erank=%{y}\\u003cbr\\u003epercent=%{marker.size}\\u003cextra\\u003e\\u003c\\u002fextra\\u003e\",\"hovertext\":[\"A\"],\"ids\":[\"A\"],\"legendgroup\":\"Female\",\"marker\":{\"color\":\"#636efa\",\"size\":[24.68760628386012],\"sizemode\":\"area\",\"sizeref\":0.039909619401957676,\"symbol\":\"circle\"},\"mode\":\"markers\",\"name\":\"Female\",\"orientation\":\"v\",\"showlegend\":true,\"x\":[-0.0012545988115263752],\"xaxis\":\"x\",\"y\":[23],\"yaxis\":\"y\",\"type\":\"scatter\"},{\"hovertemplate\":\"\\u003cb\\u003e%{hovertext}\\u003c\\u002fb\\u003e\\u003cbr\\u003e\\u003cbr\\u003esex=Male\\u003cbr\\u003eyear=2000\\u003cbr\\u003epercent_change=%{x}\\u003cbr\\u003erank=%{y}\\u003cbr\\u003epercent=%{marker.size}\\u003cextra\\u003e\\u003c\\u002fextra\\u003e\",\"hovertext\":[\"B\",\"C\",\"D\"],\"ids\":[\"B\",\"C\",\"D\"],\"legendgroup\":\"Male\",\"marker\":{\"color\":\"#EF553B\",\"size\":[98.34231408948429,54.14479738275658,66.89882547142287],\"sizemode\":\"area\",\"sizeref\":0.039909619401957676,\"symbol\":\"circle\"},\"mode\":\"markers\",\"name\":\"Male\",\"orientation\":\"v\",\"showlegend\":true,\"x\":[-0.003605061393479582,-0.004656114788847816,-0.001432466733064107],\"xaxis\":\"x\",\"y\":[15,28,77],\"yaxis\":\"y\",\"type\":\"scatter\"}],\"name\":\"2000\"},{\"data\":[{\"hovertemplate\":\"\\u003cb\\u003e%{hovertext}\\u003c\\u002fb\\u003e\\u003cbr\\u003e\\u003cbr\\u003esex=Female\\u003cbr\\u003eyear=2001\\u003cbr\\u003epercent_change=%{x}\\u003cbr\\u003erank=%{y}\\u003cbr\\u003epercent=%{marker.size}\\u003cextra\\u003e\\u003c\\u002fextra\\u003e\",\"hovertext\":[\"A\",\"B\",\"D\"],\"ids\":[\"A\",\"B\",\"D\"],\"legendgroup\":\"Female\",\"marker\":{\"color\":\"#636efa\",\"size\":[69.63042728397883,39.88244424445531,58.06866214364547],\"sizemode\":\"area\",\"sizeref\":0.039909619401957676,\"symbol\":\"circle\"},\"mode\":\"markers\",\"name\":\"Female\",\"orientation\":\"v\",\"showlegend\":true,\"x\":[0.0045071430640991625,-0.0020785535146478186,-0.0021906549031261925],\"xaxis\":\"x\",\"y\":[62,90,3],\"yaxis\":\"y\",\"type\":\"scatter\"},{\"hovertemplate\":\"\\u003cb\\u003e%{hovertext}\\u003c\\u002fb\\u003e\\u003cbr\\u003e\\u003cbr\\u003esex=Male\\u003cbr\\u003eyear=2001\\u003cbr\\u003epercent_change=%{x}\\u003cbr\\u003erank=%{y}\\u003cbr\\u003epercent=%{marker.size}\\u003cextra\\u003e\\u003c\\u002fextra\\u003e\",\"hovertext\":[\"C\"],\"ids\":[\"C\"],\"legendgroup\":\"Male\",\"marker\":{\"color\":\"#EF553B\",\"size\":[69.57843993450822],\"sizemode\":\"area\",\"sizeref\":0.039909619401957676,\"symbol\":\"circle\"},\"mode\":\"markers\",\"name\":\"Male\",\"orientation\":\"v\",\"showlegend\":true,\"x\":[0.004093204020787822],\"xaxis\":\"x\",\"y\":[66],\"yaxis\":\"y\",\"type\":\"scatter\"}],\"name\":\"2001\"},{\"data\":[{\"hovertemplate\":\"\\u003cb\\u003e%{hovertext}\\u003c\\u002fb\\u003e\\u003cbr\\u003e\\u003cbr\\u003esex=Female\\u003cbr\\u003eyear=2002\\u003cbr\\u003epercent_change=%{x}\\u003cbr\\u003erank=%{y}\\u003cbr\\u003epercent=%{marker.size}\\u003cextra\\u003e\\u003c\\u002fextra\\u003e\",\"hovertext\":[\"A\",\"C\",\"D\"],\"ids\":[\"A\",\"C\",\"D\"],\"legendgroup\":\"Female\",\"marker\":{\"color\":\"#636efa\",\"size\":[71.2270589924442,22.855002179729965,37.22827665617431],\"sizemode\":\"area\",\"sizeref\":0.039909619401957676,\"symbol\":\"circle\"},\"mode\":\"markers\",\"name\":\"Female\",\"orientation\":\"v\",\"showlegend\":true,\"x\":[0.0023199394181140512,-0.0024122001839998308,0.00042696083158248483],\"xaxis\":\"x\",\"y\":[88,42,70],\"yaxis\":\"y\",\"type\":\"scatter\"},{\"hovertemplate\":\"\\u003cb\\u003e%{hovertext}\\u003c\\u002fb\\u003e\\u003cbr\\u003e\\u003cbr\\u003esex=Male\\u003cbr\\u003eyear=2002\\u003cbr\\u003epercent_change=%{x}\\u003cbr\\u003erank=%{y}\\u003cbr\\u003epercent=%{marker.size}\\u003cextra\\u003e\\u003c\\u002fextra\\u003e\",\"hovertext\":[\"B\"],\"ids\":[\"B\"],\"legendgroup\":\"Male\",\"marker\":{\"color\":\"#EF553B\",\"size\":[81.6431873219384],\"sizemode\":\"area\",\"sizeref\":0.039909619401957676,\"symbol\":\"circle\"},\"mode\":\"markers\",\"name\":\"Male\",\"orientation\":\"v\",\"showlegend\":true,\"x\":[-0.0013363815670630829],\"xaxis\":\"x\",\"y\":[42],\"yaxis\":\"y\",\"type\":\"scatter\"}],\"name\":\"2002\"},{\"data\":[{\"hovertemplate\":\"\\u003cb\\u003e%{hovertext}\\u003c\\u002fb\\u003e\\u003cbr\\u003e\\u003cbr\\u003esex=Female\\u003cbr\\u003eyear=2003\\u003cbr\\u003epercent_change=%{x}\\u003cbr\\u003erank=%{y}\\u003cbr\\u003epercent=%{marker.size}\\u003cextra\\u003e\\u003c\\u002fextra\\u003e\",\"hovertext\":[\"A\",\"B\"],\"ids\":[\"A\",\"B\"],\"legendgroup\":\"Female\",\"marker\":{\"color\":\"#636efa\",\"size\":[14.808692995339989,79.83451249845511],\"sizemode\":\"area\",\"sizeref\":0.039909619401957676,\"symbol\":\"circle\"},\"mode\":\"markers\",\"name\":\"Female\",\"orientation\":\"v\",\"showlegend\":true,\"x\":[0.0009865848419703662,-0.00043930015782964096],\"xaxis\":\"x\",\"y\":[37,77],\"yaxis\":\"y\",\"type\":\"scatter\"},{\"hovertemplate\":\"\\u003cb\\u003e%{hovertext}\\u003c\\u002fb\\u003e\\u003cbr\\u003e\\u003cbr\\u003esex=Male\\u003cbr\\u003eyear=2003\\u003cbr\\u003epercent_change=%{x}\\u003cbr\\u003erank=%{y}\\u003cbr\\u003epercent=%{marker.size}\\u003cextra\\u003e\\u003c\\u002fextra\\u003e\",\"hovertext\":[\"C\",\"D\"],\"ids\":[\"C\",\"D\"],\"legendgroup\":\"Male\",\"marker\":{\"color\":\"#EF553B\",\"size\":[17.49549270959362,94.01334424577784],\"sizemode\":\"area\",\"sizeref\":0.039909619401957676,\"symbol\":\"circle\"},\"mode\":\"markers\",\"name\":\"Male\",\"orientation\":\"v\",\"showlegend\":true,\"x\":[0.0016252228435398195,-0.0035907577502523737],\"xaxis\":\"x\",\"y\":[45,72],\"yaxis\":\"y\",\"type\":\"scatter\"}],\"name\":\"2003\"},{\"data\":[{\"hovertemplate\":\"\\u003cb\\u003e%{hovertext}\\u003c\\u002fb\\u003e\\u003cbr\\u003e\\u003cbr\\u003esex=Female\\u003cbr\\u003eyear=2004\\u003cbr\\u003epercent_change=%{x}\\u003cbr\\u003erank=%{y}\\u003cbr\\u003epercent=%{marker.size}\\u003cextra\\u003e\\u003c\\u002fextra\\u003e\",\"hovertext\":[\"A\",\"D\"],\"ids\":[\"A\",\"D\"],\"legendgroup\":\"Female\",\"marker\":{\"color\":\"#636efa\",\"size\":[99.77404850489418,97.36638367553174],\"sizemode\":\"area\",\"sizeref\":0.039909619401957676,\"symbol\":\"circle\"},\"mode\":\"markers\",\"name\":\"Female\",\"orientation\":\"v\",\"showlegend\":true,\"x\":[-0.0034398135955756347,0.003021969807540396],\"xaxis\":\"x\",\"y\":[99,27],\"yaxis\":\"y\",\"type\":\"scatter\"},{\"hovertemplate\":\"\\u003cb\\u003e%{hovertext}\\u003c\\u002fb\\u003e\\u003cbr\\u003e\\u003cbr\\u003esex=Male\\u003cbr\\u003eyear=2004\\u003cbr\\u003epercent_change=%{x}\\u003cbr\\u003erank=%{y}\\u003cbr\\u003epercent=%{marker.size}\\u003cextra\\u003e\\u003c\\u002fextra\\u003e\",\"hovertext\":[\"B\",\"C\"],\"ids\":[\"B\",\"C\"],\"legendgroup\":\"Male\",\"marker\":{\"color\":\"#EF553B\",\"size\":[15.071754396542946,98.21683433294356],\"sizemode\":\"area\",\"sizeref\":0.039909619401957676,\"symbol\":\"circle\"},\"mode\":\"markers\",\"name\":\"Male\",\"orientation\":\"v\",\"showlegend\":true,\"x\":[0.0028517596139301356,-0.0018828892391058905],\"xaxis\":\"x\",\"y\":[51,62],\"yaxis\":\"y\",\"type\":\"scatter\"}],\"name\":\"2004\"},{\"data\":[{\"hovertemplate\":\"\\u003cb\\u003e%{hovertext}\\u003c\\u002fb\\u003e\\u003cbr\\u003e\\u003cbr\\u003esex=Female\\u003cbr\\u003eyear=2005\\u003cbr\\u003epercent_change=%{x}\\u003cbr\\u003erank=%{y}\\u003cbr\\u003epercent=%{marker.size}\\u003cextra\\u003e\\u003c\\u002fextra\\u003e\",\"hovertext\":[\"B\",\"D\"],\"ids\":[\"B\",\"D\"],\"legendgroup\":\"Female\",\"marker\":{\"color\":\"#636efa\",\"size\":[50.81987767407187,28.39209747374657],\"sizemode\":\"area\",\"sizeref\":0.039909619401957676,\"symbol\":\"circle\"},\"mode\":\"markers\",\"name\":\"Female\",\"orientation\":\"v\",\"showlegend\":true,\"x\":[-0.0030032621784164028,-0.004254493563202292],\"xaxis\":\"x\",\"y\":[63,9],\"yaxis\":\"y\",\"type\":\"scatter\"},{\"hovertemplate\":\"\\u003cb\\u003e%{hovertext}\\u003c\\u002fb\\u003e\\u003cbr\\u003e\\u003cbr\\u003esex=Male\\u003cbr\\u003eyear=2005\\u003cbr\\u003epercent_change=%{x}\\u003cbr\\u003erank=%{y}\\u003cbr\\u003epercent=%{marker.size}\\u003cextra\\u003e\\u003c\\u002fextra\\u003e\",\"hovertext\":[\"A\",\"C\"],\"ids\":[\"A\",\"C\"],\"legendgroup\":\"Male\",\"marker\":{\"color\":\"#EF553B\",\"size\":[26.6781014275285,51.66358912710143],\"sizemode\":\"area\",\"sizeref\":0.039909619401957676,\"symbol\":\"circle\"},\"mode\":\"markers\",\"name\":\"Male\",\"orientation\":\"v\",\"showlegend\":true,\"x\":[-0.0034400547966379736,0.00020068021177810803],\"xaxis\":\"x\",\"y\":[44,57],\"yaxis\":\"y\",\"type\":\"scatter\"}],\"name\":\"2005\"},{\"data\":[{\"hovertemplate\":\"\\u003cb\\u003e%{hovertext}\\u003c\\u002fb\\u003e\\u003cbr\\u003e\\u003cbr\\u003esex=Female\\u003cbr\\u003eyear=2006\\u003cbr\\u003epercent_change=%{x}\\u003cbr\\u003erank=%{y}\\u003cbr\\u003epercent=%{marker.size}\\u003cextra\\u003e\\u003c\\u002fextra\\u003e\",\"hovertext\":[\"C\",\"D\"],\"ids\":[\"C\",\"D\"],\"legendgroup\":\"Female\",\"marker\":{\"color\":\"#636efa\",\"size\":[26.0829174830409,30.536386034439346],\"sizemode\":\"area\",\"sizeref\":0.039909619401957676,\"symbol\":\"circle\"},\"mode\":\"markers\",\"name\":\"Female\",\"orientation\":\"v\",\"showlegend\":true,\"x\":[0.0004671027934327965,0.004868869366005173],\"xaxis\":\"x\",\"y\":[6,62],\"yaxis\":\"y\",\"type\":\"scatter\"},{\"hovertemplate\":\"\\u003cb\\u003e%{hovertext}\\u003c\\u002fb\\u003e\\u003cbr\\u003e\\u003cbr\\u003esex=Male\\u003cbr\\u003eyear=2006\\u003cbr\\u003epercent_change=%{x}\\u003cbr\\u003erank=%{y}\\u003cbr\\u003epercent=%{marker.size}\\u003cextra\\u003e\\u003c\\u002fextra\\u003e\",\"hovertext\":[\"A\",\"B\"],\"ids\":[\"A\",\"B\"],\"legendgroup\":\"Male\",\"marker\":{\"color\":\"#EF553B\",\"size\":[97.66149558326529,69.58128067908818],\"sizemode\":\"area\",\"sizeref\":0.039909619401957676,\"symbol\":\"circle\"},\"mode\":\"markers\",\"name\":\"Male\",\"orientation\":\"v\",\"showlegend\":true,\"x\":[-0.004419163878318005,0.00014234438413611612],\"xaxis\":\"x\",\"y\":[86,96],\"yaxis\":\"y\",\"type\":\"scatter\"}],\"name\":\"2006\"},{\"data\":[{\"hovertemplate\":\"\\u003cb\\u003e%{hovertext}\\u003c\\u002fb\\u003e\\u003cbr\\u003e\\u003cbr\\u003esex=Female\\u003cbr\\u003eyear=2007\\u003cbr\\u003epercent_change=%{x}\\u003cbr\\u003erank=%{y}\\u003cbr\\u003epercent=%{marker.size}\\u003cextra\\u003e\\u003c\\u002fextra\\u003e\",\"hovertext\":[\"A\",\"B\",\"D\"],\"ids\":[\"A\",\"B\",\"D\"],\"legendgroup\":\"Female\",\"marker\":{\"color\":\"#636efa\",\"size\":[41.10370133182313,85.83588048137199,48.56137535862266],\"sizemode\":\"area\",\"sizeref\":0.039909619401957676,\"symbol\":\"circle\"},\"mode\":\"markers\",\"name\":\"Female\",\"orientation\":\"v\",\"showlegend\":true,\"x\":[0.0036617614577493527,0.0009241456886204249,0.002722447692966574],\"xaxis\":\"x\",\"y\":[91,52,37],\"yaxis\":\"y\",\"type\":\"scatter\"},{\"hovertemplate\":\"\\u003cb\\u003e%{hovertext}\\u003c\\u002fb\\u003e\\u003cbr\\u003e\\u003cbr\\u003esex=Male\\u003cbr\\u003eyear=2007\\u003cbr\\u003epercent_change=%{x}\\u003cbr\\u003erank=%{y}\\u003cbr\\u003epercent=%{marker.size}\\u003cextra\\u003e\\u003c\\u002fextra\\u003e\",\"hovertext\":[\"C\"],\"ids\":[\"C\"],\"legendgroup\":\"Male\",\"marker\":{\"color\":\"#EF553B\",\"size\":[99.62536997579244],\"sizemode\":\"area\",\"sizeref\":0.039909619401957676,\"symbol\":\"circle\"},\"mode\":\"markers\",\"name\":\"Male\",\"orientation\":\"v\",\"showlegend\":true,\"x\":[-0.00315145544474473],\"xaxis\":\"x\",\"y\":[28],\"yaxis\":\"y\",\"type\":\"scatter\"}],\"name\":\"2007\"},{\"data\":[{\"hovertemplate\":\"\\u003cb\\u003e%{hovertext}\\u003c\\u002fb\\u003e\\u003cbr\\u003e\\u003cbr\\u003esex=Female\\u003cbr\\u003eyear=2008\\u003cbr\\u003epercent_change=%{x}\\u003cbr\\u003erank=%{y}\\u003cbr\\u003epercent=%{marker.size}\\u003cextra\\u003e\\u003c\\u002fextra\\u003e\",\"hovertext\":[\"A\",\"C\",\"D\"],\"ids\":[\"A\",\"C\",\"D\"],\"legendgroup\":\"Female\",\"marker\":{\"color\":\"#636efa\",\"size\":[3.3050732900548385,96.54193512887936,44.84241429862473],\"sizemode\":\"area\",\"sizeref\":0.039909619401957676,\"symbol\":\"circle\"},\"mode\":\"markers\",\"name\":\"Female\",\"orientation\":\"v\",\"showlegend\":true,\"x\":[0.001011150117432088,0.004695846277645586,-0.003012843184658276],\"xaxis\":\"x\",\"y\":[35,28,97],\"yaxis\":\"y\",\"type\":\"scatter\"},{\"hovertemplate\":\"\\u003cb\\u003e%{hovertext}\\u003c\\u002fb\\u003e\\u003cbr\\u003e\\u003cbr\\u003esex=Male\\u003cbr\\u003eyear=2008\\u003cbr\\u003epercent_change=%{x}\\u003cbr\\u003erank=%{y}\\u003cbr\\u003epercent=%{marker.size}\\u003cextra\\u003e\\u003c\\u002fextra\\u003e\",\"hovertext\":[\"B\"],\"ids\":[\"B\"],\"legendgroup\":\"Male\",\"marker\":{\"color\":\"#EF553B\",\"size\":[32.595890520188476],\"sizemode\":\"area\",\"sizeref\":0.039909619401957676,\"symbol\":\"circle\"},\"mode\":\"markers\",\"name\":\"Male\",\"orientation\":\"v\",\"showlegend\":true,\"x\":[-0.004535495872800023],\"xaxis\":\"x\",\"y\":[96],\"yaxis\":\"y\",\"type\":\"scatter\"}],\"name\":\"2008\"},{\"data\":[{\"hovertemplate\":\"\\u003cb\\u003e%{hovertext}\\u003c\\u002fb\\u003e\\u003cbr\\u003e\\u003cbr\\u003esex=Female\\u003cbr\\u003eyear=2009\\u003cbr\\u003epercent_change=%{x}\\u003cbr\\u003erank=%{y}\\u003cbr\\u003epercent=%{marker.size}\\u003cextra\\u003e\\u003c\\u002fextra\\u003e\",\"hovertext\":[\"B\"],\"ids\":[\"B\"],\"legendgroup\":\"Female\",\"marker\":{\"color\":\"#636efa\",\"size\":[22.02410475655483],\"sizemode\":\"area\",\"sizeref\":0.039909619401957676,\"symbol\":\"circle\"},\"mode\":\"markers\",\"name\":\"Female\",\"orientation\":\"v\",\"showlegend\":true,\"x\":[0.001075448519014384],\"xaxis\":\"x\",\"y\":[4],\"yaxis\":\"y\",\"type\":\"scatter\"},{\"hovertemplate\":\"\\u003cb\\u003e%{hovertext}\\u003c\\u002fb\\u003e\\u003cbr\\u003e\\u003cbr\\u003esex=Male\\u003cbr\\u003eyear=2009\\u003cbr\\u003epercent_change=%{x}\\u003cbr\\u003erank=%{y}\\u003cbr\\u003epercent=%{marker.size}\\u003cextra\\u003e\\u003c\\u002fextra\\u003e\",\"hovertext\":[\"A\",\"C\",\"D\"],\"ids\":[\"A\",\"C\",\"D\"],\"legendgroup\":\"Male\",\"marker\":{\"color\":\"#EF553B\",\"size\":[34.5071248026683,55.82934536070976,99.44574626108206],\"sizemode\":\"area\",\"sizeref\":0.039909619401957676,\"symbol\":\"circle\"},\"mode\":\"markers\",\"name\":\"Male\",\"orientation\":\"v\",\"showlegend\":true,\"x\":[0.002080725777960455,0.002751328233611146,-0.004944778828763976],\"xaxis\":\"x\",\"y\":[65,44,51],\"yaxis\":\"y\",\"type\":\"scatter\"}],\"name\":\"2009\"},{\"data\":[{\"hovertemplate\":\"\\u003cb\\u003e%{hovertext}\\u003c\\u002fb\\u003e\\u003cbr\\u003e\\u003cbr\\u003esex=Female\\u003cbr\\u003eyear=2010\\u003cbr\\u003epercent_change=%{x}\\u003cbr\\u003erank=%{y}\\u003cbr\\u003epercent=%{marker.size}\\u003cextra\\u003e\\u003c\\u002fextra\\u003e\",\"hovertext\":[\"B\",\"D\"],\"ids\":[\"B\",\"D\"],\"legendgroup\":\"Female\",\"marker\":{\"color\":\"#636efa\",\"size\":[71.11495324380178,17.592525267734537],\"sizemode\":\"area\",\"sizeref\":0.039909619401957676,\"symbol\":\"circle\"},\"mode\":\"markers\",\"name\":\"Female\",\"orientation\":\"v\",\"showlegend\":true,\"x\":[-0.003294758763127085,0.0031546142845483424],\"xaxis\":\"x\",\"y\":[94,44],\"yaxis\":\"y\",\"type\":\"scatter\"},{\"hovertemplate\":\"\\u003cb\\u003e%{hovertext}\\u003c\\u002fb\\u003e\\u003cbr\\u003e\\u003cbr\\u003esex=Male\\u003cbr\\u003eyear=2010\\u003cbr\\u003epercent_change=%{x}\\u003cbr\\u003erank=%{y}\\u003cbr\\u003epercent=%{marker.size}\\u003cextra\\u003e\\u003c\\u002fextra\\u003e\",\"hovertext\":[\"A\",\"C\"],\"ids\":[\"A\",\"C\"],\"legendgroup\":\"Male\",\"marker\":{\"color\":\"#EF553B\",\"size\":[63.435134470136376,88.26363431893397],\"sizemode\":\"area\",\"sizeref\":0.039909619401957676,\"symbol\":\"circle\"},\"mode\":\"markers\",\"name\":\"Male\",\"orientation\":\"v\",\"showlegend\":true,\"x\":[-0.004794155057041976,0.004394989415641892],\"xaxis\":\"x\",\"y\":[99,84],\"yaxis\":\"y\",\"type\":\"scatter\"}],\"name\":\"2010\"},{\"data\":[{\"hovertemplate\":\"\\u003cb\\u003e%{hovertext}\\u003c\\u002fb\\u003e\\u003cbr\\u003e\\u003cbr\\u003esex=Female\\u003cbr\\u003eyear=2011\\u003cbr\\u003epercent_change=%{x}\\u003cbr\\u003erank=%{y}\\u003cbr\\u003epercent=%{marker.size}\\u003cextra\\u003e\\u003c\\u002fextra\\u003e\",\"hovertext\":[\"A\",\"B\"],\"ids\":[\"A\",\"B\"],\"legendgroup\":\"Female\",\"marker\":{\"color\":\"#636efa\",\"size\":[68.07054515547668,80.95010461397155],\"sizemode\":\"area\",\"sizeref\":0.039909619401957676,\"symbol\":\"circle\"},\"mode\":\"markers\",\"name\":\"Female\",\"orientation\":\"v\",\"showlegend\":true,\"x\":[0.004699098521619943,-0.004349484070147205],\"xaxis\":\"x\",\"y\":[47,23],\"yaxis\":\"y\",\"type\":\"scatter\"},{\"hovertemplate\":\"\\u003cb\\u003e%{hovertext}\\u003c\\u002fb\\u003e\\u003cbr\\u003e\\u003cbr\\u003esex=Male\\u003cbr\\u003eyear=2011\\u003cbr\\u003epercent_change=%{x}\\u003cbr\\u003erank=%{y}\\u003cbr\\u003epercent=%{marker.size}\\u003cextra\\u003e\\u003c\\u002fextra\\u003e\",\"hovertext\":[\"C\",\"D\"],\"ids\":[\"C\",\"D\"],\"legendgroup\":\"Male\",\"marker\":{\"color\":\"#EF553B\",\"size\":[18.870710834137938,1.8075363615520867],\"sizemode\":\"area\",\"sizeref\":0.039909619401957676,\"symbol\":\"circle\"},\"mode\":\"markers\",\"name\":\"Male\",\"orientation\":\"v\",\"showlegend\":true,\"x\":[0.003948273504276488,0.002068573438476171],\"xaxis\":\"x\",\"y\":[30,24],\"yaxis\":\"y\",\"type\":\"scatter\"}],\"name\":\"2011\"},{\"data\":[{\"hovertemplate\":\"\\u003cb\\u003e%{hovertext}\\u003c\\u002fb\\u003e\\u003cbr\\u003e\\u003cbr\\u003esex=Female\\u003cbr\\u003eyear=2012\\u003cbr\\u003epercent_change=%{x}\\u003cbr\\u003erank=%{y}\\u003cbr\\u003epercent=%{marker.size}\\u003cextra\\u003e\\u003c\\u002fextra\\u003e\",\"hovertext\":[\"C\",\"D\"],\"ids\":[\"C\",\"D\"],\"legendgroup\":\"Female\",\"marker\":{\"color\":\"#636efa\",\"size\":[27.887135259218187,49.38937151834346],\"sizemode\":\"area\",\"sizeref\":0.039909619401957676,\"symbol\":\"circle\"},\"mode\":\"markers\",\"name\":\"Female\",\"orientation\":\"v\",\"showlegend\":true,\"x\":[0.0009789997881108512,0.002290071680409873],\"xaxis\":\"x\",\"y\":[62,79],\"yaxis\":\"y\",\"type\":\"scatter\"},{\"hovertemplate\":\"\\u003cb\\u003e%{hovertext}\\u003c\\u002fb\\u003e\\u003cbr\\u003e\\u003cbr\\u003esex=Male\\u003cbr\\u003eyear=2012\\u003cbr\\u003epercent_change=%{x}\\u003cbr\\u003erank=%{y}\\u003cbr\\u003epercent=%{marker.size}\\u003cextra\\u003e\\u003c\\u002fextra\\u003e\",\"hovertext\":[\"A\",\"B\"],\"ids\":[\"A\",\"B\"],\"legendgroup\":\"Male\",\"marker\":{\"color\":\"#EF553B\",\"size\":[53.09345833171364,34.866598729172935],\"sizemode\":\"area\",\"sizeref\":0.039909619401957676,\"symbol\":\"circle\"},\"mode\":\"markers\",\"name\":\"Male\",\"orientation\":\"v\",\"showlegend\":true,\"x\":[0.003324426408004218,0.004488855372533333],\"xaxis\":\"x\",\"y\":[78,15],\"yaxis\":\"y\",\"type\":\"scatter\"}],\"name\":\"2012\"},{\"data\":[{\"hovertemplate\":\"\\u003cb\\u003e%{hovertext}\\u003c\\u002fb\\u003e\\u003cbr\\u003e\\u003cbr\\u003esex=Female\\u003cbr\\u003eyear=2013\\u003cbr\\u003epercent_change=%{x}\\u003cbr\\u003erank=%{y}\\u003cbr\\u003epercent=%{marker.size}\\u003cextra\\u003e\\u003c\\u002fextra\\u003e\",\"hovertext\":[\"A\",\"B\"],\"ids\":[\"A\",\"B\"],\"legendgroup\":\"Female\",\"marker\":{\"color\":\"#636efa\",\"size\":[44.77831645730917,9.617655109142076],\"sizemode\":\"area\",\"sizeref\":0.039909619401957676,\"symbol\":\"circle\"},\"mode\":\"markers\",\"name\":\"Female\",\"orientation\":\"v\",\"showlegend\":true,\"x\":[-0.0028766088932172386,0.0046563203307455935],\"xaxis\":\"x\",\"y\":[3,43],\"yaxis\":\"y\",\"type\":\"scatter\"},{\"hovertemplate\":\"\\u003cb\\u003e%{hovertext}\\u003c\\u002fb\\u003e\\u003cbr\\u003e\\u003cbr\\u003esex=Male\\u003cbr\\u003eyear=2013\\u003cbr\\u003epercent_change=%{x}\\u003cbr\\u003erank=%{y}\\u003cbr\\u003epercent=%{marker.size}\\u003cextra\\u003e\\u003c\\u002fextra\\u003e\",\"hovertext\":[\"C\",\"D\"],\"ids\":[\"C\",\"D\"],\"legendgroup\":\"Male\",\"marker\":{\"color\":\"#EF553B\",\"size\":[70.03578299727712,17.882270922132882],\"sizemode\":\"area\",\"sizeref\":0.039909619401957676,\"symbol\":\"circle\"},\"mode\":\"markers\",\"name\":\"Male\",\"orientation\":\"v\",\"showlegend\":true,\"x\":[0.004218742350231169,0.0027127034668594577],\"xaxis\":\"x\",\"y\":[75,59],\"yaxis\":\"y\",\"type\":\"scatter\"}],\"name\":\"2013\"},{\"data\":[{\"hovertemplate\":\"\\u003cb\\u003e%{hovertext}\\u003c\\u002fb\\u003e\\u003cbr\\u003e\\u003cbr\\u003esex=Male\\u003cbr\\u003eyear=2014\\u003cbr\\u003epercent_change=%{x}\\u003cbr\\u003erank=%{y}\\u003cbr\\u003epercent=%{marker.size}\\u003cextra\\u003e\\u003c\\u002fextra\\u003e\",\"hovertext\":[\"A\",\"B\",\"C\",\"D\"],\"ids\":[\"A\",\"B\",\"C\",\"D\"],\"legendgroup\":\"Male\",\"marker\":{\"color\":\"#EF553B\",\"size\":[55.28930890713279,94.0523264489604,84.66611422383059,36.64687845828599],\"sizemode\":\"area\",\"sizeref\":0.039909619401957676,\"symbol\":\"circle\"},\"mode\":\"markers\",\"name\":\"Male\",\"orientation\":\"v\",\"showlegend\":true,\"x\":[-0.003181750327928994,0.003083973481164611,-0.004115074979480805,-0.004259553482659097],\"xaxis\":\"x\",\"y\":[1,29,92,32],\"yaxis\":\"y\",\"type\":\"scatter\"}],\"name\":\"2014\"},{\"data\":[{\"hovertemplate\":\"\\u003cb\\u003e%{hovertext}\\u003c\\u002fb\\u003e\\u003cbr\\u003e\\u003cbr\\u003esex=Female\\u003cbr\\u003eyear=2015\\u003cbr\\u003epercent_change=%{x}\\u003cbr\\u003erank=%{y}\\u003cbr\\u003epercent=%{marker.size}\\u003cextra\\u003e\\u003c\\u002fextra\\u003e\",\"hovertext\":[\"A\",\"B\",\"C\",\"D\"],\"ids\":[\"A\",\"B\",\"C\",\"D\"],\"legendgroup\":\"Female\",\"marker\":{\"color\":\"#636efa\",\"size\":[59.26967238793935,39.75720210875223,85.63242918780925,74.41705230565623],\"sizemode\":\"area\",\"sizeref\":0.039909619401957676,\"symbol\":\"circle\"},\"mode\":\"markers\",\"name\":\"Female\",\"orientation\":\"v\",\"showlegend\":true,\"x\":[-0.003165954901465662,-0.0019538623082662934,-0.0030401713758085483,-0.001415342714557274],\"xaxis\":\"x\",\"y\":[5,36,89,96],\"yaxis\":\"y\",\"type\":\"scatter\"}],\"name\":\"2015\"},{\"data\":[{\"hovertemplate\":\"\\u003cb\\u003e%{hovertext}\\u003c\\u002fb\\u003e\\u003cbr\\u003e\\u003cbr\\u003esex=Female\\u003cbr\\u003eyear=2016\\u003cbr\\u003epercent_change=%{x}\\u003cbr\\u003erank=%{y}\\u003cbr\\u003epercent=%{marker.size}\\u003cextra\\u003e\\u003c\\u002fextra\\u003e\",\"hovertext\":[\"D\"],\"ids\":[\"D\"],\"legendgroup\":\"Female\",\"marker\":{\"color\":\"#636efa\",\"size\":[72.09399242521293],\"sizemode\":\"area\",\"sizeref\":0.039909619401957676,\"symbol\":\"circle\"},\"mode\":\"markers\",\"name\":\"Female\",\"orientation\":\"v\",\"showlegend\":true,\"x\":[-0.0038413094047487027],\"xaxis\":\"x\",\"y\":[88],\"yaxis\":\"y\",\"type\":\"scatter\"},{\"hovertemplate\":\"\\u003cb\\u003e%{hovertext}\\u003c\\u002fb\\u003e\\u003cbr\\u003e\\u003cbr\\u003esex=Male\\u003cbr\\u003eyear=2016\\u003cbr\\u003epercent_change=%{x}\\u003cbr\\u003erank=%{y}\\u003cbr\\u003epercent=%{marker.size}\\u003cextra\\u003e\\u003c\\u002fextra\\u003e\",\"hovertext\":[\"A\",\"B\",\"C\"],\"ids\":[\"A\",\"B\",\"C\"],\"legendgroup\":\"Male\",\"marker\":{\"color\":\"#EF553B\",\"size\":[8.085332633271525,51.77513505274801,40.45081271221901],\"sizemode\":\"area\",\"sizeref\":0.039909619401957676,\"symbol\":\"circle\"},\"mode\":\"markers\",\"name\":\"Male\",\"orientation\":\"v\",\"showlegend\":true,\"x\":[-0.0019575775704046227,-0.004023278859936161,-0.0045477271108946195],\"xaxis\":\"x\",\"y\":[90,13,62],\"yaxis\":\"y\",\"type\":\"scatter\"}],\"name\":\"2016\"},{\"data\":[{\"hovertemplate\":\"\\u003cb\\u003e%{hovertext}\\u003c\\u002fb\\u003e\\u003cbr\\u003e\\u003cbr\\u003esex=Female\\u003cbr\\u003eyear=2017\\u003cbr\\u003epercent_change=%{x}\\u003cbr\\u003erank=%{y}\\u003cbr\\u003epercent=%{marker.size}\\u003cextra\\u003e\\u003c\\u002fextra\\u003e\",\"hovertext\":[\"A\",\"B\",\"C\",\"D\"],\"ids\":[\"A\",\"B\",\"C\",\"D\"],\"legendgroup\":\"Female\",\"marker\":{\"color\":\"#636efa\",\"size\":[36.96544560614045,83.7710105907328,88.77700987609597,30.80607918523892],\"sizemode\":\"area\",\"sizeref\":0.039909619401957676,\"symbol\":\"circle\"},\"mode\":\"markers\",\"name\":\"Female\",\"orientation\":\"v\",\"showlegend\":true,\"x\":[0.0002475643163223785,0.0018423302651215693,-0.0017466966923673564,0.003631034258755936],\"xaxis\":\"x\",\"y\":[14,32,97,52],\"yaxis\":\"y\",\"type\":\"scatter\"}],\"name\":\"2017\"},{\"data\":[{\"hovertemplate\":\"\\u003cb\\u003e%{hovertext}\\u003c\\u002fb\\u003e\\u003cbr\\u003e\\u003cbr\\u003esex=Female\\u003cbr\\u003eyear=2018\\u003cbr\\u003epercent_change=%{x}\\u003cbr\\u003erank=%{y}\\u003cbr\\u003epercent=%{marker.size}\\u003cextra\\u003e\\u003c\\u002fextra\\u003e\",\"hovertext\":[\"C\"],\"ids\":[\"C\"],\"legendgroup\":\"Female\",\"marker\":{\"color\":\"#636efa\",\"size\":[85.09284487675127],\"sizemode\":\"area\",\"sizeref\":0.039909619401957676,\"symbol\":\"circle\"},\"mode\":\"markers\",\"name\":\"Female\",\"orientation\":\"v\",\"showlegend\":true,\"x\":[-0.0011132271031051798],\"xaxis\":\"x\",\"y\":[1],\"yaxis\":\"y\",\"type\":\"scatter\"},{\"hovertemplate\":\"\\u003cb\\u003e%{hovertext}\\u003c\\u002fb\\u003e\\u003cbr\\u003e\\u003cbr\\u003esex=Male\\u003cbr\\u003eyear=2018\\u003cbr\\u003epercent_change=%{x}\\u003cbr\\u003erank=%{y}\\u003cbr\\u003epercent=%{marker.size}\\u003cextra\\u003e\\u003c\\u002fextra\\u003e\",\"hovertext\":[\"A\",\"B\",\"D\"],\"ids\":[\"A\",\"B\",\"D\"],\"legendgroup\":\"Male\",\"marker\":{\"color\":\"#EF553B\",\"size\":[24.215993827742587,67.56901170392807,54.25402305548993],\"sizemode\":\"area\",\"sizeref\":0.039909619401957676,\"symbol\":\"circle\"},\"mode\":\"markers\",\"name\":\"Male\",\"orientation\":\"v\",\"showlegend\":true,\"x\":[-0.0006805498135788422,-0.0005984750626039873,0.001232981268275579],\"xaxis\":\"x\",\"y\":[27,71,62],\"yaxis\":\"y\",\"type\":\"scatter\"}],\"name\":\"2018\"},{\"data\":[{\"hovertemplate\":\"\\u003cb\\u003e%{hovertext}\\u003c\\u002fb\\u003e\\u003cbr\\u003e\\u003cbr\\u003esex=Female\\u003cbr\\u003eyear=2019\\u003cbr\\u003epercent_change=%{x}\\u003cbr\\u003erank=%{y}\\u003cbr\\u003epercent=%{marker.size}\\u003cextra\\u003e\\u003c\\u002fextra\\u003e\",\"hovertext\":[\"D\"],\"ids\":[\"D\"],\"legendgroup\":\"Female\",\"marker\":{\"color\":\"#636efa\",\"size\":[50.881407683876],\"sizemode\":\"area\",\"sizeref\":0.039909619401957676,\"symbol\":\"circle\"},\"mode\":\"markers\",\"name\":\"Female\",\"orientation\":\"v\",\"showlegend\":true,\"x\":[-0.0016910197514735082],\"xaxis\":\"x\",\"y\":[58],\"yaxis\":\"y\",\"type\":\"scatter\"},{\"hovertemplate\":\"\\u003cb\\u003e%{hovertext}\\u003c\\u002fb\\u003e\\u003cbr\\u003e\\u003cbr\\u003esex=Male\\u003cbr\\u003eyear=2019\\u003cbr\\u003epercent_change=%{x}\\u003cbr\\u003erank=%{y}\\u003cbr\\u003epercent=%{marker.size}\\u003cextra\\u003e\\u003c\\u002fextra\\u003e\",\"hovertext\":[\"A\",\"B\",\"C\"],\"ids\":[\"A\",\"B\",\"C\"],\"legendgroup\":\"Male\",\"marker\":{\"color\":\"#EF553B\",\"size\":[80.31397563798959,73.5216119240772,93.56349942209475],\"sizemode\":\"area\",\"sizeref\":0.039909619401957676,\"symbol\":\"circle\"},\"mode\":\"markers\",\"name\":\"Male\",\"orientation\":\"v\",\"showlegend\":true,\"x\":[-0.002087708598019581,-0.003779617651552212,-0.002286509682261041],\"xaxis\":\"x\",\"y\":[9,59,27],\"yaxis\":\"y\",\"type\":\"scatter\"}],\"name\":\"2019\"},{\"data\":[{\"hovertemplate\":\"\\u003cb\\u003e%{hovertext}\\u003c\\u002fb\\u003e\\u003cbr\\u003e\\u003cbr\\u003esex=Female\\u003cbr\\u003eyear=2020\\u003cbr\\u003epercent_change=%{x}\\u003cbr\\u003erank=%{y}\\u003cbr\\u003epercent=%{marker.size}\\u003cextra\\u003e\\u003c\\u002fextra\\u003e\",\"hovertext\":[\"A\",\"B\",\"C\"],\"ids\":[\"A\",\"B\",\"C\"],\"legendgroup\":\"Female\",\"marker\":{\"color\":\"#636efa\",\"size\":[47.03006344460384,20.907162073771367,78.53406511139436],\"sizemode\":\"area\",\"sizeref\":0.039909619401957676,\"symbol\":\"circle\"},\"mode\":\"markers\",\"name\":\"Female\",\"orientation\":\"v\",\"showlegend\":true,\"x\":[0.0011185289472237948,-4.823089888729773e-05,0.0032873750915192934],\"xaxis\":\"x\",\"y\":[79,86,62],\"yaxis\":\"y\",\"type\":\"scatter\"},{\"hovertemplate\":\"\\u003cb\\u003e%{hovertext}\\u003c\\u002fb\\u003e\\u003cbr\\u003e\\u003cbr\\u003esex=Male\\u003cbr\\u003eyear=2020\\u003cbr\\u003epercent_change=%{x}\\u003cbr\\u003erank=%{y}\\u003cbr\\u003epercent=%{marker.size}\\u003cextra\\u003e\\u003c\\u002fextra\\u003e\",\"hovertext\":[\"D\"],\"ids\":[\"D\"],\"legendgroup\":\"Male\",\"marker\":{\"color\":\"#EF553B\",\"size\":[63.63326181858954],\"sizemode\":\"area\",\"sizeref\":0.039909619401957676,\"symbol\":\"circle\"},\"mode\":\"markers\",\"name\":\"Male\",\"orientation\":\"v\",\"showlegend\":true,\"x\":[-0.004364416497139764],\"xaxis\":\"x\",\"y\":[52],\"yaxis\":\"y\",\"type\":\"scatter\"}],\"name\":\"2020\"}]);\n",
       "                        }).then(function(){\n",
       "                            \n",
       "var gd = document.getElementById('5b67d38e-ab2a-4e34-b1d6-28bed604155b');\n",
       "var x = new MutationObserver(function (mutations, observer) {{\n",
       "        var display = window.getComputedStyle(gd).display;\n",
       "        if (!display || display === 'none') {{\n",
       "            console.log([gd, 'removed!']);\n",
       "            Plotly.purge(gd);\n",
       "            observer.disconnect();\n",
       "        }}\n",
       "}});\n",
       "\n",
       "// Listen for the removal of the full notebook cells\n",
       "var notebookContainer = gd.closest('#notebook-container');\n",
       "if (notebookContainer) {{\n",
       "    x.observe(notebookContainer, {childList: true});\n",
       "}}\n",
       "\n",
       "// Listen for the clearing of the current output cell\n",
       "var outputEl = gd.closest('.output');\n",
       "if (outputEl) {{\n",
       "    x.observe(outputEl, {childList: true});\n",
       "}}\n",
       "\n",
       "                        })                };                });            </script>        </div>"
      ]
     },
     "metadata": {},
     "output_type": "display_data"
    }
   ],
   "source": [
    "import plotly.express as px\n",
    "import pandas as pd\n",
    "import numpy as np\n",
    "\n",
    "# Create a mock dataset for demonstration purposes\n",
    "np.random.seed(42)\n",
    "\n",
    "# Generate sample data\n",
    "years = list(range(2000, 2021))  # Years from 2000 to 2020\n",
    "names = ['A', 'B', 'C', 'D']  # Example names\n",
    "\n",
    "data = pd.DataFrame({\n",
    "    'year': np.tile(years, len(names)),\n",
    "    'name': np.repeat(names, len(years)),\n",
    "    'percent_change': np.random.uniform(-0.005, 0.005, len(years) * len(names)),\n",
    "    'rank': np.random.randint(1, 100, len(years) * len(names)),\n",
    "    'percent': np.random.uniform(0, 100, len(years) * len(names)),\n",
    "    'sex': np.random.choice(['Male', 'Female'], len(years) * len(names))\n",
    "})\n",
    "\n",
    "# Create the animated scatter plot\n",
    "fig = px.scatter(\n",
    "    data,\n",
    "    x=\"percent_change\",           # X-axis: percent change\n",
    "    y=\"rank\",                     # Y-axis: rank\n",
    "    size=\"percent\",               # Size of bubbles: percent\n",
    "    color=\"sex\",                  # Color by sex\n",
    "    animation_frame=\"year\",       # Animate by year\n",
    "    animation_group=\"name\",       # Group by name\n",
    "    hover_name=\"name\",            # Hover info: name\n",
    "    size_max=50,                  # Max size of bubbles\n",
    "    range_x=[-0.005, 0.005],      # Set x-axis range\n",
    ")\n",
    "\n",
    "# Display the plot\n",
    "fig.show()\n"
   ]
  },
  {
   "cell_type": "markdown",
   "id": "2179bea9",
   "metadata": {},
   "source": [
    "Question 9"
   ]
  },
  {
   "cell_type": "markdown",
   "id": "507a2a19",
   "metadata": {},
   "source": [
    "Yes"
   ]
  },
  {
   "cell_type": "markdown",
   "id": "167e1cc2",
   "metadata": {},
   "source": [
    "Chatbot Summary:https://chatgpt.com/share/66f5ff60-0134-800b-8af9-e5f6f9cbef8b"
   ]
  }
 ],
 "metadata": {
  "kernelspec": {
   "display_name": "Python 3 (ipykernel)",
   "language": "python",
   "name": "python3"
  },
  "language_info": {
   "codemirror_mode": {
    "name": "ipython",
    "version": 3
   },
   "file_extension": ".py",
   "mimetype": "text/x-python",
   "name": "python",
   "nbconvert_exporter": "python",
   "pygments_lexer": "ipython3",
   "version": "3.11.6"
  }
 },
 "nbformat": 4,
 "nbformat_minor": 5
}
