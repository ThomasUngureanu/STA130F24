{
 "cells": [
  {
   "cell_type": "markdown",
   "id": "d8fa46a3",
   "metadata": {},
   "source": [
    "Question 1"
   ]
  },
  {
   "cell_type": "code",
   "execution_count": 1,
   "id": "1be6ab5f",
   "metadata": {},
   "outputs": [
    {
     "name": "stdout",
     "output_type": "stream",
     "text": [
      "Switch wins: 6666, Stay wins: 3334\n"
     ]
    }
   ],
   "source": [
    "import random\n",
    "\n",
    "n = 10000  # number of simulations\n",
    "switch_wins = 0\n",
    "stay_wins = 0\n",
    "\n",
    "for i in range(n):\n",
    "    # Setup the doors: one door has the car, the rest have goats\n",
    "    doors = [0, 0, 0]\n",
    "    car_position = random.randint(0, 2)  # Randomly assign the car to one of the doors\n",
    "    doors[car_position] = 1  # 1 represents the car, 0 represents goats\n",
    "\n",
    "    # Contestant's first choice\n",
    "    contestant_choice = random.randint(0, 2)\n",
    "    \n",
    "    # Monty reveals a goat from the remaining doors\n",
    "    remaining_doors = [x for x in range(3) if x != contestant_choice and doors[x] == 0]\n",
    "    monty_reveal = random.choice(remaining_doors)\n",
    "    \n",
    "    # The contestant now has the option to switch to the other unopened door\n",
    "    remaining_door = [x for x in range(3) if x != contestant_choice and x != monty_reveal][0]\n",
    "    \n",
    "    # Simulate switching\n",
    "    if doors[remaining_door] == 1:  # The remaining door has the car\n",
    "        switch_wins += 1\n",
    "    else:  # Staying with the original choice wins\n",
    "        stay_wins += 1\n",
    "\n",
    "# Print results\n",
    "print(f\"Switch wins: {switch_wins}, Stay wins: {stay_wins}\")"
   ]
  },
  {
   "cell_type": "markdown",
   "id": "e6075dc0",
   "metadata": {},
   "source": [
    "1. for i in range(n):\n",
    "This is a loop that iterates n times. In the context of the Monty Hall problem, this could represent running the experiment multiple times to simulate the outcomes.\n",
    "2. for x in a_list:\n",
    "This iterates over each element in a_list. In the Monty Hall problem, it might be used to iterate over a list of outcomes or choices.\n",
    "3. for i, x in enumerate(a_list):\n",
    "This loop iterates over a_list, but also provides an index (i) for each element (x). It's useful when you need both the index and the value of each element in the list.\n",
    "4. print():\n",
    "This is simply a Python function that outputs data to the console. When it's the last line of a notebook code cell, the variable or result will automatically be displayed as output. This is a key feature of Jupyter notebooks. If you print something within a loop, it shows each iteration’s result."
   ]
  },
  {
   "cell_type": "markdown",
   "id": "57f0ec86",
   "metadata": {},
   "source": [
    "Question 2"
   ]
  },
  {
   "cell_type": "markdown",
   "id": "0153d9f9",
   "metadata": {},
   "source": [
    "Original Code"
   ]
  },
  {
   "cell_type": "code",
   "execution_count": 2,
   "id": "1da087e0",
   "metadata": {},
   "outputs": [
    {
     "name": "stdout",
     "output_type": "stream",
     "text": [
      "Game 1:\n",
      "Doors setup: [1, 0, 0] (1=car, 0=goat)\n",
      "Contestant chose door 2\n",
      "Monty revealed door 1 with a goat\n",
      "Contestant switched to door 0\n",
      "Result: Switch wins!\n",
      "----------------------------------------\n",
      "Game 2:\n",
      "Doors setup: [1, 0, 0] (1=car, 0=goat)\n",
      "Contestant chose door 1\n",
      "Monty revealed door 2 with a goat\n",
      "Contestant switched to door 0\n",
      "Result: Switch wins!\n",
      "----------------------------------------\n",
      "Game 3:\n",
      "Doors setup: [0, 1, 0] (1=car, 0=goat)\n",
      "Contestant chose door 1\n",
      "Monty revealed door 0 with a goat\n",
      "Contestant stayed with door 1\n",
      "Result: Stay wins!\n",
      "----------------------------------------\n",
      "Game 4:\n",
      "Doors setup: [0, 0, 1] (1=car, 0=goat)\n",
      "Contestant chose door 0\n",
      "Monty revealed door 1 with a goat\n",
      "Contestant switched to door 2\n",
      "Result: Switch wins!\n",
      "----------------------------------------\n",
      "Game 5:\n",
      "Doors setup: [0, 1, 0] (1=car, 0=goat)\n",
      "Contestant chose door 1\n",
      "Monty revealed door 0 with a goat\n",
      "Contestant stayed with door 1\n",
      "Result: Stay wins!\n",
      "----------------------------------------\n",
      "Game 6:\n",
      "Doors setup: [0, 0, 1] (1=car, 0=goat)\n",
      "Contestant chose door 0\n",
      "Monty revealed door 1 with a goat\n",
      "Contestant switched to door 2\n",
      "Result: Switch wins!\n",
      "----------------------------------------\n",
      "Game 7:\n",
      "Doors setup: [0, 1, 0] (1=car, 0=goat)\n",
      "Contestant chose door 2\n",
      "Monty revealed door 0 with a goat\n",
      "Contestant switched to door 1\n",
      "Result: Switch wins!\n",
      "----------------------------------------\n",
      "Game 8:\n",
      "Doors setup: [0, 1, 0] (1=car, 0=goat)\n",
      "Contestant chose door 2\n",
      "Monty revealed door 0 with a goat\n",
      "Contestant switched to door 1\n",
      "Result: Switch wins!\n",
      "----------------------------------------\n",
      "Game 9:\n",
      "Doors setup: [0, 0, 1] (1=car, 0=goat)\n",
      "Contestant chose door 0\n",
      "Monty revealed door 1 with a goat\n",
      "Contestant switched to door 2\n",
      "Result: Switch wins!\n",
      "----------------------------------------\n",
      "Game 10:\n",
      "Doors setup: [1, 0, 0] (1=car, 0=goat)\n",
      "Contestant chose door 0\n",
      "Monty revealed door 1 with a goat\n",
      "Contestant stayed with door 0\n",
      "Result: Stay wins!\n",
      "----------------------------------------\n",
      "After 10 games:\n",
      "Switch wins: 7\n",
      "Stay wins: 3\n"
     ]
    }
   ],
   "source": [
    "import random\n",
    "\n",
    "n = 10  # For demonstration, we'll simulate 10 games and print results for each\n",
    "switch_wins = 0\n",
    "stay_wins = 0\n",
    "\n",
    "for i in range(n):\n",
    "    # Setup the doors: one door has the car, the rest have goats\n",
    "    doors = [0, 0, 0]\n",
    "    car_position = random.randint(0, 2)  # Randomly assign the car to one of the doors\n",
    "    doors[car_position] = 1  # 1 represents the car, 0 represents goats\n",
    "\n",
    "    # Contestant's first choice\n",
    "    contestant_choice = random.randint(0, 2)\n",
    "    \n",
    "    # Monty reveals a goat from the remaining doors\n",
    "    remaining_doors = [x for x in range(3) if x != contestant_choice and doors[x] == 0]\n",
    "    monty_reveal = random.choice(remaining_doors)\n",
    "    \n",
    "    # The contestant now has the option to switch to the other unopened door\n",
    "    remaining_door = [x for x in range(3) if x != contestant_choice and x != monty_reveal][0]\n",
    "    \n",
    "    # Simulate switching and staying\n",
    "    if doors[remaining_door] == 1:  # If switching would win\n",
    "        switch_wins += 1\n",
    "        result = \"Switch wins!\"\n",
    "    else:  # If staying would win\n",
    "        stay_wins += 1\n",
    "        result = \"Stay wins!\"\n",
    "    \n",
    "    # Print the result for the current iteration\n",
    "    print(f\"Game {i + 1}:\")\n",
    "    print(f\"Doors setup: {doors} (1=car, 0=goat)\")\n",
    "    print(f\"Contestant chose door {contestant_choice}\")\n",
    "    print(f\"Monty revealed door {monty_reveal} with a goat\")\n",
    "    print(f\"Contestant switched to door {remaining_door}\" if doors[remaining_door] == 1 else f\"Contestant stayed with door {contestant_choice}\")\n",
    "    print(f\"Result: {result}\")\n",
    "    print('-' * 40)\n",
    "\n",
    "# Print final results\n",
    "print(f\"After {n} games:\")\n",
    "print(f\"Switch wins: {switch_wins}\")\n",
    "print(f\"Stay wins: {stay_wins}\")\n"
   ]
  },
  {
   "cell_type": "markdown",
   "id": "1d867fc2",
   "metadata": {},
   "source": [
    "- The print() function inside the loop displays the state of each game: the doors' setup, the contestant's choice, Monty's reveal, and the final outcome.\n",
    "\n",
    "- The simulation runs for 10 games (n = 10), and after each game, the results are printed.\n",
    "\n",
    "- This allows you to see the outcomes game by game, including whether switching or staying would win."
   ]
  },
  {
   "cell_type": "markdown",
   "id": "6f420877",
   "metadata": {},
   "source": [
    "Simplified Code"
   ]
  },
  {
   "cell_type": "code",
   "execution_count": 3,
   "id": "f0191267",
   "metadata": {},
   "outputs": [
    {
     "name": "stdout",
     "output_type": "stream",
     "text": [
      "Game 1: Contestant chose 0, Monty revealed 1. Switch wins!\n",
      "Game 2: Contestant chose 1, Monty revealed 2. Switch wins!\n",
      "Game 3: Contestant chose 0, Monty revealed 1. Switch wins!\n",
      "Game 4: Contestant chose 1, Monty revealed 0. Switch wins!\n",
      "Game 5: Contestant chose 2, Monty revealed 1. Stay wins!\n",
      "Game 6: Contestant chose 1, Monty revealed 2. Switch wins!\n",
      "Game 7: Contestant chose 0, Monty revealed 1. Stay wins!\n",
      "Game 8: Contestant chose 2, Monty revealed 0. Stay wins!\n",
      "Game 9: Contestant chose 2, Monty revealed 0. Stay wins!\n",
      "Game 10: Contestant chose 0, Monty revealed 1. Switch wins!\n",
      "\n",
      "After 10 games: Switch wins = 6, Stay wins = 4\n"
     ]
    }
   ],
   "source": [
    "import random\n",
    "\n",
    "n = 10  # Number of simulations\n",
    "switch_wins = 0\n",
    "stay_wins = 0\n",
    "\n",
    "for i in range(n):\n",
    "    # Randomly place the car behind one of the three doors\n",
    "    car_position = random.randint(0, 2)\n",
    "\n",
    "    # Contestant makes an initial choice\n",
    "    contestant_choice = random.randint(0, 2)\n",
    "    \n",
    "    # Monty reveals a door that is not the car and not the contestant's choice\n",
    "    monty_reveal = random.choice([x for x in range(3) if x != contestant_choice and x != car_position])\n",
    "    \n",
    "    # Determine the other unopened door\n",
    "    remaining_door = [x for x in range(3) if x != contestant_choice and x != monty_reveal][0]\n",
    "    \n",
    "    # Check if switching or staying wins\n",
    "    if remaining_door == car_position:\n",
    "        switch_wins += 1\n",
    "        result = \"Switch wins!\"\n",
    "    else:\n",
    "        stay_wins += 1\n",
    "        result = \"Stay wins!\"\n",
    "    \n",
    "    # Print the result for this game\n",
    "    print(f\"Game {i + 1}: Contestant chose {contestant_choice}, Monty revealed {monty_reveal}. {result}\")\n",
    "\n",
    "# Print final tallies\n",
    "print(f\"\\nAfter {n} games: Switch wins = {switch_wins}, Stay wins = {stay_wins}\")\n"
   ]
  },
  {
   "cell_type": "markdown",
   "id": "dcda3788",
   "metadata": {},
   "source": [
    "What's Simplified\n",
    "\n",
    "Less Detail: We only print the contestant’s choice, Monty's reveal, and whether switching or staying won.\n",
    "\n",
    "Shorter Output: The output is more compact, making it easier to follow.\n",
    "\n",
    "Simplified Logic: The logic is stripped down to focus on the main decisions (contestant's choice, Monty’s reveal, switch/stay result)."
   ]
  },
  {
   "cell_type": "markdown",
   "id": "602607ca",
   "metadata": {},
   "source": [
    "Question 3"
   ]
  },
  {
   "cell_type": "code",
   "execution_count": 10,
   "id": "1a9efcdd",
   "metadata": {},
   "outputs": [
    {
     "name": "stdout",
     "output_type": "stream",
     "text": [
      "After 10000 games:\n",
      "Switch wins: 6647\n",
      "Stay wins: 3353\n"
     ]
    }
   ],
   "source": [
    "import random  # Importing the random module to generate random choices\n",
    "\n",
    "n = 10000  # Number of simulations (games)\n",
    "switch_wins = 0  # Counter for wins when the contestant switches doors\n",
    "stay_wins = 0    # Counter for wins when the contestant stays with the original choice\n",
    "\n",
    "# Simulate the game 'n' times\n",
    "for i in range(n):\n",
    "    # Randomly place the car behind one of the three doors (0, 1, or 2)\n",
    "    car_position = random.randint(0, 2)\n",
    "\n",
    "    # Contestant makes their initial choice randomly\n",
    "    contestant_choice = random.randint(0, 2)\n",
    "    \n",
    "    # Monty reveals a door that has a goat (not the car and not the contestant's choice)\n",
    "    monty_reveal = random.choice([x for x in range(3) if x != contestant_choice and x != car_position])\n",
    "    \n",
    "    # Identify the remaining unopened door (the one not chosen by the contestant and not revealed by Monty)\n",
    "    remaining_door = [x for x in range(3) if x != contestant_choice and x != monty_reveal][0]\n",
    "    \n",
    "    # Check if switching would result in a win (i.e., if the remaining door has the car)\n",
    "    if remaining_door == car_position:\n",
    "        switch_wins += 1  # Increment switch win counter if switching leads to the car\n",
    "    else:\n",
    "        stay_wins += 1  # Increment stay win counter if staying with the original choice leads to the car\n",
    "\n",
    "# Print the final results after all games are simulated\n",
    "print(f\"After {n} games:\")\n",
    "print(f\"Switch wins: {switch_wins}\")\n",
    "print(f\"Stay wins: {stay_wins}\")\n",
    "\n"
   ]
  },
  {
   "cell_type": "markdown",
   "id": "02ab3d18",
   "metadata": {},
   "source": [
    "Question 4"
   ]
  },
  {
   "cell_type": "markdown",
   "id": "49bb8d3f",
   "metadata": {},
   "source": [
    "This code displays a YouTube video within a Jupyter notebook using the IPython.display module, allowing the ability to display videos and images in the notebook.\n",
    "\n",
    "IPython.display imports the display module from IPython, which is a Jupyter Notebook component that enables the media to be displayed in notebook cells.\n",
    "\n",
    "YouTubeVideo: This is a function from the IPython.display module that shows a YouTube video by providing the video’s ID. It returns an embedded video player that displays the video in the notebook.\n",
    "\n",
    "When you run the code given in a Jupyter notebook, the YouTube Video function takes the video ID ('56mGTszb_iM') and generates an HTML video player displaying the video in the notebook output.\n",
    "\n",
    "The width parameter defines the width of the video player. The height will be adjusted proportionally."
   ]
  },
  {
   "cell_type": "markdown",
   "id": "42761996",
   "metadata": {},
   "source": [
    "Question 5"
   ]
  },
  {
   "cell_type": "markdown",
   "id": "540508a8",
   "metadata": {},
   "source": [
    "1. \n",
    "\n",
    "defaultdict(nested_dict) builds nested dictionaries used for organizing hierarchical data like video metadata.\n",
    "\n",
    "The YouTube video ID is stored and the width inside the nested dictionary can be used to embed the video.\n",
    "\n",
    "This approach can be extended to store other attributes (like height, title, etc.) and retrietve them for embedding or other purposes.\n",
    "\n",
    "2.\n",
    "\n",
    "Recursive Nesting: defaultdict(nested_dict) allows you to create nested dictionary structures on the fly without having to predefine intermediate keys.\n",
    "\n",
    "Storing Metadata: You store video metadata like ID, width, and title in the data dictionary under the ['video']['meta'] path.\n",
    "\n",
    "Embedding Video: The video metadata is then used to generate a YouTube video player using YouTubeVideo(), which displays the video within a Jupyter notebook.\n",
    "\n",
    "3.\n",
    "ChatGPT was able to identify that this code is a more compact version of the earlier recursive nested_dict() function. It simply states that instead of using def, it uses lambda to achieve the same result. It understood everything the extension does and stated every line of codes purpose. its states both\n",
    "\n",
    "Lambda Version: The nested_dict = lambda: defaultdict(nested_dict) line provides a more concise way to define a recursive defaultdict. It functions identically to the earlier def nested_dict() version but takes fewer lines.\n",
    "\n",
    "1Dynamic Nesting: This lambda-based nested_dict still allows you to create deeply nested dictionaries dynamically, as it recursively returns defaultdict objects for missing keys."
   ]
  },
  {
   "cell_type": "markdown",
   "id": "0ab7c00a",
   "metadata": {},
   "source": [
    "Question 6"
   ]
  },
  {
   "cell_type": "markdown",
   "id": "e5cf3652",
   "metadata": {},
   "source": [
    "1. In each question above, chatGPT was extremely quick, accurate and understanding. It started with looking at each part of the code and listing each line of codes purpose. If the code coould be simplified to make it easier to understand, ChatGPT did it.\n",
    "\n",
    "\n",
    "2. So far in this homework assignment, I have not had any major problems when working with chatGPT. the only things that may be annoying to do with the chatbot is sometimes the code they give me has some parts that arent taught in the course. However, it does explain the part I may not understand even if it wasnt taught.\n",
    "\n",
    "\n",
    "3. If I had to give an overall assessment on how useful the ChatGPT, I would rate it a 8 out of 10. Everything I ask it to do it seems to understand how to do it very well. From all the time Ive used this Chatbot so far, It has only messed up a few times, but is able to fix those problems if asked again."
   ]
  },
  {
   "cell_type": "markdown",
   "id": "17f1284b",
   "metadata": {},
   "source": [
    "Question 7"
   ]
  },
  {
   "cell_type": "markdown",
   "id": "9f97ad26",
   "metadata": {},
   "source": [
    "At first working with chatGPT seems very complicated and I felt I wouldnt be able to learn coding, statistics and data science using it. However, while I still believe I cannot learn from the chatbot alone, listening to the lecture material and using the material to then do my homework assignments makes chatGPT a very useful tool in clarifying and checking my work. I just dont believe I can fully trust the chatbots 100% of the time yet, but after doing my work alongside it, I find it very useful in assisting my learning with coding, statistics and datascience."
   ]
  },
  {
   "cell_type": "markdown",
   "id": "5cd595fe",
   "metadata": {},
   "source": [
    "Question 8"
   ]
  },
  {
   "cell_type": "markdown",
   "id": "d9f5675e",
   "metadata": {},
   "source": [
    "1: \n",
    "\n",
    "Adaptability - Being able to continuously learn new tools technologies and concepts is great for relevant jobs in the modern world. It allows individuals to better adjust to new challenges and opportunities.\n",
    "\n",
    "Communication - Effictive communication is an essential component in almost every profession. in our current era of remote work and global collaboration, the ability to have good communication can be very helpful to problem solve and while working in teams.\n",
    "\n",
    "Coding - a very important skill in technology driven industries. understanding programing helps create software, automate tasks and develop logical problem solviing skills. Coding is great in fields with web development, software engineering, and Ai. Along with these jobs, employees should understand programming to work with new tools and systems that take over jobs that are becoming automated. \n",
    "\n",
    "Statistics and data analysis - The world is data driven. Understanding statistics and data is needed for interpreting infromation and making infromed decisions. This is can be in jobs relating with businesses, health care and social sciences. Data is very useful for developing business stategies to develop on scientific breakthroughs and innovate processes "
   ]
  },
  {
   "cell_type": "markdown",
   "id": "994cd68e",
   "metadata": {},
   "source": [
    "2:\n",
    "\n",
    "ChatGPT says it is highly unlikely to be an effective statistician or data scientist without some level of coding or data analysis skills. In these professions, you must be able to deal with automation, scalability, data cleaning, advanced algorithms and reproducibitity. While knowing these concepts you must be fast in using modern tools and techniques. While all this is true, it is also possible to find a way around the technical aspect. Some work environments have the coding and data preparation handed by those who know the technical methods. Alternatie career paths for this can be non technical data analysts, business analyst and data engineer."
   ]
  },
  {
   "cell_type": "markdown",
   "id": "034ba08a",
   "metadata": {},
   "source": [
    "3: Here's a summary of everything we discussed in the chat:\n",
    "\n",
    "\n",
    "\n",
    "Monty Hall Problem: \n",
    "\n",
    "We explored different ways to implement the Monty Hall problem using Python, focusing on loops and printing results. You requested a simplified and efficient version of the problem, which was explained step by step with comments for clarity.\n",
    "\n",
    "Markov Chains and Text Generation: \n",
    "\n",
    "You shared code embedding a YouTube video and asked for a detailed explanation of how the code works. We discussed how YouTubeVideo is used for embedding, and I explained the role of each line of the code, including metadata handling and recursive defaultdict.\n",
    "\n",
    "Extending Code with defaultdict(nested_dict): \n",
    "\n",
    "You wanted to extend the code using recursive dictionaries. We explored the concept of creating nested dictionaries using defaultdict and lambda functions for efficiency, comparing it to the previous approach. This method allows dynamic creation of nested dictionaries without manual initialization.\n",
    "\n",
    "\n",
    "Importance of Key Skills (Learning, Communication, Coding, Data Analysis):\n",
    "\n",
    "We discussed the relevance of adaptability, communication, coding, and statistics/data analysis skills in the modern world. These skills are essential for staying competitive in a rapidly evolving job market, particularly in tech and data-driven fields. I explained how these skills complement each other and open up a wide range of career opportunities.\n",
    "\n",
    "Can You Be a Statistician or Data Scientist Without Coding or Data Analysis?: \n",
    "\n",
    "You asked if one could be a statistician or data scientist without coding or data analysis. I explained that coding and data analysis are core to these professions. While alternative roles (like business analyst) might not require deep technical skills, being a statistician or data scientist without these skills would be highly limiting.\n",
    "\n",
    "This summary highlights the main points and discussions we've had so far, covering a range of technical and career-related topics.\n",
    "\n",
    "https://chatgpt.com/share/66ec3c2f-4a90-800b-b699-d7e43ff22cad\n",
    "\n",
    "\n",
    "\n",
    "\n",
    "\n",
    "\n",
    "\n",
    "\n",
    "\n",
    "\n",
    "\n",
    "\n",
    "\n",
    "\n"
   ]
  },
  {
   "cell_type": "markdown",
   "id": "6d29258c",
   "metadata": {},
   "source": [
    "4: Right now I dont know for what profession I want to persue. However, I do want to make sure that I can have all the possible choices for when I decide my future career. That is one of the main reasons I took SAT130. Ive learned so much already in this course and I feel like I can get so much out of the course for programing and data professions like software engineers. If I keep up with the material being taught in these homework assignments and lectures, I will learn a decent amount of program, statistics and data science."
   ]
  },
  {
   "cell_type": "markdown",
   "id": "373238d6",
   "metadata": {},
   "source": [
    "5: ChatGPT has only 1 major limitations. I dont like how I have to pay to extend my chatbots chat length, but at least it is my only major limitation in using the chats. To better understand my work, like said in my previous question answers, chatGPT has been a big help in clarifying my work. If I ever have any uncertainities, ChatGPT answers them with lots of details. In pursuing the conversation, I can ask for more examples on the concepts im learning in class and become more familiar to the different types of situations. I feel a expert in the subjects matter might still be better as Chatbots are limited in what they can teach. "
   ]
  },
  {
   "cell_type": "markdown",
   "id": "23baeaff",
   "metadata": {},
   "source": [
    "Question 9"
   ]
  },
  {
   "cell_type": "markdown",
   "id": "3fb39b8e",
   "metadata": {},
   "source": [
    "Yes"
   ]
  }
 ],
 "metadata": {
  "kernelspec": {
   "display_name": "Python 3 (ipykernel)",
   "language": "python",
   "name": "python3"
  },
  "language_info": {
   "codemirror_mode": {
    "name": "ipython",
    "version": 3
   },
   "file_extension": ".py",
   "mimetype": "text/x-python",
   "name": "python",
   "nbconvert_exporter": "python",
   "pygments_lexer": "ipython3",
   "version": "3.11.6"
  }
 },
 "nbformat": 4,
 "nbformat_minor": 5
}
