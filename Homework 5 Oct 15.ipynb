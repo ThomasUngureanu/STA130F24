{
 "cells": [
  {
   "cell_type": "markdown",
   "id": "3233baaa",
   "metadata": {},
   "source": [
    "Question 1"
   ]
  },
  {
   "cell_type": "markdown",
   "id": "fa25cd3e",
   "metadata": {},
   "source": [
    "The key factor in making the difference between iteas that are tested and untestable is measurability. to test statistics, the idea must have variables that can be measured. This allows the ability to collect data, further leading to stastical analysis. ideas that are unquantifiable are not able to be tested because there is no empirical way to evaluate them.\n",
    "\n",
    "Criteria defining a good null hypothesis should have testability, Specificity, Falsifiability and Neutrality.\n",
    "\n",
    "The defference between null an alternative hypotheses is the null hypothesis represents the default position that there is no effect, no difference, or no association between variables while the alternative hypothesis proposes what we seek to demonstrate or support—namely, that there is an effect, difference, or association."
   ]
  },
  {
   "cell_type": "markdown",
   "id": "16a035a2",
   "metadata": {},
   "source": [
    "Question 2"
   ]
  },
  {
   "cell_type": "markdown",
   "id": "a6be9929",
   "metadata": {},
   "source": [
    "xi: are individual data points (like heights of different people).\n",
    "\n",
    "x is the average of those data points (the average height of the people you measured).\n",
    "\n",
    "μ is the true average of the entire population (everyone's height in the world).\n",
    "\n",
    "μu is your estimate of that true average based on your data."
   ]
  },
  {
   "cell_type": "markdown",
   "id": "57d27302",
   "metadata": {},
   "source": [
    "Question 3"
   ]
  },
  {
   "cell_type": "markdown",
   "id": "67c498ed",
   "metadata": {},
   "source": [
    "You calculate the p-value by pretending the null hypothesis is true and then asking, \"If this were the real world, how likely is it that we’d get results like these just by random chance?\" A small p-value suggests the world might not actually work that way, pushing you to consider the alternative hypothesis."
   ]
  },
  {
   "cell_type": "markdown",
   "id": "964c5439",
   "metadata": {},
   "source": [
    "Question 4"
   ]
  },
  {
   "cell_type": "markdown",
   "id": "0229a74b",
   "metadata": {},
   "source": [
    "A smaller p value makes the null hypothesis look more ridiculous because it shows the result observed wouldn't be very likely to happen if the hypothesis was true.\n",
    "P-value: This is a number that tells you how likely it is to get the results you got if the null hypothesis is true. It’s a measure of how much the data conflicts with the assumption that there is no effect or difference.\n",
    "Null Hypothesis: This is the default assumption that there’s no effect or no difference.\n",
    "This makes the null hypothesis seem more absurd, suggesting that there might be a real effect, leading you to consider the alternative hypothesis (that there is an effect or difference"
   ]
  },
  {
   "cell_type": "markdown",
   "id": "1b68c4f0",
   "metadata": {},
   "source": [
    "Question 5"
   ]
  },
  {
   "cell_type": "markdown",
   "id": "b8144eec",
   "metadata": {},
   "source": [
    "Total number of couples: 124\n",
    "Observed number tilting to the right: 80\n",
    "Expected number tilting to the right (under H0): 124/2 = 62\n",
    "\n",
    "To calculate the p-value, we simulate many repetitions of this experiment (flipping 124 \"fair coins\") and count how many times 80 or more couples tilt their heads to the right purely by chance.\n",
    "\n",
    "The p-value is the proportion of simulations where we observe 80 or more couples tilting their heads to the right under the assumption that there's no preference (50/50 chance). The simulated p-value is 0.0006, meaning that if the null hypothesis (no head tilt preference) were true, there is a 0.06% chance of observing 80 or more couples tilting their heads to the right purely by chance.\n",
    "\n",
    "A p-value of 0.0006 suggests that the likelihood of observing such a strong preference (80 out of 124 couples tilting right) under the assumption of no preference is extremely low. Depending on the table of significance levels you refer to, this p-value would typically be considered strong to very strong evidence against H0."
   ]
  },
  {
   "cell_type": "markdown",
   "id": "072cd1fc",
   "metadata": {},
   "source": [
    "Question 6"
   ]
  },
  {
   "cell_type": "markdown",
   "id": "34822ef3",
   "metadata": {},
   "source": [
    "A smaller p-value cannot definitively prove that the null hypothesis is false. it just tells us how unlikely the data would be if the null hypothesis was true. we can’t definitively prove innocence or guilt using a p-value. A high p-value tells us the data is consistent with the null hypothesis, but doesn't prove it. There is no specific p-value that proves anything. Scientific conclusions based on p-values rely on evidence, not definitive proof."
   ]
  },
  {
   "cell_type": "markdown",
   "id": "1afb9d08",
   "metadata": {},
   "source": [
    "Question 7"
   ]
  },
  {
   "cell_type": "markdown",
   "id": "a92c0aa7",
   "metadata": {},
   "source": [
    "Changes in code:\n",
    " the two-tailed p-value is divided by 2 because we're only interested in whether the health scores improved. This reflects the one-tailed nature of the test\n",
    " Interpretation of the one tailed Test:\n",
    " In a one-tailed hypothesis test, we check if the health scores increased. A p-value of 0.0146 indicates that there's a 1.46% chance of observing this level of improvement if the null hypothesis were true.\n",
    " Comparing P value:\n",
    " In a one-tailed test, the p-value is typically smaller compared to a two-tailed test because we're only focusing on one direction, which results in senstivity of the test in that specific direction. This means we are more likely to find a significant result."
   ]
  },
  {
   "cell_type": "code",
   "execution_count": 1,
   "id": "a7838ae0",
   "metadata": {},
   "outputs": [
    {
     "data": {
      "text/plain": [
       "(2.5900615612703937, 0.01460526190774628)"
      ]
     },
     "execution_count": 1,
     "metadata": {},
     "output_type": "execute_result"
    }
   ],
   "source": [
    "import pandas as pd\n",
    "from scipy import stats\n",
    "\n",
    "# Re-create the patient data\n",
    "patient_data = pd.DataFrame({\n",
    "    \"PatientID\": [1, 2, 3, 4, 5, 6, 7, 8, 9, 10],\n",
    "    \"Age\": [45, 34, 29, 52, 37, 41, 33, 48, 26, 39],\n",
    "    \"Gender\": [\"M\", \"F\", \"M\", \"F\", \"M\", \"F\", \"M\", \"F\", \"M\", \"F\"],\n",
    "    \"InitialHealthScore\": [84, 78, 83, 81, 81, 80, 79, 85, 76, 83],\n",
    "    \"FinalHealthScore\": [86, 86, 80, 86, 84, 86, 86, 82, 83, 84]\n",
    "})\n",
    "\n",
    "# Calculate the health score change\n",
    "patient_data['HealthScoreChange'] = patient_data['FinalHealthScore'] - patient_data['InitialHealthScore']\n",
    "\n",
    "# Perform a one-tailed hypothesis test (alternative hypothesis: mean change > 0)\n",
    "# Null hypothesis: mean of HealthScoreChange = 0\n",
    "# Alternative hypothesis: mean of HealthScoreChange > 0\n",
    "mean_change = patient_data['HealthScoreChange'].mean()\n",
    "t_statistic, p_value_two_tailed = stats.ttest_1samp(patient_data['HealthScoreChange'], 0)\n",
    "\n",
    "# For a one-tailed test, divide the two-tailed p-value by 2 (since we are only interested in the positive direction)\n",
    "p_value_one_tailed = p_value_two_tailed / 2 if t_statistic > 0 else 1 - (p_value_two_tailed / 2)\n",
    "\n",
    "# Output the t-statistic and the one-tailed p-value\n",
    "t_statistic, p_value_one_tailed\n"
   ]
  },
  {
   "cell_type": "markdown",
   "id": "0c92b092",
   "metadata": {},
   "source": [
    "Question 8"
   ]
  },
  {
   "cell_type": "markdown",
   "id": "41bb699f",
   "metadata": {},
   "source": [
    "1. Null Hypothesis and Alternative Hypothesis:\n",
    "Null: the students are randomly guessing meaning they have no ability to correctly identify the order of milk and tea. This means the probability of correctly identifying the order is 50%. p = 0.5\n",
    "Alternative: The students can correctly identify the order of milk and tea at a rate higher than random guessing. This means the probability of correctly identifying the order is greater than 50%. p > 0.5\n",
    "\n",
    "2. Type of Test\n",
    "One tailed test\n",
    "\n",
    "3. Test Statstic:\n",
    "Using a binomial test since the response is either correct of incorrect\n",
    "\n",
    "Number of trials (n): 80 students\n",
    "Number of successes (x): 49 students correctly identified the order\n",
    "Probability of success under the null hypothesis (p0):0.5 (since under the null, it's just random guessing).\n",
    "\n",
    "4. Significance Level:\n",
    "Significance level = 0.05 This is the probability threshold below which we will reject the null hypothesis in favor of the alternative.\n",
    "\n",
    "5. P value Calculation:\n",
    "calculate the p-value, which is the probability of observing 49 or more correct answers if the null hypothesis were true (i.e., if the students were randomly guessing).\n",
    "\n",
    "With a p-value of 0.0283, we can say that there is about a 2.83% chance of observing 49 or more correct identifications out of 80 students if they were just randomly guessing.\n",
    "\n",
    "\n",
    "\n"
   ]
  },
  {
   "cell_type": "markdown",
   "id": "6020296d",
   "metadata": {},
   "source": [
    "Question 9"
   ]
  },
  {
   "cell_type": "markdown",
   "id": "c4b3f010",
   "metadata": {},
   "source": [
    "Yes"
   ]
  },
  {
   "cell_type": "markdown",
   "id": "e522231b",
   "metadata": {},
   "source": [
    "Chatbot Link: https://chatgpt.com/share/670f1a2a-0e1c-800b-afc4-110feae329b3 "
   ]
  }
 ],
 "metadata": {
  "kernelspec": {
   "display_name": "Python 3 (ipykernel)",
   "language": "python",
   "name": "python3"
  },
  "language_info": {
   "codemirror_mode": {
    "name": "ipython",
    "version": 3
   },
   "file_extension": ".py",
   "mimetype": "text/x-python",
   "name": "python",
   "nbconvert_exporter": "python",
   "pygments_lexer": "ipython3",
   "version": "3.11.6"
  }
 },
 "nbformat": 4,
 "nbformat_minor": 5
}
